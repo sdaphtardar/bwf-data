{
 "cells": [
  {
   "cell_type": "markdown",
   "metadata": {},
   "source": [
    "# Investigate a Badminton Dataset\n",
    "\n",
    "## Table of Contents\n",
    "<ul>\n",
    "<li><a href=\"#intro\">Introduction</a></li>\n",
    "<li><a href=\"#wrangling\">Data Wrangling</a></li>\n",
    "<li><a href=\"#eda\">Exploratory Data Analysis</a></li>\n",
    "<li><a href=\"#conclusions\">Conclusions</a></li>\n",
    "</ul>"
   ]
  },
  {
   "cell_type": "markdown",
   "metadata": {},
   "source": [
    "<a id='intro'></a>\n",
    "## Introduction\n",
    "\n",
    "This dataset is downloaded from github. https://github.com/sdaphtardar/bwf-data which itself is forked from https://github.com/raywan/bwf-data\n",
    "\n"
   ]
  },
  {
   "cell_type": "markdown",
   "metadata": {},
   "source": [
    "Import general packages and graphing capabilities which will be used in all datasets."
   ]
  },
  {
   "cell_type": "code",
   "execution_count": 17,
   "metadata": {},
   "outputs": [],
   "source": [
    "%matplotlib inline\n",
    "import pandas as pd\n",
    "import numpy as np\n",
    "import matplotlib.pyplot as plt\n",
    "import seaborn as sns\n",
    "import os\n"
   ]
  },
  {
   "cell_type": "markdown",
   "metadata": {},
   "source": [
    "<a id='wrangling'></a>\n",
    "## Data Wrangling\n",
    "\n",
    "> **Tip**: In this section of the report, you will load in the data, check for cleanliness, and then trim and clean your dataset for analysis. Make sure that you document your steps carefully and justify your cleaning decisions.\n",
    "\n",
    "### General Properties"
   ]
  },
  {
   "cell_type": "markdown",
   "metadata": {},
   "source": [
    "## Gather"
   ]
  },
  {
   "cell_type": "markdown",
   "metadata": {},
   "source": [
    "Copy paste following cell to create multiple dataframes for each game type as needed."
   ]
  },
  {
   "cell_type": "markdown",
   "metadata": {},
   "source": [
    "Printing name of each file in directory ws"
   ]
  },
  {
   "cell_type": "code",
   "execution_count": 18,
   "metadata": {},
   "outputs": [],
   "source": [
    "merged_df = pd.DataFrame()"
   ]
  },
  {
   "cell_type": "code",
   "execution_count": 19,
   "metadata": {
    "scrolled": true
   },
   "outputs": [
    {
     "name": "stdout",
     "output_type": "stream",
     "text": [
      "bwf_ws_2015w1.csv\n",
      "bwf_ws_2015w10.csv\n",
      "bwf_ws_2015w11.csv\n",
      "bwf_ws_2015w12.csv\n",
      "bwf_ws_2015w13.csv\n",
      "bwf_ws_2015w14.csv\n",
      "bwf_ws_2015w15.csv\n",
      "bwf_ws_2015w16.csv\n",
      "bwf_ws_2015w17.csv\n",
      "bwf_ws_2015w18.csv\n",
      "bwf_ws_2015w19.csv\n",
      "bwf_ws_2015w2.csv\n",
      "bwf_ws_2015w20.csv\n",
      "bwf_ws_2015w21.csv\n",
      "bwf_ws_2015w22.csv\n",
      "bwf_ws_2015w23.csv\n",
      "bwf_ws_2015w24.csv\n",
      "bwf_ws_2015w25.csv\n",
      "bwf_ws_2015w26.csv\n",
      "bwf_ws_2015w27.csv\n",
      "bwf_ws_2015w28.csv\n",
      "bwf_ws_2015w29.csv\n",
      "bwf_ws_2015w3.csv\n",
      "bwf_ws_2015w30.csv\n",
      "bwf_ws_2015w31.csv\n",
      "bwf_ws_2015w32.csv\n",
      "bwf_ws_2015w33.csv\n",
      "bwf_ws_2015w34.csv\n",
      "bwf_ws_2015w35.csv\n",
      "bwf_ws_2015w36.csv\n",
      "bwf_ws_2015w37.csv\n",
      "bwf_ws_2015w38.csv\n",
      "bwf_ws_2015w39.csv\n",
      "bwf_ws_2015w4.csv\n",
      "bwf_ws_2015w40.csv\n",
      "bwf_ws_2015w41.csv\n",
      "bwf_ws_2015w42.csv\n",
      "bwf_ws_2015w43.csv\n",
      "bwf_ws_2015w44.csv\n",
      "bwf_ws_2015w45.csv\n",
      "bwf_ws_2015w46.csv\n",
      "bwf_ws_2015w47.csv\n",
      "bwf_ws_2015w48.csv\n",
      "bwf_ws_2015w49.csv\n",
      "bwf_ws_2015w5.csv\n",
      "bwf_ws_2015w50.csv\n",
      "bwf_ws_2015w51.csv\n",
      "bwf_ws_2015w52.csv\n",
      "bwf_ws_2015w53.csv\n",
      "bwf_ws_2015w6.csv\n",
      "bwf_ws_2015w7.csv\n",
      "bwf_ws_2015w8.csv\n",
      "bwf_ws_2015w9.csv\n",
      "bwf_ws_2016w1.csv\n",
      "bwf_ws_2016w2.csv\n",
      "bwf_ws_2016w3.csv\n",
      "bwf_ws_2016w4.csv\n",
      "bwf_ws_2016w5.csv\n",
      "bwf_ws_2016w6.csv\n",
      "bwf_ws_2016w7.csv\n"
     ]
    }
   ],
   "source": [
    "for file1 in os.listdir('data/ws'):\n",
    "    print(file1)\n",
    "    temp_df = pd.read_csv('data/ws/'+file1)\n",
    "    merged_df = merged_df.append(temp_df)\n",
    "    \n",
    "    "
   ]
  },
  {
   "cell_type": "code",
   "execution_count": 44,
   "metadata": {},
   "outputs": [
    {
     "data": {
      "text/plain": [
       "(68625, 8)"
      ]
     },
     "execution_count": 44,
     "metadata": {},
     "output_type": "execute_result"
    }
   ],
   "source": [
    "merged_df.shape"
   ]
  },
  {
   "cell_type": "markdown",
   "metadata": {
    "collapsed": true
   },
   "source": [
    "###### Load your data and print out a few lines. Perform operations to inspect data types and look for instances of missing or possibly errant data.\n"
   ]
  },
  {
   "cell_type": "code",
   "execution_count": 45,
   "metadata": {
    "scrolled": true
   },
   "outputs": [
    {
     "data": {
      "text/html": [
       "<div>\n",
       "<style scoped>\n",
       "    .dataframe tbody tr th:only-of-type {\n",
       "        vertical-align: middle;\n",
       "    }\n",
       "\n",
       "    .dataframe tbody tr th {\n",
       "        vertical-align: top;\n",
       "    }\n",
       "\n",
       "    .dataframe thead th {\n",
       "        text-align: right;\n",
       "    }\n",
       "</style>\n",
       "<table border=\"1\" class=\"dataframe\">\n",
       "  <thead>\n",
       "    <tr style=\"text-align: right;\">\n",
       "      <th></th>\n",
       "      <th>Unnamed: 0</th>\n",
       "      <th>RANK</th>\n",
       "      <th>COUNTRY</th>\n",
       "      <th>PLAYER</th>\n",
       "      <th>CHANGE +/-</th>\n",
       "      <th>WIN - LOSE</th>\n",
       "      <th>PRIZE MONEY</th>\n",
       "      <th>POINTS / TOURNAMENTS</th>\n",
       "    </tr>\n",
       "  </thead>\n",
       "  <tbody>\n",
       "    <tr>\n",
       "      <th>118</th>\n",
       "      <td>118</td>\n",
       "      <td>119</td>\n",
       "      <td>RUS</td>\n",
       "      <td>Elena KOMENDROVSKAJA</td>\n",
       "      <td>0</td>\n",
       "      <td>0 - 0</td>\n",
       "      <td>NaN</td>\n",
       "      <td>14,540 / 12</td>\n",
       "    </tr>\n",
       "    <tr>\n",
       "      <th>946</th>\n",
       "      <td>946</td>\n",
       "      <td>947</td>\n",
       "      <td>FRA</td>\n",
       "      <td>Emilie BEAUJEAN</td>\n",
       "      <td>-20</td>\n",
       "      <td>0 - 0</td>\n",
       "      <td>NaN</td>\n",
       "      <td>270 / 2</td>\n",
       "    </tr>\n",
       "    <tr>\n",
       "      <th>18</th>\n",
       "      <td>18</td>\n",
       "      <td>19</td>\n",
       "      <td>THA</td>\n",
       "      <td>Busanan ONGBUMRUNGPHAN</td>\n",
       "      <td>0</td>\n",
       "      <td>131 - 62</td>\n",
       "      <td>$52,695.00</td>\n",
       "      <td>42,937 / 13</td>\n",
       "    </tr>\n",
       "    <tr>\n",
       "      <th>462</th>\n",
       "      <td>462</td>\n",
       "      <td>462</td>\n",
       "      <td>RUS</td>\n",
       "      <td>Olga LIPKINA</td>\n",
       "      <td>-3</td>\n",
       "      <td>0 - 0</td>\n",
       "      <td>NaN</td>\n",
       "      <td>1,810 / 4</td>\n",
       "    </tr>\n",
       "    <tr>\n",
       "      <th>921</th>\n",
       "      <td>921</td>\n",
       "      <td>915</td>\n",
       "      <td>CHN</td>\n",
       "      <td>CHEN Huilin</td>\n",
       "      <td>8</td>\n",
       "      <td>0 - 0</td>\n",
       "      <td>NaN</td>\n",
       "      <td>360 / 1</td>\n",
       "    </tr>\n",
       "  </tbody>\n",
       "</table>\n",
       "</div>"
      ],
      "text/plain": [
       "    Unnamed: 0 RANK COUNTRY                  PLAYER CHANGE +/- WIN - LOSE  \\\n",
       "118        118  119     RUS    Elena KOMENDROVSKAJA          0      0 - 0   \n",
       "946        946  947     FRA         Emilie BEAUJEAN        -20      0 - 0   \n",
       "18          18   19     THA  Busanan ONGBUMRUNGPHAN          0   131 - 62   \n",
       "462        462  462     RUS            Olga LIPKINA         -3      0 - 0   \n",
       "921        921  915     CHN             CHEN Huilin          8      0 - 0   \n",
       "\n",
       "    PRIZE MONEY POINTS / TOURNAMENTS  \n",
       "118         NaN          14,540 / 12  \n",
       "946         NaN              270 / 2  \n",
       "18   $52,695.00          42,937 / 13  \n",
       "462         NaN            1,810 / 4  \n",
       "921         NaN              360 / 1  "
      ]
     },
     "execution_count": 45,
     "metadata": {},
     "output_type": "execute_result"
    }
   ],
   "source": [
    "merged_df.sample(5)"
   ]
  },
  {
   "cell_type": "markdown",
   "metadata": {},
   "source": [
    "## Assess"
   ]
  },
  {
   "cell_type": "markdown",
   "metadata": {},
   "source": [
    "###### perform rudimentary data assessment"
   ]
  },
  {
   "cell_type": "code",
   "execution_count": 26,
   "metadata": {},
   "outputs": [
    {
     "name": "stdout",
     "output_type": "stream",
     "text": [
      "<class 'pandas.core.frame.DataFrame'>\n",
      "Int64Index: 68625 entries, 0 to 1239\n",
      "Data columns (total 8 columns):\n",
      " #   Column                Non-Null Count  Dtype \n",
      "---  ------                --------------  ----- \n",
      " 0   Unnamed: 0            68625 non-null  object\n",
      " 1   RANK                  68625 non-null  object\n",
      " 2   COUNTRY               68625 non-null  object\n",
      " 3   PLAYER                68625 non-null  object\n",
      " 4   CHANGE +/-            68625 non-null  object\n",
      " 5   WIN - LOSE            68625 non-null  object\n",
      " 6   PRIZE MONEY           7890 non-null   object\n",
      " 7   POINTS / TOURNAMENTS  68625 non-null  object\n",
      "dtypes: object(8)\n",
      "memory usage: 4.7+ MB\n"
     ]
    }
   ],
   "source": [
    "merged_df.info()"
   ]
  },
  {
   "cell_type": "code",
   "execution_count": 27,
   "metadata": {},
   "outputs": [
    {
     "data": {
      "text/html": [
       "<div>\n",
       "<style scoped>\n",
       "    .dataframe tbody tr th:only-of-type {\n",
       "        vertical-align: middle;\n",
       "    }\n",
       "\n",
       "    .dataframe tbody tr th {\n",
       "        vertical-align: top;\n",
       "    }\n",
       "\n",
       "    .dataframe thead th {\n",
       "        text-align: right;\n",
       "    }\n",
       "</style>\n",
       "<table border=\"1\" class=\"dataframe\">\n",
       "  <thead>\n",
       "    <tr style=\"text-align: right;\">\n",
       "      <th></th>\n",
       "      <th>Unnamed: 0</th>\n",
       "      <th>RANK</th>\n",
       "      <th>COUNTRY</th>\n",
       "      <th>PLAYER</th>\n",
       "      <th>CHANGE +/-</th>\n",
       "      <th>WIN - LOSE</th>\n",
       "      <th>PRIZE MONEY</th>\n",
       "      <th>POINTS / TOURNAMENTS</th>\n",
       "    </tr>\n",
       "  </thead>\n",
       "  <tbody>\n",
       "    <tr>\n",
       "      <th>count</th>\n",
       "      <td>68625</td>\n",
       "      <td>68625</td>\n",
       "      <td>68625</td>\n",
       "      <td>68625</td>\n",
       "      <td>68625</td>\n",
       "      <td>68625</td>\n",
       "      <td>7890</td>\n",
       "      <td>68625</td>\n",
       "    </tr>\n",
       "    <tr>\n",
       "      <th>unique</th>\n",
       "      <td>1240</td>\n",
       "      <td>1119</td>\n",
       "      <td>117</td>\n",
       "      <td>1677</td>\n",
       "      <td>575</td>\n",
       "      <td>2127</td>\n",
       "      <td>545</td>\n",
       "      <td>5097</td>\n",
       "    </tr>\n",
       "    <tr>\n",
       "      <th>top</th>\n",
       "      <td>619</td>\n",
       "      <td>733</td>\n",
       "      <td>INA</td>\n",
       "      <td>SUN Yu</td>\n",
       "      <td>0</td>\n",
       "      <td>0 - 0</td>\n",
       "      <td>$0.00</td>\n",
       "      <td>550 / 1</td>\n",
       "    </tr>\n",
       "    <tr>\n",
       "      <th>freq</th>\n",
       "      <td>59</td>\n",
       "      <td>667</td>\n",
       "      <td>3209</td>\n",
       "      <td>59</td>\n",
       "      <td>19245</td>\n",
       "      <td>60759</td>\n",
       "      <td>1837</td>\n",
       "      <td>7879</td>\n",
       "    </tr>\n",
       "  </tbody>\n",
       "</table>\n",
       "</div>"
      ],
      "text/plain": [
       "        Unnamed: 0   RANK COUNTRY  PLAYER  CHANGE +/- WIN - LOSE PRIZE MONEY  \\\n",
       "count        68625  68625   68625   68625       68625      68625        7890   \n",
       "unique        1240   1119     117    1677         575       2127         545   \n",
       "top            619    733     INA  SUN Yu           0      0 - 0       $0.00   \n",
       "freq            59    667    3209      59       19245      60759        1837   \n",
       "\n",
       "       POINTS / TOURNAMENTS  \n",
       "count                 68625  \n",
       "unique                 5097  \n",
       "top                 550 / 1  \n",
       "freq                   7879  "
      ]
     },
     "execution_count": 27,
     "metadata": {},
     "output_type": "execute_result"
    }
   ],
   "source": [
    "merged_df.describe()"
   ]
  },
  {
   "cell_type": "code",
   "execution_count": 28,
   "metadata": {},
   "outputs": [
    {
     "data": {
      "text/html": [
       "<div>\n",
       "<style scoped>\n",
       "    .dataframe tbody tr th:only-of-type {\n",
       "        vertical-align: middle;\n",
       "    }\n",
       "\n",
       "    .dataframe tbody tr th {\n",
       "        vertical-align: top;\n",
       "    }\n",
       "\n",
       "    .dataframe thead th {\n",
       "        text-align: right;\n",
       "    }\n",
       "</style>\n",
       "<table border=\"1\" class=\"dataframe\">\n",
       "  <thead>\n",
       "    <tr style=\"text-align: right;\">\n",
       "      <th></th>\n",
       "    </tr>\n",
       "  </thead>\n",
       "  <tbody>\n",
       "  </tbody>\n",
       "</table>\n",
       "</div>"
      ],
      "text/plain": [
       "Empty DataFrame\n",
       "Columns: []\n",
       "Index: []"
      ]
     },
     "execution_count": 28,
     "metadata": {},
     "output_type": "execute_result"
    }
   ],
   "source": [
    "merged_df.corr()"
   ]
  },
  {
   "cell_type": "code",
   "execution_count": 29,
   "metadata": {
    "scrolled": true
   },
   "outputs": [
    {
     "data": {
      "text/html": [
       "<div>\n",
       "<style scoped>\n",
       "    .dataframe tbody tr th:only-of-type {\n",
       "        vertical-align: middle;\n",
       "    }\n",
       "\n",
       "    .dataframe tbody tr th {\n",
       "        vertical-align: top;\n",
       "    }\n",
       "\n",
       "    .dataframe thead th {\n",
       "        text-align: right;\n",
       "    }\n",
       "</style>\n",
       "<table border=\"1\" class=\"dataframe\">\n",
       "  <thead>\n",
       "    <tr style=\"text-align: right;\">\n",
       "      <th></th>\n",
       "      <th>Unnamed: 0</th>\n",
       "      <th>RANK</th>\n",
       "      <th>COUNTRY</th>\n",
       "      <th>PLAYER</th>\n",
       "      <th>CHANGE +/-</th>\n",
       "      <th>WIN - LOSE</th>\n",
       "      <th>PRIZE MONEY</th>\n",
       "      <th>POINTS / TOURNAMENTS</th>\n",
       "    </tr>\n",
       "  </thead>\n",
       "  <tbody>\n",
       "    <tr>\n",
       "      <th>468</th>\n",
       "      <td>468</td>\n",
       "      <td>466</td>\n",
       "      <td>CHN</td>\n",
       "      <td>CHEN Xiao Jia</td>\n",
       "      <td>-184</td>\n",
       "      <td>0 - 0</td>\n",
       "      <td>NaN</td>\n",
       "      <td>1,670 / 1</td>\n",
       "    </tr>\n",
       "    <tr>\n",
       "      <th>1100</th>\n",
       "      <td>1100</td>\n",
       "      <td>1081</td>\n",
       "      <td>BUL</td>\n",
       "      <td>Selin BAKALOVA</td>\n",
       "      <td>7</td>\n",
       "      <td>0 - 0</td>\n",
       "      <td>NaN</td>\n",
       "      <td>170 / 1</td>\n",
       "    </tr>\n",
       "    <tr>\n",
       "      <th>1163</th>\n",
       "      <td>1163</td>\n",
       "      <td>1143</td>\n",
       "      <td>POL</td>\n",
       "      <td>Agata ISKRA</td>\n",
       "      <td>-5</td>\n",
       "      <td>0 - 0</td>\n",
       "      <td>NaN</td>\n",
       "      <td>100 / 1</td>\n",
       "    </tr>\n",
       "    <tr>\n",
       "      <th>303</th>\n",
       "      <td>303</td>\n",
       "      <td>304</td>\n",
       "      <td>CRO</td>\n",
       "      <td>Katarina GALENIC</td>\n",
       "      <td>-3</td>\n",
       "      <td>0 - 0</td>\n",
       "      <td>NaN</td>\n",
       "      <td>3,470 / 6</td>\n",
       "    </tr>\n",
       "    <tr>\n",
       "      <th>631</th>\n",
       "      <td>631</td>\n",
       "      <td>559</td>\n",
       "      <td>ETH</td>\n",
       "      <td>TADESSE Samrawit</td>\n",
       "      <td>-6</td>\n",
       "      <td>0 - 0</td>\n",
       "      <td>NaN</td>\n",
       "      <td>920 / 1</td>\n",
       "    </tr>\n",
       "  </tbody>\n",
       "</table>\n",
       "</div>"
      ],
      "text/plain": [
       "     Unnamed: 0  RANK COUNTRY            PLAYER CHANGE +/- WIN - LOSE  \\\n",
       "468         468   466     CHN     CHEN Xiao Jia       -184      0 - 0   \n",
       "1100       1100  1081     BUL    Selin BAKALOVA          7      0 - 0   \n",
       "1163       1163  1143     POL       Agata ISKRA         -5      0 - 0   \n",
       "303         303   304     CRO  Katarina GALENIC         -3      0 - 0   \n",
       "631         631   559     ETH  TADESSE Samrawit         -6      0 - 0   \n",
       "\n",
       "     PRIZE MONEY POINTS / TOURNAMENTS  \n",
       "468          NaN            1,670 / 1  \n",
       "1100         NaN              170 / 1  \n",
       "1163         NaN              100 / 1  \n",
       "303          NaN            3,470 / 6  \n",
       "631          NaN              920 / 1  "
      ]
     },
     "execution_count": 29,
     "metadata": {},
     "output_type": "execute_result"
    }
   ],
   "source": [
    "merged_df.sample(5)"
   ]
  },
  {
   "cell_type": "markdown",
   "metadata": {},
   "source": [
    "###### List of issues you identiefied using rudimentry assessment"
   ]
  },
  {
   "cell_type": "markdown",
   "metadata": {},
   "source": [
    "1. Extra column of index present at first location\n",
    "2. Rank column is in object datatype, it should be int\n",
    "3. Change +/- is in object datatype, it should be int\n",
    "4. WIN - LOSE should be split in 2 different columns with int datatype\n",
    "5. PRIZE MONEY is in object datatype, it should be int\n",
    "6. POINTS / TOURNAMENTS should be split in 2 different columns with int datatype\n",
    "7. All column names should be lower case with underscore (_) as separator"
   ]
  },
  {
   "cell_type": "markdown",
   "metadata": {},
   "source": [
    "### Cleaning above issues first so that I can continue with rest of the assessment"
   ]
  },
  {
   "cell_type": "markdown",
   "metadata": {},
   "source": [
    "###### Define - Extra column of index present at first location. SOlution to this issue is to simply drop that column"
   ]
  },
  {
   "cell_type": "markdown",
   "metadata": {},
   "source": [
    "###### Code"
   ]
  },
  {
   "cell_type": "code",
   "execution_count": 251,
   "metadata": {},
   "outputs": [],
   "source": [
    "df=merged_df.copy()"
   ]
  },
  {
   "cell_type": "code",
   "execution_count": 252,
   "metadata": {},
   "outputs": [
    {
     "data": {
      "text/plain": [
       "(68625, 8)"
      ]
     },
     "execution_count": 252,
     "metadata": {},
     "output_type": "execute_result"
    }
   ],
   "source": [
    "df.shape"
   ]
  },
  {
   "cell_type": "code",
   "execution_count": 253,
   "metadata": {},
   "outputs": [
    {
     "data": {
      "text/plain": [
       "array(['Unnamed: 0', 'RANK', 'COUNTRY', 'PLAYER', 'CHANGE +/-',\n",
       "       'WIN - LOSE', 'PRIZE MONEY', 'POINTS / TOURNAMENTS'], dtype=object)"
      ]
     },
     "execution_count": 253,
     "metadata": {},
     "output_type": "execute_result"
    }
   ],
   "source": [
    "df.columns.values"
   ]
  },
  {
   "cell_type": "code",
   "execution_count": 254,
   "metadata": {},
   "outputs": [],
   "source": [
    "df=df.drop(['Unnamed: 0'], axis=1)"
   ]
  },
  {
   "cell_type": "markdown",
   "metadata": {},
   "source": [
    "Test"
   ]
  },
  {
   "cell_type": "code",
   "execution_count": 255,
   "metadata": {},
   "outputs": [
    {
     "data": {
      "text/plain": [
       "(68625, 7)"
      ]
     },
     "execution_count": 255,
     "metadata": {},
     "output_type": "execute_result"
    }
   ],
   "source": [
    "df.shape"
   ]
  },
  {
   "cell_type": "markdown",
   "metadata": {},
   "source": [
    "###### ---------------------------------------------------------------------------------------------"
   ]
  },
  {
   "cell_type": "markdown",
   "metadata": {},
   "source": [
    "###### Define - Rank column is in object datatype, it should be int. Solution is to change the datatype of the column using astype('int')"
   ]
  },
  {
   "cell_type": "markdown",
   "metadata": {},
   "source": [
    "###### Code"
   ]
  },
  {
   "cell_type": "code",
   "execution_count": 256,
   "metadata": {},
   "outputs": [
    {
     "data": {
      "text/plain": [
       "RANK                    object\n",
       "COUNTRY                 object\n",
       "PLAYER                  object\n",
       "CHANGE +/-              object\n",
       "WIN - LOSE              object\n",
       "PRIZE MONEY             object\n",
       "POINTS / TOURNAMENTS    object\n",
       "dtype: object"
      ]
     },
     "execution_count": 256,
     "metadata": {},
     "output_type": "execute_result"
    }
   ],
   "source": [
    "df.dtypes"
   ]
  },
  {
   "cell_type": "code",
   "execution_count": 257,
   "metadata": {},
   "outputs": [
    {
     "data": {
      "text/plain": [
       "dtype('O')"
      ]
     },
     "execution_count": 257,
     "metadata": {},
     "output_type": "execute_result"
    }
   ],
   "source": [
    "df['RANK'].dtype"
   ]
  },
  {
   "cell_type": "code",
   "execution_count": 258,
   "metadata": {},
   "outputs": [],
   "source": [
    "df['RANK']=df['RANK'].astype('int32')"
   ]
  },
  {
   "cell_type": "markdown",
   "metadata": {},
   "source": [
    "Test"
   ]
  },
  {
   "cell_type": "code",
   "execution_count": 259,
   "metadata": {},
   "outputs": [
    {
     "data": {
      "text/plain": [
       "dtype('int32')"
      ]
     },
     "execution_count": 259,
     "metadata": {},
     "output_type": "execute_result"
    }
   ],
   "source": [
    "df['RANK'].dtype"
   ]
  },
  {
   "cell_type": "markdown",
   "metadata": {},
   "source": [
    "###### ---------------------------------------------------------------------------------------------"
   ]
  },
  {
   "cell_type": "markdown",
   "metadata": {},
   "source": [
    "###### Define - Change +/- column is in object datatype, it should be int. Solution is to change the datatype of the column using astype('int')"
   ]
  },
  {
   "cell_type": "markdown",
   "metadata": {},
   "source": [
    "###### Code"
   ]
  },
  {
   "cell_type": "code",
   "execution_count": 260,
   "metadata": {},
   "outputs": [
    {
     "data": {
      "text/plain": [
       "RANK                     int32\n",
       "COUNTRY                 object\n",
       "PLAYER                  object\n",
       "CHANGE +/-              object\n",
       "WIN - LOSE              object\n",
       "PRIZE MONEY             object\n",
       "POINTS / TOURNAMENTS    object\n",
       "dtype: object"
      ]
     },
     "execution_count": 260,
     "metadata": {},
     "output_type": "execute_result"
    }
   ],
   "source": [
    "df.dtypes"
   ]
  },
  {
   "cell_type": "code",
   "execution_count": 261,
   "metadata": {},
   "outputs": [
    {
     "data": {
      "text/plain": [
       "array(['RANK', 'COUNTRY', 'PLAYER', 'CHANGE +/-', 'WIN - LOSE',\n",
       "       'PRIZE MONEY', 'POINTS / TOURNAMENTS'], dtype=object)"
      ]
     },
     "execution_count": 261,
     "metadata": {},
     "output_type": "execute_result"
    }
   ],
   "source": [
    "df.columns.values"
   ]
  },
  {
   "cell_type": "code",
   "execution_count": 262,
   "metadata": {},
   "outputs": [
    {
     "data": {
      "text/plain": [
       "dtype('O')"
      ]
     },
     "execution_count": 262,
     "metadata": {},
     "output_type": "execute_result"
    }
   ],
   "source": [
    "df['CHANGE +/-'].dtype"
   ]
  },
  {
   "cell_type": "code",
   "execution_count": 263,
   "metadata": {},
   "outputs": [],
   "source": [
    "df['CHANGE +/-']=df['CHANGE +/-'].astype('int32')"
   ]
  },
  {
   "cell_type": "markdown",
   "metadata": {},
   "source": [
    "###### Test"
   ]
  },
  {
   "cell_type": "code",
   "execution_count": 264,
   "metadata": {},
   "outputs": [
    {
     "data": {
      "text/plain": [
       "dtype('int32')"
      ]
     },
     "execution_count": 264,
     "metadata": {},
     "output_type": "execute_result"
    }
   ],
   "source": [
    "df['CHANGE +/-'].dtype"
   ]
  },
  {
   "cell_type": "markdown",
   "metadata": {},
   "source": [
    "###### ---------------------------------------------------------------------------------------------"
   ]
  },
  {
   "cell_type": "markdown",
   "metadata": {},
   "source": [
    "###### Define - WIN - LOSE column should be split in 2 different columns with int data type"
   ]
  },
  {
   "cell_type": "markdown",
   "metadata": {},
   "source": [
    "###### Code"
   ]
  },
  {
   "cell_type": "code",
   "execution_count": 265,
   "metadata": {},
   "outputs": [
    {
     "data": {
      "text/plain": [
       "array(['RANK', 'COUNTRY', 'PLAYER', 'CHANGE +/-', 'WIN - LOSE',\n",
       "       'PRIZE MONEY', 'POINTS / TOURNAMENTS'], dtype=object)"
      ]
     },
     "execution_count": 265,
     "metadata": {},
     "output_type": "execute_result"
    }
   ],
   "source": [
    "df.columns.values"
   ]
  },
  {
   "cell_type": "code",
   "execution_count": 266,
   "metadata": {},
   "outputs": [
    {
     "data": {
      "text/plain": [
       "188     18 - 27\n",
       "177       0 - 0\n",
       "1069      0 - 0\n",
       "606       0 - 0\n",
       "285       0 - 0\n",
       "109       0 - 0\n",
       "463       0 - 0\n",
       "Name: WIN - LOSE, dtype: object"
      ]
     },
     "execution_count": 266,
     "metadata": {},
     "output_type": "execute_result"
    }
   ],
   "source": [
    "df['WIN - LOSE'].sample(7)"
   ]
  },
  {
   "cell_type": "code",
   "execution_count": 267,
   "metadata": {},
   "outputs": [
    {
     "data": {
      "text/html": [
       "<div>\n",
       "<style scoped>\n",
       "    .dataframe tbody tr th:only-of-type {\n",
       "        vertical-align: middle;\n",
       "    }\n",
       "\n",
       "    .dataframe tbody tr th {\n",
       "        vertical-align: top;\n",
       "    }\n",
       "\n",
       "    .dataframe thead th {\n",
       "        text-align: right;\n",
       "    }\n",
       "</style>\n",
       "<table border=\"1\" class=\"dataframe\">\n",
       "  <thead>\n",
       "    <tr style=\"text-align: right;\">\n",
       "      <th></th>\n",
       "      <th>RANK</th>\n",
       "      <th>COUNTRY</th>\n",
       "      <th>PLAYER</th>\n",
       "      <th>CHANGE +/-</th>\n",
       "      <th>WIN - LOSE</th>\n",
       "      <th>PRIZE MONEY</th>\n",
       "      <th>POINTS / TOURNAMENTS</th>\n",
       "    </tr>\n",
       "  </thead>\n",
       "  <tbody>\n",
       "    <tr>\n",
       "      <th>698</th>\n",
       "      <td>631</td>\n",
       "      <td>ETH</td>\n",
       "      <td>AFEWORK Rakeb</td>\n",
       "      <td>3</td>\n",
       "      <td>0 - 0</td>\n",
       "      <td>NaN</td>\n",
       "      <td>920 / 1</td>\n",
       "    </tr>\n",
       "    <tr>\n",
       "      <th>259</th>\n",
       "      <td>260</td>\n",
       "      <td>UKR</td>\n",
       "      <td>Maryna ILYINSKAYA</td>\n",
       "      <td>2</td>\n",
       "      <td>0 - 0</td>\n",
       "      <td>NaN</td>\n",
       "      <td>4,750 / 7</td>\n",
       "    </tr>\n",
       "    <tr>\n",
       "      <th>1077</th>\n",
       "      <td>1077</td>\n",
       "      <td>TUR</td>\n",
       "      <td>Basak KILIC</td>\n",
       "      <td>0</td>\n",
       "      <td>0 - 0</td>\n",
       "      <td>NaN</td>\n",
       "      <td>100 / 1</td>\n",
       "    </tr>\n",
       "    <tr>\n",
       "      <th>167</th>\n",
       "      <td>168</td>\n",
       "      <td>IND</td>\n",
       "      <td>Lalita DAHIYA</td>\n",
       "      <td>18</td>\n",
       "      <td>0 - 0</td>\n",
       "      <td>NaN</td>\n",
       "      <td>9,120 / 11</td>\n",
       "    </tr>\n",
       "    <tr>\n",
       "      <th>296</th>\n",
       "      <td>297</td>\n",
       "      <td>BAR</td>\n",
       "      <td>Sabrina SCOTT</td>\n",
       "      <td>6</td>\n",
       "      <td>0 - 0</td>\n",
       "      <td>NaN</td>\n",
       "      <td>3,720 / 4</td>\n",
       "    </tr>\n",
       "    <tr>\n",
       "      <th>814</th>\n",
       "      <td>701</td>\n",
       "      <td>MRI</td>\n",
       "      <td>Sheem SANDOOYEEA</td>\n",
       "      <td>5</td>\n",
       "      <td>0 - 0</td>\n",
       "      <td>NaN</td>\n",
       "      <td>550 / 1</td>\n",
       "    </tr>\n",
       "    <tr>\n",
       "      <th>226</th>\n",
       "      <td>227</td>\n",
       "      <td>INA</td>\n",
       "      <td>Intan Dwi JAYANTI</td>\n",
       "      <td>0</td>\n",
       "      <td>0 - 0</td>\n",
       "      <td>NaN</td>\n",
       "      <td>5,750 / 4</td>\n",
       "    </tr>\n",
       "  </tbody>\n",
       "</table>\n",
       "</div>"
      ],
      "text/plain": [
       "      RANK COUNTRY             PLAYER  CHANGE +/- WIN - LOSE PRIZE MONEY  \\\n",
       "698    631     ETH      AFEWORK Rakeb           3      0 - 0         NaN   \n",
       "259    260     UKR  Maryna ILYINSKAYA           2      0 - 0         NaN   \n",
       "1077  1077     TUR        Basak KILIC           0      0 - 0         NaN   \n",
       "167    168     IND      Lalita DAHIYA          18      0 - 0         NaN   \n",
       "296    297     BAR      Sabrina SCOTT           6      0 - 0         NaN   \n",
       "814    701     MRI   Sheem SANDOOYEEA           5      0 - 0         NaN   \n",
       "226    227     INA  Intan Dwi JAYANTI           0      0 - 0         NaN   \n",
       "\n",
       "     POINTS / TOURNAMENTS  \n",
       "698               920 / 1  \n",
       "259             4,750 / 7  \n",
       "1077              100 / 1  \n",
       "167            9,120 / 11  \n",
       "296             3,720 / 4  \n",
       "814               550 / 1  \n",
       "226             5,750 / 4  "
      ]
     },
     "execution_count": 267,
     "metadata": {},
     "output_type": "execute_result"
    }
   ],
   "source": [
    "df.sample(7)"
   ]
  },
  {
   "cell_type": "code",
   "execution_count": 268,
   "metadata": {},
   "outputs": [
    {
     "data": {
      "text/html": [
       "<div>\n",
       "<style scoped>\n",
       "    .dataframe tbody tr th:only-of-type {\n",
       "        vertical-align: middle;\n",
       "    }\n",
       "\n",
       "    .dataframe tbody tr th {\n",
       "        vertical-align: top;\n",
       "    }\n",
       "\n",
       "    .dataframe thead th {\n",
       "        text-align: right;\n",
       "    }\n",
       "</style>\n",
       "<table border=\"1\" class=\"dataframe\">\n",
       "  <thead>\n",
       "    <tr style=\"text-align: right;\">\n",
       "      <th></th>\n",
       "      <th>RANK</th>\n",
       "      <th>COUNTRY</th>\n",
       "      <th>PLAYER</th>\n",
       "      <th>CHANGE +/-</th>\n",
       "      <th>WIN - LOSE</th>\n",
       "      <th>PRIZE MONEY</th>\n",
       "      <th>POINTS / TOURNAMENTS</th>\n",
       "    </tr>\n",
       "  </thead>\n",
       "  <tbody>\n",
       "    <tr>\n",
       "      <th>0</th>\n",
       "      <td>1</td>\n",
       "      <td>CHN</td>\n",
       "      <td>LI Xuerui</td>\n",
       "      <td>0</td>\n",
       "      <td>221 - 46</td>\n",
       "      <td>$626,110.00</td>\n",
       "      <td>95,244 / 10</td>\n",
       "    </tr>\n",
       "    <tr>\n",
       "      <th>1</th>\n",
       "      <td>2</td>\n",
       "      <td>CHN</td>\n",
       "      <td>WANG Shixian</td>\n",
       "      <td>0</td>\n",
       "      <td>220 - 64</td>\n",
       "      <td>$658,775.00</td>\n",
       "      <td>82,677 / 15</td>\n",
       "    </tr>\n",
       "    <tr>\n",
       "      <th>2</th>\n",
       "      <td>3</td>\n",
       "      <td>CHN</td>\n",
       "      <td>WANG Yihan</td>\n",
       "      <td>0</td>\n",
       "      <td>307 - 71</td>\n",
       "      <td>$738,865.50</td>\n",
       "      <td>75,611 / 15</td>\n",
       "    </tr>\n",
       "    <tr>\n",
       "      <th>3</th>\n",
       "      <td>4</td>\n",
       "      <td>IND</td>\n",
       "      <td>Saina NEHWAL</td>\n",
       "      <td>0</td>\n",
       "      <td>278 - 124</td>\n",
       "      <td>$570,610.00</td>\n",
       "      <td>71,081 / 15</td>\n",
       "    </tr>\n",
       "    <tr>\n",
       "      <th>4</th>\n",
       "      <td>5</td>\n",
       "      <td>KOR</td>\n",
       "      <td>SUNG Ji Hyun</td>\n",
       "      <td>0</td>\n",
       "      <td>191 - 101</td>\n",
       "      <td>$298,365.00</td>\n",
       "      <td>70,124 / 17</td>\n",
       "    </tr>\n",
       "    <tr>\n",
       "      <th>5</th>\n",
       "      <td>6</td>\n",
       "      <td>THA</td>\n",
       "      <td>Ratchanok INTANON</td>\n",
       "      <td>0</td>\n",
       "      <td>194 - 93</td>\n",
       "      <td>$295,955.00</td>\n",
       "      <td>65,142 / 15</td>\n",
       "    </tr>\n",
       "    <tr>\n",
       "      <th>6</th>\n",
       "      <td>7</td>\n",
       "      <td>TPE</td>\n",
       "      <td>TAI Tzu Ying</td>\n",
       "      <td>0</td>\n",
       "      <td>163 - 97</td>\n",
       "      <td>$226,905.00</td>\n",
       "      <td>64,608 / 17</td>\n",
       "    </tr>\n",
       "  </tbody>\n",
       "</table>\n",
       "</div>"
      ],
      "text/plain": [
       "   RANK COUNTRY             PLAYER  CHANGE +/- WIN - LOSE  PRIZE MONEY  \\\n",
       "0     1     CHN          LI Xuerui           0   221 - 46  $626,110.00   \n",
       "1     2     CHN       WANG Shixian           0   220 - 64  $658,775.00   \n",
       "2     3     CHN         WANG Yihan           0   307 - 71  $738,865.50   \n",
       "3     4     IND       Saina NEHWAL           0  278 - 124  $570,610.00   \n",
       "4     5     KOR       SUNG Ji Hyun           0  191 - 101  $298,365.00   \n",
       "5     6     THA  Ratchanok INTANON           0   194 - 93  $295,955.00   \n",
       "6     7     TPE       TAI Tzu Ying           0   163 - 97  $226,905.00   \n",
       "\n",
       "  POINTS / TOURNAMENTS  \n",
       "0          95,244 / 10  \n",
       "1          82,677 / 15  \n",
       "2          75,611 / 15  \n",
       "3          71,081 / 15  \n",
       "4          70,124 / 17  \n",
       "5          65,142 / 15  \n",
       "6          64,608 / 17  "
      ]
     },
     "execution_count": 268,
     "metadata": {},
     "output_type": "execute_result"
    }
   ],
   "source": [
    "df.head(7)"
   ]
  },
  {
   "cell_type": "code",
   "execution_count": 269,
   "metadata": {},
   "outputs": [
    {
     "data": {
      "text/plain": [
       "68625"
      ]
     },
     "execution_count": 269,
     "metadata": {},
     "output_type": "execute_result"
    }
   ],
   "source": [
    "len(df['WIN - LOSE'].str.split('-'))"
   ]
  },
  {
   "cell_type": "code",
   "execution_count": 270,
   "metadata": {},
   "outputs": [
    {
     "data": {
      "text/plain": [
       "pandas.core.series.Series"
      ]
     },
     "execution_count": 270,
     "metadata": {},
     "output_type": "execute_result"
    }
   ],
   "source": [
    "type(df['WIN - LOSE'].str.split('-'))"
   ]
  },
  {
   "cell_type": "code",
   "execution_count": 271,
   "metadata": {},
   "outputs": [],
   "source": [
    "df_test=pd.DataFrame()"
   ]
  },
  {
   "cell_type": "code",
   "execution_count": 272,
   "metadata": {},
   "outputs": [],
   "source": [
    "df_test=df['WIN - LOSE'].str.split('-')"
   ]
  },
  {
   "cell_type": "code",
   "execution_count": 273,
   "metadata": {},
   "outputs": [
    {
     "data": {
      "text/plain": [
       "(68625,)"
      ]
     },
     "execution_count": 273,
     "metadata": {},
     "output_type": "execute_result"
    }
   ],
   "source": [
    "df_test.shape"
   ]
  },
  {
   "cell_type": "code",
   "execution_count": 274,
   "metadata": {},
   "outputs": [
    {
     "data": {
      "text/plain": [
       "['221 ', ' 46']"
      ]
     },
     "execution_count": 274,
     "metadata": {},
     "output_type": "execute_result"
    }
   ],
   "source": [
    "df_test[0:1][0]"
   ]
  },
  {
   "cell_type": "code",
   "execution_count": 275,
   "metadata": {},
   "outputs": [
    {
     "data": {
      "text/plain": [
       "'221 '"
      ]
     },
     "execution_count": 275,
     "metadata": {},
     "output_type": "execute_result"
    }
   ],
   "source": [
    "df_test[0:1][0][0]"
   ]
  },
  {
   "cell_type": "code",
   "execution_count": 276,
   "metadata": {},
   "outputs": [
    {
     "data": {
      "text/plain": [
       "' 46'"
      ]
     },
     "execution_count": 276,
     "metadata": {},
     "output_type": "execute_result"
    }
   ],
   "source": [
    "df_test[0:1][0][1]"
   ]
  },
  {
   "cell_type": "code",
   "execution_count": 277,
   "metadata": {},
   "outputs": [],
   "source": [
    "df['win']=df_test.map(lambda x:x[0])"
   ]
  },
  {
   "cell_type": "code",
   "execution_count": 278,
   "metadata": {},
   "outputs": [],
   "source": [
    "df['loss']=df_test.map(lambda x:x[1])"
   ]
  },
  {
   "cell_type": "code",
   "execution_count": 279,
   "metadata": {},
   "outputs": [],
   "source": [
    "df['win']=df['win'].astype('int32')"
   ]
  },
  {
   "cell_type": "code",
   "execution_count": 280,
   "metadata": {},
   "outputs": [],
   "source": [
    "df['loss']=df['loss'].astype('int32')"
   ]
  },
  {
   "cell_type": "markdown",
   "metadata": {},
   "source": [
    "###### Test"
   ]
  },
  {
   "cell_type": "code",
   "execution_count": 281,
   "metadata": {},
   "outputs": [
    {
     "data": {
      "text/plain": [
       "RANK                     int32\n",
       "COUNTRY                 object\n",
       "PLAYER                  object\n",
       "CHANGE +/-               int32\n",
       "WIN - LOSE              object\n",
       "PRIZE MONEY             object\n",
       "POINTS / TOURNAMENTS    object\n",
       "win                      int32\n",
       "loss                     int32\n",
       "dtype: object"
      ]
     },
     "execution_count": 281,
     "metadata": {},
     "output_type": "execute_result"
    }
   ],
   "source": [
    "df.dtypes"
   ]
  },
  {
   "cell_type": "code",
   "execution_count": 284,
   "metadata": {},
   "outputs": [
    {
     "data": {
      "text/html": [
       "<div>\n",
       "<style scoped>\n",
       "    .dataframe tbody tr th:only-of-type {\n",
       "        vertical-align: middle;\n",
       "    }\n",
       "\n",
       "    .dataframe tbody tr th {\n",
       "        vertical-align: top;\n",
       "    }\n",
       "\n",
       "    .dataframe thead th {\n",
       "        text-align: right;\n",
       "    }\n",
       "</style>\n",
       "<table border=\"1\" class=\"dataframe\">\n",
       "  <thead>\n",
       "    <tr style=\"text-align: right;\">\n",
       "      <th></th>\n",
       "      <th>RANK</th>\n",
       "      <th>COUNTRY</th>\n",
       "      <th>PLAYER</th>\n",
       "      <th>CHANGE +/-</th>\n",
       "      <th>WIN - LOSE</th>\n",
       "      <th>PRIZE MONEY</th>\n",
       "      <th>POINTS / TOURNAMENTS</th>\n",
       "      <th>win</th>\n",
       "      <th>loss</th>\n",
       "    </tr>\n",
       "  </thead>\n",
       "  <tbody>\n",
       "    <tr>\n",
       "      <th>672</th>\n",
       "      <td>673</td>\n",
       "      <td>GRE</td>\n",
       "      <td>Ioanna KARAPETRIDOU</td>\n",
       "      <td>-9</td>\n",
       "      <td>0 - 0</td>\n",
       "      <td>NaN</td>\n",
       "      <td>880 / 4</td>\n",
       "      <td>0</td>\n",
       "      <td>0</td>\n",
       "    </tr>\n",
       "    <tr>\n",
       "      <th>946</th>\n",
       "      <td>931</td>\n",
       "      <td>MRI</td>\n",
       "      <td>Shania LEUNG</td>\n",
       "      <td>-10</td>\n",
       "      <td>0 - 0</td>\n",
       "      <td>NaN</td>\n",
       "      <td>210 / 1</td>\n",
       "      <td>0</td>\n",
       "      <td>0</td>\n",
       "    </tr>\n",
       "    <tr>\n",
       "      <th>943</th>\n",
       "      <td>933</td>\n",
       "      <td>GRE</td>\n",
       "      <td>Angeliki GEORGIADOU</td>\n",
       "      <td>-2</td>\n",
       "      <td>0 - 0</td>\n",
       "      <td>NaN</td>\n",
       "      <td>210 / 1</td>\n",
       "      <td>0</td>\n",
       "      <td>0</td>\n",
       "    </tr>\n",
       "    <tr>\n",
       "      <th>821</th>\n",
       "      <td>723</td>\n",
       "      <td>CZE</td>\n",
       "      <td>Marcela RUZICKA</td>\n",
       "      <td>0</td>\n",
       "      <td>0 - 0</td>\n",
       "      <td>NaN</td>\n",
       "      <td>550 / 1</td>\n",
       "      <td>0</td>\n",
       "      <td>0</td>\n",
       "    </tr>\n",
       "    <tr>\n",
       "      <th>992</th>\n",
       "      <td>991</td>\n",
       "      <td>EST</td>\n",
       "      <td>Mari Ann KARJUS</td>\n",
       "      <td>29</td>\n",
       "      <td>0 - 0</td>\n",
       "      <td>NaN</td>\n",
       "      <td>120 / 2</td>\n",
       "      <td>0</td>\n",
       "      <td>0</td>\n",
       "    </tr>\n",
       "    <tr>\n",
       "      <th>568</th>\n",
       "      <td>557</td>\n",
       "      <td>NZL</td>\n",
       "      <td>Maysell DOWNEY</td>\n",
       "      <td>0</td>\n",
       "      <td>0 - 0</td>\n",
       "      <td>NaN</td>\n",
       "      <td>1,290 / 1</td>\n",
       "      <td>0</td>\n",
       "      <td>0</td>\n",
       "    </tr>\n",
       "    <tr>\n",
       "      <th>542</th>\n",
       "      <td>542</td>\n",
       "      <td>NZL</td>\n",
       "      <td>Christine ZHANG</td>\n",
       "      <td>7</td>\n",
       "      <td>0 - 0</td>\n",
       "      <td>NaN</td>\n",
       "      <td>1,240 / 2</td>\n",
       "      <td>0</td>\n",
       "      <td>0</td>\n",
       "    </tr>\n",
       "  </tbody>\n",
       "</table>\n",
       "</div>"
      ],
      "text/plain": [
       "     RANK COUNTRY               PLAYER  CHANGE +/- WIN - LOSE PRIZE MONEY  \\\n",
       "672   673     GRE  Ioanna KARAPETRIDOU          -9      0 - 0         NaN   \n",
       "946   931     MRI         Shania LEUNG         -10      0 - 0         NaN   \n",
       "943   933     GRE  Angeliki GEORGIADOU          -2      0 - 0         NaN   \n",
       "821   723     CZE      Marcela RUZICKA           0      0 - 0         NaN   \n",
       "992   991     EST      Mari Ann KARJUS          29      0 - 0         NaN   \n",
       "568   557     NZL       Maysell DOWNEY           0      0 - 0         NaN   \n",
       "542   542     NZL      Christine ZHANG           7      0 - 0         NaN   \n",
       "\n",
       "    POINTS / TOURNAMENTS  win  loss  \n",
       "672              880 / 4    0     0  \n",
       "946              210 / 1    0     0  \n",
       "943              210 / 1    0     0  \n",
       "821              550 / 1    0     0  \n",
       "992              120 / 2    0     0  \n",
       "568            1,290 / 1    0     0  \n",
       "542            1,240 / 2    0     0  "
      ]
     },
     "execution_count": 284,
     "metadata": {},
     "output_type": "execute_result"
    }
   ],
   "source": [
    "df.sample(7)"
   ]
  },
  {
   "cell_type": "markdown",
   "metadata": {},
   "source": [
    "###### ---------------------------------------------------------------------------------------------"
   ]
  },
  {
   "cell_type": "markdown",
   "metadata": {},
   "source": [
    "###### Define - PRIZE MONEY column should be renamed to prize_money_usd and trim  dollar sign and change datatype to int"
   ]
  },
  {
   "cell_type": "markdown",
   "metadata": {},
   "source": [
    "###### Code"
   ]
  },
  {
   "cell_type": "code",
   "execution_count": 285,
   "metadata": {},
   "outputs": [
    {
     "data": {
      "text/html": [
       "<div>\n",
       "<style scoped>\n",
       "    .dataframe tbody tr th:only-of-type {\n",
       "        vertical-align: middle;\n",
       "    }\n",
       "\n",
       "    .dataframe tbody tr th {\n",
       "        vertical-align: top;\n",
       "    }\n",
       "\n",
       "    .dataframe thead th {\n",
       "        text-align: right;\n",
       "    }\n",
       "</style>\n",
       "<table border=\"1\" class=\"dataframe\">\n",
       "  <thead>\n",
       "    <tr style=\"text-align: right;\">\n",
       "      <th></th>\n",
       "      <th>RANK</th>\n",
       "      <th>COUNTRY</th>\n",
       "      <th>PLAYER</th>\n",
       "      <th>CHANGE +/-</th>\n",
       "      <th>WIN - LOSE</th>\n",
       "      <th>PRIZE MONEY</th>\n",
       "      <th>POINTS / TOURNAMENTS</th>\n",
       "      <th>win</th>\n",
       "      <th>loss</th>\n",
       "    </tr>\n",
       "  </thead>\n",
       "  <tbody>\n",
       "    <tr>\n",
       "      <th>936</th>\n",
       "      <td>935</td>\n",
       "      <td>NZL</td>\n",
       "      <td>Rebecca YE</td>\n",
       "      <td>-6</td>\n",
       "      <td>0 - 0</td>\n",
       "      <td>NaN</td>\n",
       "      <td>350 / 1</td>\n",
       "      <td>0</td>\n",
       "      <td>0</td>\n",
       "    </tr>\n",
       "    <tr>\n",
       "      <th>754</th>\n",
       "      <td>713</td>\n",
       "      <td>KAZ</td>\n",
       "      <td>Ademi SERIKBAYEVA</td>\n",
       "      <td>-10</td>\n",
       "      <td>0 - 0</td>\n",
       "      <td>NaN</td>\n",
       "      <td>550 / 1</td>\n",
       "      <td>0</td>\n",
       "      <td>0</td>\n",
       "    </tr>\n",
       "    <tr>\n",
       "      <th>820</th>\n",
       "      <td>723</td>\n",
       "      <td>TUR</td>\n",
       "      <td>Ãzge OZER</td>\n",
       "      <td>6</td>\n",
       "      <td>0 - 0</td>\n",
       "      <td>NaN</td>\n",
       "      <td>550 / 1</td>\n",
       "      <td>0</td>\n",
       "      <td>0</td>\n",
       "    </tr>\n",
       "    <tr>\n",
       "      <th>942</th>\n",
       "      <td>926</td>\n",
       "      <td>IRI</td>\n",
       "      <td>Yeganeh KERMANI</td>\n",
       "      <td>0</td>\n",
       "      <td>0 - 0</td>\n",
       "      <td>NaN</td>\n",
       "      <td>360 / 1</td>\n",
       "      <td>0</td>\n",
       "      <td>0</td>\n",
       "    </tr>\n",
       "    <tr>\n",
       "      <th>1148</th>\n",
       "      <td>1143</td>\n",
       "      <td>AUT</td>\n",
       "      <td>Daniela ADAMEC</td>\n",
       "      <td>0</td>\n",
       "      <td>0 - 0</td>\n",
       "      <td>NaN</td>\n",
       "      <td>70 / 1</td>\n",
       "      <td>0</td>\n",
       "      <td>0</td>\n",
       "    </tr>\n",
       "    <tr>\n",
       "      <th>1152</th>\n",
       "      <td>1151</td>\n",
       "      <td>SVK</td>\n",
       "      <td>Lenka DROTAROVA</td>\n",
       "      <td>7</td>\n",
       "      <td>0 - 0</td>\n",
       "      <td>NaN</td>\n",
       "      <td>60 / 1</td>\n",
       "      <td>0</td>\n",
       "      <td>0</td>\n",
       "    </tr>\n",
       "    <tr>\n",
       "      <th>1018</th>\n",
       "      <td>998</td>\n",
       "      <td>UGA</td>\n",
       "      <td>Ritah NAKIMERA</td>\n",
       "      <td>-17</td>\n",
       "      <td>0 - 0</td>\n",
       "      <td>NaN</td>\n",
       "      <td>210 / 1</td>\n",
       "      <td>0</td>\n",
       "      <td>0</td>\n",
       "    </tr>\n",
       "  </tbody>\n",
       "</table>\n",
       "</div>"
      ],
      "text/plain": [
       "      RANK COUNTRY             PLAYER  CHANGE +/- WIN - LOSE PRIZE MONEY  \\\n",
       "936    935     NZL         Rebecca YE          -6      0 - 0         NaN   \n",
       "754    713     KAZ  Ademi SERIKBAYEVA         -10      0 - 0         NaN   \n",
       "820    723     TUR         Ãzge OZER           6      0 - 0         NaN   \n",
       "942    926     IRI    Yeganeh KERMANI           0      0 - 0         NaN   \n",
       "1148  1143     AUT     Daniela ADAMEC           0      0 - 0         NaN   \n",
       "1152  1151     SVK    Lenka DROTAROVA           7      0 - 0         NaN   \n",
       "1018   998     UGA     Ritah NAKIMERA         -17      0 - 0         NaN   \n",
       "\n",
       "     POINTS / TOURNAMENTS  win  loss  \n",
       "936               350 / 1    0     0  \n",
       "754               550 / 1    0     0  \n",
       "820               550 / 1    0     0  \n",
       "942               360 / 1    0     0  \n",
       "1148               70 / 1    0     0  \n",
       "1152               60 / 1    0     0  \n",
       "1018              210 / 1    0     0  "
      ]
     },
     "execution_count": 285,
     "metadata": {},
     "output_type": "execute_result"
    }
   ],
   "source": [
    "df.sample(7)"
   ]
  },
  {
   "cell_type": "code",
   "execution_count": 286,
   "metadata": {},
   "outputs": [],
   "source": [
    "df=df.rename(columns={'PRIZE MONEY':'prize_money_usd'})"
   ]
  },
  {
   "cell_type": "code",
   "execution_count": 287,
   "metadata": {
    "scrolled": true
   },
   "outputs": [
    {
     "data": {
      "text/plain": [
       "array(['RANK', 'COUNTRY', 'PLAYER', 'CHANGE +/-', 'WIN - LOSE',\n",
       "       'prize_money_usd', 'POINTS / TOURNAMENTS', 'win', 'loss'],\n",
       "      dtype=object)"
      ]
     },
     "execution_count": 287,
     "metadata": {},
     "output_type": "execute_result"
    }
   ],
   "source": [
    "df.columns.values"
   ]
  },
  {
   "cell_type": "code",
   "execution_count": 288,
   "metadata": {},
   "outputs": [
    {
     "data": {
      "text/html": [
       "<div>\n",
       "<style scoped>\n",
       "    .dataframe tbody tr th:only-of-type {\n",
       "        vertical-align: middle;\n",
       "    }\n",
       "\n",
       "    .dataframe tbody tr th {\n",
       "        vertical-align: top;\n",
       "    }\n",
       "\n",
       "    .dataframe thead th {\n",
       "        text-align: right;\n",
       "    }\n",
       "</style>\n",
       "<table border=\"1\" class=\"dataframe\">\n",
       "  <thead>\n",
       "    <tr style=\"text-align: right;\">\n",
       "      <th></th>\n",
       "      <th>RANK</th>\n",
       "      <th>COUNTRY</th>\n",
       "      <th>PLAYER</th>\n",
       "      <th>CHANGE +/-</th>\n",
       "      <th>WIN - LOSE</th>\n",
       "      <th>prize_money_usd</th>\n",
       "      <th>POINTS / TOURNAMENTS</th>\n",
       "      <th>win</th>\n",
       "      <th>loss</th>\n",
       "    </tr>\n",
       "  </thead>\n",
       "  <tbody>\n",
       "    <tr>\n",
       "      <th>450</th>\n",
       "      <td>449</td>\n",
       "      <td>RUS</td>\n",
       "      <td>Alina DAVLETOVA</td>\n",
       "      <td>1</td>\n",
       "      <td>0 - 0</td>\n",
       "      <td>NaN</td>\n",
       "      <td>1,840 / 2</td>\n",
       "      <td>0</td>\n",
       "      <td>0</td>\n",
       "    </tr>\n",
       "    <tr>\n",
       "      <th>845</th>\n",
       "      <td>716</td>\n",
       "      <td>MAR</td>\n",
       "      <td>Ghita CHAROUITE</td>\n",
       "      <td>-5</td>\n",
       "      <td>0 - 0</td>\n",
       "      <td>NaN</td>\n",
       "      <td>550 / 1</td>\n",
       "      <td>0</td>\n",
       "      <td>0</td>\n",
       "    </tr>\n",
       "    <tr>\n",
       "      <th>1008</th>\n",
       "      <td>1004</td>\n",
       "      <td>KOR</td>\n",
       "      <td>Song KIM</td>\n",
       "      <td>-5</td>\n",
       "      <td>0 - 0</td>\n",
       "      <td>NaN</td>\n",
       "      <td>320 / 1</td>\n",
       "      <td>0</td>\n",
       "      <td>0</td>\n",
       "    </tr>\n",
       "    <tr>\n",
       "      <th>68</th>\n",
       "      <td>69</td>\n",
       "      <td>HUN</td>\n",
       "      <td>Laura SAROSI</td>\n",
       "      <td>-2</td>\n",
       "      <td>108 - 72</td>\n",
       "      <td>$3,317.50</td>\n",
       "      <td>22,900 / 24</td>\n",
       "      <td>108</td>\n",
       "      <td>72</td>\n",
       "    </tr>\n",
       "    <tr>\n",
       "      <th>1042</th>\n",
       "      <td>1018</td>\n",
       "      <td>MRI</td>\n",
       "      <td>Stephanie KOO TZE MEW</td>\n",
       "      <td>2</td>\n",
       "      <td>0 - 0</td>\n",
       "      <td>NaN</td>\n",
       "      <td>100 / 1</td>\n",
       "      <td>0</td>\n",
       "      <td>0</td>\n",
       "    </tr>\n",
       "    <tr>\n",
       "      <th>731</th>\n",
       "      <td>706</td>\n",
       "      <td>PAK</td>\n",
       "      <td>Mahoor SHAHZAD</td>\n",
       "      <td>9</td>\n",
       "      <td>0 - 0</td>\n",
       "      <td>NaN</td>\n",
       "      <td>550 / 1</td>\n",
       "      <td>0</td>\n",
       "      <td>0</td>\n",
       "    </tr>\n",
       "    <tr>\n",
       "      <th>698</th>\n",
       "      <td>697</td>\n",
       "      <td>KOR</td>\n",
       "      <td>Min Ji LEE</td>\n",
       "      <td>6</td>\n",
       "      <td>0 - 0</td>\n",
       "      <td>NaN</td>\n",
       "      <td>660 / 1</td>\n",
       "      <td>0</td>\n",
       "      <td>0</td>\n",
       "    </tr>\n",
       "  </tbody>\n",
       "</table>\n",
       "</div>"
      ],
      "text/plain": [
       "      RANK COUNTRY                 PLAYER  CHANGE +/- WIN - LOSE  \\\n",
       "450    449     RUS        Alina DAVLETOVA           1      0 - 0   \n",
       "845    716     MAR        Ghita CHAROUITE          -5      0 - 0   \n",
       "1008  1004     KOR               Song KIM          -5      0 - 0   \n",
       "68      69     HUN           Laura SAROSI          -2   108 - 72   \n",
       "1042  1018     MRI  Stephanie KOO TZE MEW           2      0 - 0   \n",
       "731    706     PAK         Mahoor SHAHZAD           9      0 - 0   \n",
       "698    697     KOR             Min Ji LEE           6      0 - 0   \n",
       "\n",
       "     prize_money_usd POINTS / TOURNAMENTS  win  loss  \n",
       "450              NaN            1,840 / 2    0     0  \n",
       "845              NaN              550 / 1    0     0  \n",
       "1008             NaN              320 / 1    0     0  \n",
       "68         $3,317.50          22,900 / 24  108    72  \n",
       "1042             NaN              100 / 1    0     0  \n",
       "731              NaN              550 / 1    0     0  \n",
       "698              NaN              660 / 1    0     0  "
      ]
     },
     "execution_count": 288,
     "metadata": {},
     "output_type": "execute_result"
    }
   ],
   "source": [
    "df.sample(7)"
   ]
  },
  {
   "cell_type": "code",
   "execution_count": 289,
   "metadata": {},
   "outputs": [
    {
     "data": {
      "text/html": [
       "<div>\n",
       "<style scoped>\n",
       "    .dataframe tbody tr th:only-of-type {\n",
       "        vertical-align: middle;\n",
       "    }\n",
       "\n",
       "    .dataframe tbody tr th {\n",
       "        vertical-align: top;\n",
       "    }\n",
       "\n",
       "    .dataframe thead th {\n",
       "        text-align: right;\n",
       "    }\n",
       "</style>\n",
       "<table border=\"1\" class=\"dataframe\">\n",
       "  <thead>\n",
       "    <tr style=\"text-align: right;\">\n",
       "      <th></th>\n",
       "      <th>RANK</th>\n",
       "      <th>COUNTRY</th>\n",
       "      <th>PLAYER</th>\n",
       "      <th>CHANGE +/-</th>\n",
       "      <th>WIN - LOSE</th>\n",
       "      <th>prize_money_usd</th>\n",
       "      <th>POINTS / TOURNAMENTS</th>\n",
       "      <th>win</th>\n",
       "      <th>loss</th>\n",
       "    </tr>\n",
       "  </thead>\n",
       "  <tbody>\n",
       "    <tr>\n",
       "      <th>0</th>\n",
       "      <td>1</td>\n",
       "      <td>CHN</td>\n",
       "      <td>LI Xuerui</td>\n",
       "      <td>0</td>\n",
       "      <td>221 - 46</td>\n",
       "      <td>$626,110.00</td>\n",
       "      <td>95,244 / 10</td>\n",
       "      <td>221</td>\n",
       "      <td>46</td>\n",
       "    </tr>\n",
       "    <tr>\n",
       "      <th>1</th>\n",
       "      <td>2</td>\n",
       "      <td>CHN</td>\n",
       "      <td>WANG Shixian</td>\n",
       "      <td>0</td>\n",
       "      <td>220 - 64</td>\n",
       "      <td>$658,775.00</td>\n",
       "      <td>82,677 / 15</td>\n",
       "      <td>220</td>\n",
       "      <td>64</td>\n",
       "    </tr>\n",
       "    <tr>\n",
       "      <th>2</th>\n",
       "      <td>3</td>\n",
       "      <td>CHN</td>\n",
       "      <td>WANG Yihan</td>\n",
       "      <td>0</td>\n",
       "      <td>307 - 71</td>\n",
       "      <td>$738,865.50</td>\n",
       "      <td>75,611 / 15</td>\n",
       "      <td>307</td>\n",
       "      <td>71</td>\n",
       "    </tr>\n",
       "    <tr>\n",
       "      <th>3</th>\n",
       "      <td>4</td>\n",
       "      <td>IND</td>\n",
       "      <td>Saina NEHWAL</td>\n",
       "      <td>0</td>\n",
       "      <td>278 - 124</td>\n",
       "      <td>$570,610.00</td>\n",
       "      <td>71,081 / 15</td>\n",
       "      <td>278</td>\n",
       "      <td>124</td>\n",
       "    </tr>\n",
       "    <tr>\n",
       "      <th>4</th>\n",
       "      <td>5</td>\n",
       "      <td>KOR</td>\n",
       "      <td>SUNG Ji Hyun</td>\n",
       "      <td>0</td>\n",
       "      <td>191 - 101</td>\n",
       "      <td>$298,365.00</td>\n",
       "      <td>70,124 / 17</td>\n",
       "      <td>191</td>\n",
       "      <td>101</td>\n",
       "    </tr>\n",
       "  </tbody>\n",
       "</table>\n",
       "</div>"
      ],
      "text/plain": [
       "   RANK COUNTRY        PLAYER  CHANGE +/- WIN - LOSE prize_money_usd  \\\n",
       "0     1     CHN     LI Xuerui           0   221 - 46     $626,110.00   \n",
       "1     2     CHN  WANG Shixian           0   220 - 64     $658,775.00   \n",
       "2     3     CHN    WANG Yihan           0   307 - 71     $738,865.50   \n",
       "3     4     IND  Saina NEHWAL           0  278 - 124     $570,610.00   \n",
       "4     5     KOR  SUNG Ji Hyun           0  191 - 101     $298,365.00   \n",
       "\n",
       "  POINTS / TOURNAMENTS  win  loss  \n",
       "0          95,244 / 10  221    46  \n",
       "1          82,677 / 15  220    64  \n",
       "2          75,611 / 15  307    71  \n",
       "3          71,081 / 15  278   124  \n",
       "4          70,124 / 17  191   101  "
      ]
     },
     "execution_count": 289,
     "metadata": {},
     "output_type": "execute_result"
    }
   ],
   "source": [
    "df.head()"
   ]
  },
  {
   "cell_type": "markdown",
   "metadata": {},
   "source": [
    "Trimming first character of the data in prize_money_usd provided the charracter is  $"
   ]
  },
  {
   "cell_type": "code",
   "execution_count": 290,
   "metadata": {},
   "outputs": [],
   "source": [
    "df.prize_money_usd=df.prize_money_usd.str.replace('$','')"
   ]
  },
  {
   "cell_type": "code",
   "execution_count": 293,
   "metadata": {},
   "outputs": [],
   "source": [
    "df.prize_money_usd=df.prize_money_usd.str.replace(',','')"
   ]
  },
  {
   "cell_type": "code",
   "execution_count": 294,
   "metadata": {},
   "outputs": [],
   "source": [
    "df['prize_money_usd']=df['prize_money_usd'].astype('float')"
   ]
  },
  {
   "cell_type": "code",
   "execution_count": 295,
   "metadata": {},
   "outputs": [
    {
     "data": {
      "text/html": [
       "<div>\n",
       "<style scoped>\n",
       "    .dataframe tbody tr th:only-of-type {\n",
       "        vertical-align: middle;\n",
       "    }\n",
       "\n",
       "    .dataframe tbody tr th {\n",
       "        vertical-align: top;\n",
       "    }\n",
       "\n",
       "    .dataframe thead th {\n",
       "        text-align: right;\n",
       "    }\n",
       "</style>\n",
       "<table border=\"1\" class=\"dataframe\">\n",
       "  <thead>\n",
       "    <tr style=\"text-align: right;\">\n",
       "      <th></th>\n",
       "      <th>RANK</th>\n",
       "      <th>COUNTRY</th>\n",
       "      <th>PLAYER</th>\n",
       "      <th>CHANGE +/-</th>\n",
       "      <th>WIN - LOSE</th>\n",
       "      <th>prize_money_usd</th>\n",
       "      <th>POINTS / TOURNAMENTS</th>\n",
       "      <th>win</th>\n",
       "      <th>loss</th>\n",
       "    </tr>\n",
       "  </thead>\n",
       "  <tbody>\n",
       "    <tr>\n",
       "      <th>330</th>\n",
       "      <td>331</td>\n",
       "      <td>NGR</td>\n",
       "      <td>Fatima AZEEZ</td>\n",
       "      <td>0</td>\n",
       "      <td>0 - 0</td>\n",
       "      <td>NaN</td>\n",
       "      <td>3,270 / 2</td>\n",
       "      <td>0</td>\n",
       "      <td>0</td>\n",
       "    </tr>\n",
       "    <tr>\n",
       "      <th>24</th>\n",
       "      <td>25</td>\n",
       "      <td>KOR</td>\n",
       "      <td>KIM Hyo Min</td>\n",
       "      <td>0</td>\n",
       "      <td>95 - 46</td>\n",
       "      <td>12325.50</td>\n",
       "      <td>36,560 / 16</td>\n",
       "      <td>95</td>\n",
       "      <td>46</td>\n",
       "    </tr>\n",
       "    <tr>\n",
       "      <th>741</th>\n",
       "      <td>710</td>\n",
       "      <td>BOT</td>\n",
       "      <td>Maranyane TUELO</td>\n",
       "      <td>-4</td>\n",
       "      <td>0 - 0</td>\n",
       "      <td>NaN</td>\n",
       "      <td>550 / 1</td>\n",
       "      <td>0</td>\n",
       "      <td>0</td>\n",
       "    </tr>\n",
       "    <tr>\n",
       "      <th>201</th>\n",
       "      <td>202</td>\n",
       "      <td>ARG</td>\n",
       "      <td>Florencia BERNATENE</td>\n",
       "      <td>0</td>\n",
       "      <td>0 - 0</td>\n",
       "      <td>NaN</td>\n",
       "      <td>7,092 / 10</td>\n",
       "      <td>0</td>\n",
       "      <td>0</td>\n",
       "    </tr>\n",
       "    <tr>\n",
       "      <th>57</th>\n",
       "      <td>58</td>\n",
       "      <td>INA</td>\n",
       "      <td>Hana RAMADHINI</td>\n",
       "      <td>-1</td>\n",
       "      <td>68 - 36</td>\n",
       "      <td>7025.50</td>\n",
       "      <td>25,220 / 11</td>\n",
       "      <td>68</td>\n",
       "      <td>36</td>\n",
       "    </tr>\n",
       "    <tr>\n",
       "      <th>200</th>\n",
       "      <td>201</td>\n",
       "      <td>UGA</td>\n",
       "      <td>Bridget Shamim BANGI</td>\n",
       "      <td>0</td>\n",
       "      <td>55 - 42</td>\n",
       "      <td>235.00</td>\n",
       "      <td>6,956 / 8</td>\n",
       "      <td>55</td>\n",
       "      <td>42</td>\n",
       "    </tr>\n",
       "    <tr>\n",
       "      <th>41</th>\n",
       "      <td>42</td>\n",
       "      <td>IRL</td>\n",
       "      <td>Chloe MAGEE</td>\n",
       "      <td>2</td>\n",
       "      <td>154 - 129</td>\n",
       "      <td>15166.75</td>\n",
       "      <td>28,392 / 17</td>\n",
       "      <td>154</td>\n",
       "      <td>129</td>\n",
       "    </tr>\n",
       "  </tbody>\n",
       "</table>\n",
       "</div>"
      ],
      "text/plain": [
       "     RANK COUNTRY                PLAYER  CHANGE +/- WIN - LOSE  \\\n",
       "330   331     NGR          Fatima AZEEZ           0      0 - 0   \n",
       "24     25     KOR           KIM Hyo Min           0    95 - 46   \n",
       "741   710     BOT       Maranyane TUELO          -4      0 - 0   \n",
       "201   202     ARG   Florencia BERNATENE           0      0 - 0   \n",
       "57     58     INA        Hana RAMADHINI          -1    68 - 36   \n",
       "200   201     UGA  Bridget Shamim BANGI           0    55 - 42   \n",
       "41     42     IRL           Chloe MAGEE           2  154 - 129   \n",
       "\n",
       "     prize_money_usd POINTS / TOURNAMENTS  win  loss  \n",
       "330              NaN            3,270 / 2    0     0  \n",
       "24          12325.50          36,560 / 16   95    46  \n",
       "741              NaN              550 / 1    0     0  \n",
       "201              NaN           7,092 / 10    0     0  \n",
       "57           7025.50          25,220 / 11   68    36  \n",
       "200           235.00            6,956 / 8   55    42  \n",
       "41          15166.75          28,392 / 17  154   129  "
      ]
     },
     "execution_count": 295,
     "metadata": {},
     "output_type": "execute_result"
    }
   ],
   "source": [
    "df.sample(7)"
   ]
  },
  {
   "cell_type": "markdown",
   "metadata": {},
   "source": [
    "###### ---------------------------------------------------------------------------------------------"
   ]
  },
  {
   "cell_type": "markdown",
   "metadata": {},
   "source": [
    "###### Define - POINTS / TOURNAMENTS column should be split in 2 columns named points & tournaments with int datatype"
   ]
  },
  {
   "cell_type": "markdown",
   "metadata": {},
   "source": [
    "###### Code"
   ]
  },
  {
   "cell_type": "code",
   "execution_count": 296,
   "metadata": {},
   "outputs": [],
   "source": [
    "df_test=df['POINTS / TOURNAMENTS'].str.split('/')"
   ]
  },
  {
   "cell_type": "code",
   "execution_count": 297,
   "metadata": {},
   "outputs": [
    {
     "data": {
      "text/plain": [
       "0       [95,244 ,  10]\n",
       "1       [82,677 ,  15]\n",
       "2       [75,611 ,  15]\n",
       "3       [71,081 ,  15]\n",
       "4       [70,124 ,  17]\n",
       "             ...      \n",
       "1235         [60 ,  1]\n",
       "1236         [60 ,  1]\n",
       "1237         [60 ,  1]\n",
       "1238         [60 ,  1]\n",
       "1239         [60 ,  1]\n",
       "Name: POINTS / TOURNAMENTS, Length: 68625, dtype: object"
      ]
     },
     "execution_count": 297,
     "metadata": {},
     "output_type": "execute_result"
    }
   ],
   "source": [
    "df_test"
   ]
  },
  {
   "cell_type": "code",
   "execution_count": 298,
   "metadata": {},
   "outputs": [],
   "source": [
    "df['points']=df_test.map(lambda x:x[0])"
   ]
  },
  {
   "cell_type": "code",
   "execution_count": 299,
   "metadata": {},
   "outputs": [],
   "source": [
    "df['tournaments']=df_test.map(lambda x:x[1])"
   ]
  },
  {
   "cell_type": "code",
   "execution_count": 301,
   "metadata": {},
   "outputs": [],
   "source": [
    "df['tournaments']=df['tournaments'].astype('int')"
   ]
  },
  {
   "cell_type": "code",
   "execution_count": 303,
   "metadata": {},
   "outputs": [],
   "source": [
    "df.points=df.points.str.replace(',','')"
   ]
  },
  {
   "cell_type": "code",
   "execution_count": 304,
   "metadata": {},
   "outputs": [],
   "source": [
    "df['points']=df['points'].astype('int')"
   ]
  },
  {
   "cell_type": "markdown",
   "metadata": {},
   "source": [
    "######  Test"
   ]
  },
  {
   "cell_type": "code",
   "execution_count": 315,
   "metadata": {},
   "outputs": [
    {
     "data": {
      "text/html": [
       "<div>\n",
       "<style scoped>\n",
       "    .dataframe tbody tr th:only-of-type {\n",
       "        vertical-align: middle;\n",
       "    }\n",
       "\n",
       "    .dataframe tbody tr th {\n",
       "        vertical-align: top;\n",
       "    }\n",
       "\n",
       "    .dataframe thead th {\n",
       "        text-align: right;\n",
       "    }\n",
       "</style>\n",
       "<table border=\"1\" class=\"dataframe\">\n",
       "  <thead>\n",
       "    <tr style=\"text-align: right;\">\n",
       "      <th></th>\n",
       "      <th>RANK</th>\n",
       "      <th>COUNTRY</th>\n",
       "      <th>PLAYER</th>\n",
       "      <th>CHANGE +/-</th>\n",
       "      <th>WIN - LOSE</th>\n",
       "      <th>prize_money_usd</th>\n",
       "      <th>POINTS / TOURNAMENTS</th>\n",
       "      <th>win</th>\n",
       "      <th>loss</th>\n",
       "      <th>points</th>\n",
       "      <th>tournaments</th>\n",
       "    </tr>\n",
       "  </thead>\n",
       "  <tbody>\n",
       "    <tr>\n",
       "      <th>553</th>\n",
       "      <td>551</td>\n",
       "      <td>NZL</td>\n",
       "      <td>Courtney TRILLO</td>\n",
       "      <td>0</td>\n",
       "      <td>0 - 0</td>\n",
       "      <td>NaN</td>\n",
       "      <td>1,290 / 1</td>\n",
       "      <td>0</td>\n",
       "      <td>0</td>\n",
       "      <td>1290</td>\n",
       "      <td>1</td>\n",
       "    </tr>\n",
       "    <tr>\n",
       "      <th>125</th>\n",
       "      <td>126</td>\n",
       "      <td>TUR</td>\n",
       "      <td>Cemre FERE</td>\n",
       "      <td>2</td>\n",
       "      <td>0 - 0</td>\n",
       "      <td>NaN</td>\n",
       "      <td>13,120 / 15</td>\n",
       "      <td>0</td>\n",
       "      <td>0</td>\n",
       "      <td>13120</td>\n",
       "      <td>15</td>\n",
       "    </tr>\n",
       "    <tr>\n",
       "      <th>433</th>\n",
       "      <td>427</td>\n",
       "      <td>KEN</td>\n",
       "      <td>Lavina MARTINS</td>\n",
       "      <td>1</td>\n",
       "      <td>0 - 0</td>\n",
       "      <td>NaN</td>\n",
       "      <td>1,840 / 2</td>\n",
       "      <td>0</td>\n",
       "      <td>0</td>\n",
       "      <td>1840</td>\n",
       "      <td>2</td>\n",
       "    </tr>\n",
       "    <tr>\n",
       "      <th>764</th>\n",
       "      <td>765</td>\n",
       "      <td>SWE</td>\n",
       "      <td>Berfin ASLAN</td>\n",
       "      <td>0</td>\n",
       "      <td>0 - 0</td>\n",
       "      <td>NaN</td>\n",
       "      <td>590 / 4</td>\n",
       "      <td>0</td>\n",
       "      <td>0</td>\n",
       "      <td>590</td>\n",
       "      <td>4</td>\n",
       "    </tr>\n",
       "    <tr>\n",
       "      <th>210</th>\n",
       "      <td>211</td>\n",
       "      <td>THA</td>\n",
       "      <td>Thamolwan POOPRADUBSIL</td>\n",
       "      <td>0</td>\n",
       "      <td>0 - 0</td>\n",
       "      <td>NaN</td>\n",
       "      <td>6,050 / 4</td>\n",
       "      <td>0</td>\n",
       "      <td>0</td>\n",
       "      <td>6050</td>\n",
       "      <td>4</td>\n",
       "    </tr>\n",
       "    <tr>\n",
       "      <th>24</th>\n",
       "      <td>25</td>\n",
       "      <td>HKG</td>\n",
       "      <td>CHEUNG Ngan Yi</td>\n",
       "      <td>0</td>\n",
       "      <td>72 - 59</td>\n",
       "      <td>16765.0</td>\n",
       "      <td>38,808 / 18</td>\n",
       "      <td>72</td>\n",
       "      <td>59</td>\n",
       "      <td>38808</td>\n",
       "      <td>18</td>\n",
       "    </tr>\n",
       "    <tr>\n",
       "      <th>1113</th>\n",
       "      <td>1107</td>\n",
       "      <td>RUS</td>\n",
       "      <td>Daria DZHEDZHLA</td>\n",
       "      <td>1</td>\n",
       "      <td>0 - 0</td>\n",
       "      <td>NaN</td>\n",
       "      <td>60 / 1</td>\n",
       "      <td>0</td>\n",
       "      <td>0</td>\n",
       "      <td>60</td>\n",
       "      <td>1</td>\n",
       "    </tr>\n",
       "  </tbody>\n",
       "</table>\n",
       "</div>"
      ],
      "text/plain": [
       "      RANK COUNTRY                  PLAYER  CHANGE +/- WIN - LOSE  \\\n",
       "553    551     NZL         Courtney TRILLO           0      0 - 0   \n",
       "125    126     TUR              Cemre FERE           2      0 - 0   \n",
       "433    427     KEN          Lavina MARTINS           1      0 - 0   \n",
       "764    765     SWE            Berfin ASLAN           0      0 - 0   \n",
       "210    211     THA  Thamolwan POOPRADUBSIL           0      0 - 0   \n",
       "24      25     HKG          CHEUNG Ngan Yi           0    72 - 59   \n",
       "1113  1107     RUS         Daria DZHEDZHLA           1      0 - 0   \n",
       "\n",
       "      prize_money_usd POINTS / TOURNAMENTS  win  loss  points  tournaments  \n",
       "553               NaN            1,290 / 1    0     0    1290            1  \n",
       "125               NaN          13,120 / 15    0     0   13120           15  \n",
       "433               NaN            1,840 / 2    0     0    1840            2  \n",
       "764               NaN              590 / 4    0     0     590            4  \n",
       "210               NaN            6,050 / 4    0     0    6050            4  \n",
       "24            16765.0          38,808 / 18   72    59   38808           18  \n",
       "1113              NaN               60 / 1    0     0      60            1  "
      ]
     },
     "execution_count": 315,
     "metadata": {},
     "output_type": "execute_result"
    }
   ],
   "source": [
    "df.sample(7)"
   ]
  },
  {
   "cell_type": "code",
   "execution_count": null,
   "metadata": {},
   "outputs": [],
   "source": []
  },
  {
   "cell_type": "markdown",
   "metadata": {},
   "source": [
    "###### ---------------------------------------------------------------------------------------------"
   ]
  },
  {
   "cell_type": "markdown",
   "metadata": {},
   "source": [
    "###### Define - All relevant column names to lower case and put underscore (_) as word separator."
   ]
  },
  {
   "cell_type": "markdown",
   "metadata": {},
   "source": [
    "###### Code"
   ]
  },
  {
   "cell_type": "code",
   "execution_count": 316,
   "metadata": {},
   "outputs": [
    {
     "data": {
      "text/plain": [
       "array(['RANK', 'COUNTRY', 'PLAYER', 'CHANGE +/-', 'WIN - LOSE',\n",
       "       'prize_money_usd', 'POINTS / TOURNAMENTS', 'win', 'loss', 'points',\n",
       "       'tournaments'], dtype=object)"
      ]
     },
     "execution_count": 316,
     "metadata": {},
     "output_type": "execute_result"
    }
   ],
   "source": [
    "df.columns.values"
   ]
  },
  {
   "cell_type": "code",
   "execution_count": 317,
   "metadata": {},
   "outputs": [],
   "source": [
    "df=df.rename(columns={'RANK':'rank', 'COUNTRY':'country', 'PLAYER':'player', 'CHANGE +/-':'change_+_-'})"
   ]
  },
  {
   "cell_type": "markdown",
   "metadata": {},
   "source": [
    "###### Test"
   ]
  },
  {
   "cell_type": "code",
   "execution_count": 318,
   "metadata": {},
   "outputs": [
    {
     "data": {
      "text/plain": [
       "array(['rank', 'country', 'player', 'change_+_-', 'WIN - LOSE',\n",
       "       'prize_money_usd', 'POINTS / TOURNAMENTS', 'win', 'loss', 'points',\n",
       "       'tournaments'], dtype=object)"
      ]
     },
     "execution_count": 318,
     "metadata": {},
     "output_type": "execute_result"
    }
   ],
   "source": [
    "df.columns.values"
   ]
  },
  {
   "cell_type": "code",
   "execution_count": null,
   "metadata": {},
   "outputs": [],
   "source": []
  },
  {
   "cell_type": "markdown",
   "metadata": {},
   "source": [
    "###### ---------------------------------------------------------------------------------------------"
   ]
  },
  {
   "cell_type": "markdown",
   "metadata": {},
   "source": [
    "Columns identified in earlier step, run value_counts on them so as to get sense of outliers"
   ]
  },
  {
   "cell_type": "code",
   "execution_count": null,
   "metadata": {},
   "outputs": [],
   "source": [
    "df_name.column_name.value_counts()"
   ]
  },
  {
   "cell_type": "markdown",
   "metadata": {},
   "source": [
    "Plot histograms of the dataframes so as to identify general distribution of features  "
   ]
  },
  {
   "cell_type": "code",
   "execution_count": null,
   "metadata": {},
   "outputs": [],
   "source": [
    "df_name.hist()"
   ]
  },
  {
   "cell_type": "markdown",
   "metadata": {},
   "source": [
    "Plot scatterplot of the dataframes so as to identify correlations amongst several variables. Through this we will start to get sense of which features could be of use to us for further analysis."
   ]
  },
  {
   "cell_type": "code",
   "execution_count": null,
   "metadata": {},
   "outputs": [],
   "source": [
    "pd.plotting.scatter_matrix(df_name)"
   ]
  },
  {
   "cell_type": "markdown",
   "metadata": {},
   "source": [
    "###### List of issues you identiefied using visual assessment"
   ]
  },
  {
   "cell_type": "markdown",
   "metadata": {},
   "source": [
    "- Issue 1\n",
    "- Issue 2\n",
    "- Issue 3\n",
    "- Issue 4"
   ]
  },
  {
   "cell_type": "markdown",
   "metadata": {},
   "source": [
    "nan value detection"
   ]
  },
  {
   "cell_type": "markdown",
   "metadata": {},
   "source": [
    "Following code fragments can be run to identify presence of NaN Null in dataframe"
   ]
  },
  {
   "cell_type": "code",
   "execution_count": null,
   "metadata": {},
   "outputs": [],
   "source": [
    "df_name.isnull()"
   ]
  },
  {
   "cell_type": "markdown",
   "metadata": {},
   "source": [
    "Following command will tell us columns that have atleast 1 NaN value in them"
   ]
  },
  {
   "cell_type": "code",
   "execution_count": null,
   "metadata": {},
   "outputs": [],
   "source": [
    "df_name.isnull().any(axis=0)"
   ]
  },
  {
   "cell_type": "markdown",
   "metadata": {},
   "source": [
    "Following command will tell us rows that have atleast 1 NaN value in them"
   ]
  },
  {
   "cell_type": "code",
   "execution_count": null,
   "metadata": {},
   "outputs": [],
   "source": [
    "df_name.isnull().any(axis=1)"
   ]
  },
  {
   "cell_type": "markdown",
   "metadata": {},
   "source": [
    "checking duplicate value/s "
   ]
  },
  {
   "cell_type": "code",
   "execution_count": null,
   "metadata": {},
   "outputs": [],
   "source": [
    "sum(df_name.duplicated())"
   ]
  },
  {
   "cell_type": "markdown",
   "metadata": {},
   "source": [
    "checking and making note of incorrect datatype/s. Prime examples to look for are date column in string datatype, unit mentioned in numeric value column."
   ]
  },
  {
   "cell_type": "code",
   "execution_count": null,
   "metadata": {},
   "outputs": [],
   "source": [
    "df_name.info()"
   ]
  },
  {
   "cell_type": "markdown",
   "metadata": {},
   "source": [
    "###### List of issues you identiefied using programmatic assessment"
   ]
  },
  {
   "cell_type": "markdown",
   "metadata": {},
   "source": [
    "- Issue 1\n",
    "- Issue 2\n",
    "- Issue 3\n",
    "- Issue 4"
   ]
  },
  {
   "cell_type": "markdown",
   "metadata": {},
   "source": [
    "> **Tip**: You should _not_ perform too many operations in each cell. Create cells freely to explore your data. One option that you can take with this project is to do a lot of explorations in an initial notebook. These don't have to be organized, but make sure you use enough comments to understand the purpose of each code cell. Then, after you're done with your analysis, create a duplicate notebook where you will trim the excess and organize your steps so that you have a flowing, cohesive report.\n",
    "\n",
    "> **Tip**: Make sure that you keep your reader informed on the steps that you are taking in your investigation. Follow every code cell, or every set of related code cells, with a markdown cell to describe to the reader what was found in the preceding cell(s). Try to make it so that the reader can then understand what they will be seeing in the following cell(s).\n",
    "\n",
    "### Data Cleaning (Replace this with more specific notes!)"
   ]
  },
  {
   "cell_type": "code",
   "execution_count": null,
   "metadata": {
    "collapsed": true
   },
   "outputs": [],
   "source": [
    "# After discussing the structure of the data and any problems that need to be\n",
    "#   cleaned, perform those cleaning steps in the second part of this section.\n"
   ]
  },
  {
   "cell_type": "markdown",
   "metadata": {},
   "source": [
    "<a id='eda'></a>\n",
    "## Exploratory Data Analysis\n",
    "\n",
    "> **Tip**: Now that you've trimmed and cleaned your data, you're ready to move on to exploration. Compute statistics and create visualizations with the goal of addressing the research questions that you posed in the Introduction section. It is recommended that you be systematic with your approach. Look at one variable at a time, and then follow it up by looking at relationships between variables.\n",
    "\n",
    "#### Research Question 1 (Who it the most busy female singles player - who has played most tournaments in each year?)"
   ]
  },
  {
   "cell_type": "code",
   "execution_count": null,
   "metadata": {
    "collapsed": true
   },
   "outputs": [],
   "source": [
    "# Use this, and more code cells, to explore your data. Don't forget to add\n",
    "#   Markdown cells to document your observations and findings.\n"
   ]
  },
  {
   "cell_type": "markdown",
   "metadata": {},
   "source": [
    "#### Research Question 2  List of female singles players who made most prize money in each year"
   ]
  },
  {
   "cell_type": "code",
   "execution_count": null,
   "metadata": {
    "collapsed": true
   },
   "outputs": [],
   "source": [
    "# Continue to explore the data to address your additional research\n",
    "#   questions. Add more headers as needed if you have more questions to\n",
    "#   investigate.\n"
   ]
  },
  {
   "cell_type": "markdown",
   "metadata": {},
   "source": [
    "#### Research Question 3  List of female singles players who have most change in their ranking for each year. output should contain respective change in ranking as well."
   ]
  },
  {
   "cell_type": "code",
   "execution_count": null,
   "metadata": {
    "collapsed": true
   },
   "outputs": [],
   "source": [
    "# Continue to explore the data to address your additional research\n",
    "#   questions. Add more headers as needed if you have more questions to\n",
    "#   investigate.\n"
   ]
  },
  {
   "cell_type": "markdown",
   "metadata": {},
   "source": [
    "#### Research Question 4 -  List of female singles players who have most change in their ranking for each year. output should contain respective change in ranking as well."
   ]
  },
  {
   "cell_type": "code",
   "execution_count": null,
   "metadata": {
    "collapsed": true
   },
   "outputs": [],
   "source": [
    "# Continue to explore the data to address your additional research\n",
    "#   questions. Add more headers as needed if you have more questions to\n",
    "#   investigate.\n"
   ]
  },
  {
   "cell_type": "markdown",
   "metadata": {},
   "source": [
    "#### Research Question 5 -  Female singles players who is a kick addict queen - someone who has least difference in win - loss points"
   ]
  },
  {
   "cell_type": "code",
   "execution_count": null,
   "metadata": {
    "collapsed": true
   },
   "outputs": [],
   "source": [
    "# Continue to explore the data to address your additional research\n",
    "#   questions. Add more headers as needed if you have more questions to\n",
    "#   investigate.\n"
   ]
  },
  {
   "cell_type": "markdown",
   "metadata": {},
   "source": [
    "#### Research Question 6 -  Female singles players who is a kick dominator queen - someone who has highest difference in win - loss points"
   ]
  },
  {
   "cell_type": "code",
   "execution_count": null,
   "metadata": {
    "collapsed": true
   },
   "outputs": [],
   "source": [
    "# Continue to explore the data to address your additional research\n",
    "#   questions. Add more headers as needed if you have more questions to\n",
    "#   investigate.\n"
   ]
  },
  {
   "cell_type": "markdown",
   "metadata": {},
   "source": [
    "<a id='conclusions'></a>\n",
    "## Conclusions\n",
    "\n",
    "> **Tip**: Finally, summarize your findings and the results that have been performed. Make sure that you are clear with regards to the limitations of your exploration. If you haven't done any statistical tests, do not imply any statistical conclusions. And make sure you avoid implying causation from correlation!\n",
    "\n",
    "> **Tip**: Once you are satisfied with your work here, check over your report to make sure that it is satisfies all the areas of the rubric (found on the project submission page at the end of the lesson). You should also probably remove all of the \"Tips\" like this one so that the presentation is as polished as possible.\n",
    "\n",
    "## Submitting your Project \n",
    "\n",
    "> Before you submit your project, you need to create a .html or .pdf version of this notebook in the workspace here. To do that, run the code cell below. If it worked correctly, you should get a return code of 0, and you should see the generated .html file in the workspace directory (click on the orange Jupyter icon in the upper left).\n",
    "\n",
    "> Alternatively, you can download this report as .html via the **File** > **Download as** submenu, and then manually upload it into the workspace directory by clicking on the orange Jupyter icon in the upper left, then using the Upload button.\n",
    "\n",
    "> Once you've done this, you can submit your project by clicking on the \"Submit Project\" button in the lower right here. This will create and submit a zip file with this .ipynb doc and the .html or .pdf version you created. Congratulations!"
   ]
  },
  {
   "cell_type": "code",
   "execution_count": null,
   "metadata": {
    "collapsed": true
   },
   "outputs": [],
   "source": [
    "from subprocess import call\n",
    "call(['python', '-m', 'nbconvert', 'Investigate_a_Dataset.ipynb'])"
   ]
  }
 ],
 "metadata": {
  "kernelspec": {
   "display_name": "Python 3",
   "language": "python",
   "name": "python3"
  },
  "language_info": {
   "codemirror_mode": {
    "name": "ipython",
    "version": 3
   },
   "file_extension": ".py",
   "mimetype": "text/x-python",
   "name": "python",
   "nbconvert_exporter": "python",
   "pygments_lexer": "ipython3",
   "version": "3.7.7"
  }
 },
 "nbformat": 4,
 "nbformat_minor": 2
}

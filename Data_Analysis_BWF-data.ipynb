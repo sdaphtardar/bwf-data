{
 "cells": [
  {
   "cell_type": "markdown",
   "metadata": {},
   "source": [
    "# Investigate a Badminton Dataset\n",
    "\n",
    "## Table of Contents\n",
    "<ul>\n",
    "<li><a href=\"#intro\">Introduction</a></li>\n",
    "<li><a href=\"#wrangling\">Data Wrangling</a></li>\n",
    "<li><a href=\"#eda\">Exploratory Data Analysis</a></li>\n",
    "<li><a href=\"#conclusions\">Conclusions</a></li>\n",
    "</ul>"
   ]
  },
  {
   "cell_type": "markdown",
   "metadata": {},
   "source": [
    "<a id='intro'></a>\n",
    "## Introduction\n",
    "\n",
    "This dataset is downloaded from github. https://github.com/sdaphtardar/bwf-data which itself is forked from https://github.com/raywan/bwf-data\n",
    "\n"
   ]
  },
  {
   "cell_type": "markdown",
   "metadata": {},
   "source": [
    "Import general packages and graphing capabilities which will be used in all datasets."
   ]
  },
  {
   "cell_type": "code",
   "execution_count": 2,
   "metadata": {},
   "outputs": [],
   "source": [
    "%matplotlib inline\n",
    "import pandas as pd\n",
    "import numpy as np\n",
    "import matplotlib.pyplot as plt\n",
    "import seaborn as sns\n",
    "import os\n"
   ]
  },
  {
   "cell_type": "markdown",
   "metadata": {},
   "source": [
    "<a id='wrangling'></a>\n",
    "## Data Wrangling\n",
    "\n",
    "> **Tip**: In this section of the report, you will load in the data, check for cleanliness, and then trim and clean your dataset for analysis. Make sure that you document your steps carefully and justify your cleaning decisions.\n",
    "\n",
    "### General Properties"
   ]
  },
  {
   "cell_type": "markdown",
   "metadata": {},
   "source": [
    "## Gather"
   ]
  },
  {
   "cell_type": "markdown",
   "metadata": {},
   "source": [
    "Copy paste following cell to create multiple dataframes for each game type as needed."
   ]
  },
  {
   "cell_type": "markdown",
   "metadata": {},
   "source": [
    "Printing name of each file in directory ws"
   ]
  },
  {
   "cell_type": "code",
   "execution_count": 3,
   "metadata": {},
   "outputs": [],
   "source": [
    "merged_df = pd.DataFrame()"
   ]
  },
  {
   "cell_type": "code",
   "execution_count": 4,
   "metadata": {
    "scrolled": true
   },
   "outputs": [
    {
     "name": "stdout",
     "output_type": "stream",
     "text": [
      "bwf_ws_2015w1.csv\n",
      "bwf_ws_2015w10.csv\n",
      "bwf_ws_2015w11.csv\n",
      "bwf_ws_2015w12.csv\n",
      "bwf_ws_2015w13.csv\n",
      "bwf_ws_2015w14.csv\n",
      "bwf_ws_2015w15.csv\n",
      "bwf_ws_2015w16.csv\n",
      "bwf_ws_2015w17.csv\n",
      "bwf_ws_2015w18.csv\n",
      "bwf_ws_2015w19.csv\n",
      "bwf_ws_2015w2.csv\n",
      "bwf_ws_2015w20.csv\n",
      "bwf_ws_2015w21.csv\n",
      "bwf_ws_2015w22.csv\n",
      "bwf_ws_2015w23.csv\n",
      "bwf_ws_2015w24.csv\n",
      "bwf_ws_2015w25.csv\n",
      "bwf_ws_2015w26.csv\n",
      "bwf_ws_2015w27.csv\n",
      "bwf_ws_2015w28.csv\n",
      "bwf_ws_2015w29.csv\n",
      "bwf_ws_2015w3.csv\n",
      "bwf_ws_2015w30.csv\n",
      "bwf_ws_2015w31.csv\n",
      "bwf_ws_2015w32.csv\n",
      "bwf_ws_2015w33.csv\n",
      "bwf_ws_2015w34.csv\n",
      "bwf_ws_2015w35.csv\n",
      "bwf_ws_2015w36.csv\n",
      "bwf_ws_2015w37.csv\n",
      "bwf_ws_2015w38.csv\n",
      "bwf_ws_2015w39.csv\n",
      "bwf_ws_2015w4.csv\n",
      "bwf_ws_2015w40.csv\n",
      "bwf_ws_2015w41.csv\n",
      "bwf_ws_2015w42.csv\n",
      "bwf_ws_2015w43.csv\n",
      "bwf_ws_2015w44.csv\n",
      "bwf_ws_2015w45.csv\n",
      "bwf_ws_2015w46.csv\n",
      "bwf_ws_2015w47.csv\n",
      "bwf_ws_2015w48.csv\n",
      "bwf_ws_2015w49.csv\n",
      "bwf_ws_2015w5.csv\n",
      "bwf_ws_2015w50.csv\n",
      "bwf_ws_2015w51.csv\n",
      "bwf_ws_2015w52.csv\n",
      "bwf_ws_2015w53.csv\n",
      "bwf_ws_2015w6.csv\n",
      "bwf_ws_2015w7.csv\n",
      "bwf_ws_2015w8.csv\n",
      "bwf_ws_2015w9.csv\n",
      "bwf_ws_2016w1.csv\n",
      "bwf_ws_2016w2.csv\n",
      "bwf_ws_2016w3.csv\n",
      "bwf_ws_2016w4.csv\n",
      "bwf_ws_2016w5.csv\n",
      "bwf_ws_2016w6.csv\n",
      "bwf_ws_2016w7.csv\n"
     ]
    }
   ],
   "source": [
    "for file1 in os.listdir('data/ws'):\n",
    "    print(file1)\n",
    "    temp_df = pd.read_csv('data/ws/'+file1)\n",
    "    merged_df = merged_df.append(temp_df)\n",
    "    \n",
    "    "
   ]
  },
  {
   "cell_type": "code",
   "execution_count": 5,
   "metadata": {},
   "outputs": [
    {
     "data": {
      "text/plain": [
       "(68625, 8)"
      ]
     },
     "execution_count": 5,
     "metadata": {},
     "output_type": "execute_result"
    }
   ],
   "source": [
    "merged_df.shape"
   ]
  },
  {
   "cell_type": "markdown",
   "metadata": {
    "collapsed": true
   },
   "source": [
    "###### Load your data and print out a few lines. Perform operations to inspect data types and look for instances of missing or possibly errant data.\n"
   ]
  },
  {
   "cell_type": "code",
   "execution_count": 6,
   "metadata": {
    "scrolled": true
   },
   "outputs": [
    {
     "data": {
      "text/html": [
       "<div>\n",
       "<style scoped>\n",
       "    .dataframe tbody tr th:only-of-type {\n",
       "        vertical-align: middle;\n",
       "    }\n",
       "\n",
       "    .dataframe tbody tr th {\n",
       "        vertical-align: top;\n",
       "    }\n",
       "\n",
       "    .dataframe thead th {\n",
       "        text-align: right;\n",
       "    }\n",
       "</style>\n",
       "<table border=\"1\" class=\"dataframe\">\n",
       "  <thead>\n",
       "    <tr style=\"text-align: right;\">\n",
       "      <th></th>\n",
       "      <th>Unnamed: 0</th>\n",
       "      <th>RANK</th>\n",
       "      <th>COUNTRY</th>\n",
       "      <th>PLAYER</th>\n",
       "      <th>CHANGE +/-</th>\n",
       "      <th>WIN - LOSE</th>\n",
       "      <th>PRIZE MONEY</th>\n",
       "      <th>POINTS / TOURNAMENTS</th>\n",
       "    </tr>\n",
       "  </thead>\n",
       "  <tbody>\n",
       "    <tr>\n",
       "      <th>539</th>\n",
       "      <td>539</td>\n",
       "      <td>531</td>\n",
       "      <td>USA</td>\n",
       "      <td>Shannon POHL</td>\n",
       "      <td>0</td>\n",
       "      <td>0 - 0</td>\n",
       "      <td>NaN</td>\n",
       "      <td>1,290 / 1</td>\n",
       "    </tr>\n",
       "    <tr>\n",
       "      <th>1051</th>\n",
       "      <td>1051</td>\n",
       "      <td>1007</td>\n",
       "      <td>SWE</td>\n",
       "      <td>Ebba STRID</td>\n",
       "      <td>-4</td>\n",
       "      <td>0 - 0</td>\n",
       "      <td>NaN</td>\n",
       "      <td>100 / 1</td>\n",
       "    </tr>\n",
       "    <tr>\n",
       "      <th>1139</th>\n",
       "      <td>1139</td>\n",
       "      <td>1059</td>\n",
       "      <td>SLO</td>\n",
       "      <td>Nina KOTAR</td>\n",
       "      <td>0</td>\n",
       "      <td>0 - 0</td>\n",
       "      <td>NaN</td>\n",
       "      <td>100 / 1</td>\n",
       "    </tr>\n",
       "    <tr>\n",
       "      <th>642</th>\n",
       "      <td>642</td>\n",
       "      <td>549</td>\n",
       "      <td>UKR</td>\n",
       "      <td>Anastasiya DMYTRYSHYN</td>\n",
       "      <td>6</td>\n",
       "      <td>0 - 0</td>\n",
       "      <td>NaN</td>\n",
       "      <td>920 / 1</td>\n",
       "    </tr>\n",
       "    <tr>\n",
       "      <th>410</th>\n",
       "      <td>410</td>\n",
       "      <td>410</td>\n",
       "      <td>UGA</td>\n",
       "      <td>Daisy NAKALYANGO</td>\n",
       "      <td>-2</td>\n",
       "      <td>0 - 0</td>\n",
       "      <td>NaN</td>\n",
       "      <td>2,390 / 3</td>\n",
       "    </tr>\n",
       "  </tbody>\n",
       "</table>\n",
       "</div>"
      ],
      "text/plain": [
       "     Unnamed: 0  RANK COUNTRY                 PLAYER CHANGE +/- WIN - LOSE  \\\n",
       "539         539   531     USA           Shannon POHL          0      0 - 0   \n",
       "1051       1051  1007     SWE             Ebba STRID         -4      0 - 0   \n",
       "1139       1139  1059     SLO             Nina KOTAR          0      0 - 0   \n",
       "642         642   549     UKR  Anastasiya DMYTRYSHYN          6      0 - 0   \n",
       "410         410   410     UGA       Daisy NAKALYANGO         -2      0 - 0   \n",
       "\n",
       "     PRIZE MONEY POINTS / TOURNAMENTS  \n",
       "539          NaN            1,290 / 1  \n",
       "1051         NaN              100 / 1  \n",
       "1139         NaN              100 / 1  \n",
       "642          NaN              920 / 1  \n",
       "410          NaN            2,390 / 3  "
      ]
     },
     "execution_count": 6,
     "metadata": {},
     "output_type": "execute_result"
    }
   ],
   "source": [
    "merged_df.sample(5)"
   ]
  },
  {
   "cell_type": "markdown",
   "metadata": {},
   "source": [
    "## Assess"
   ]
  },
  {
   "cell_type": "markdown",
   "metadata": {},
   "source": [
    "###### perform rudimentary data assessment"
   ]
  },
  {
   "cell_type": "code",
   "execution_count": 7,
   "metadata": {},
   "outputs": [
    {
     "name": "stdout",
     "output_type": "stream",
     "text": [
      "<class 'pandas.core.frame.DataFrame'>\n",
      "Int64Index: 68625 entries, 0 to 1239\n",
      "Data columns (total 8 columns):\n",
      " #   Column                Non-Null Count  Dtype \n",
      "---  ------                --------------  ----- \n",
      " 0   Unnamed: 0            68625 non-null  object\n",
      " 1   RANK                  68625 non-null  object\n",
      " 2   COUNTRY               68625 non-null  object\n",
      " 3   PLAYER                68625 non-null  object\n",
      " 4   CHANGE +/-            68625 non-null  object\n",
      " 5   WIN - LOSE            68625 non-null  object\n",
      " 6   PRIZE MONEY           7890 non-null   object\n",
      " 7   POINTS / TOURNAMENTS  68625 non-null  object\n",
      "dtypes: object(8)\n",
      "memory usage: 4.7+ MB\n"
     ]
    }
   ],
   "source": [
    "merged_df.info()"
   ]
  },
  {
   "cell_type": "code",
   "execution_count": 8,
   "metadata": {},
   "outputs": [
    {
     "data": {
      "text/html": [
       "<div>\n",
       "<style scoped>\n",
       "    .dataframe tbody tr th:only-of-type {\n",
       "        vertical-align: middle;\n",
       "    }\n",
       "\n",
       "    .dataframe tbody tr th {\n",
       "        vertical-align: top;\n",
       "    }\n",
       "\n",
       "    .dataframe thead th {\n",
       "        text-align: right;\n",
       "    }\n",
       "</style>\n",
       "<table border=\"1\" class=\"dataframe\">\n",
       "  <thead>\n",
       "    <tr style=\"text-align: right;\">\n",
       "      <th></th>\n",
       "      <th>Unnamed: 0</th>\n",
       "      <th>RANK</th>\n",
       "      <th>COUNTRY</th>\n",
       "      <th>PLAYER</th>\n",
       "      <th>CHANGE +/-</th>\n",
       "      <th>WIN - LOSE</th>\n",
       "      <th>PRIZE MONEY</th>\n",
       "      <th>POINTS / TOURNAMENTS</th>\n",
       "    </tr>\n",
       "  </thead>\n",
       "  <tbody>\n",
       "    <tr>\n",
       "      <th>count</th>\n",
       "      <td>68625</td>\n",
       "      <td>68625</td>\n",
       "      <td>68625</td>\n",
       "      <td>68625</td>\n",
       "      <td>68625</td>\n",
       "      <td>68625</td>\n",
       "      <td>7890</td>\n",
       "      <td>68625</td>\n",
       "    </tr>\n",
       "    <tr>\n",
       "      <th>unique</th>\n",
       "      <td>1240</td>\n",
       "      <td>1119</td>\n",
       "      <td>117</td>\n",
       "      <td>1677</td>\n",
       "      <td>575</td>\n",
       "      <td>2127</td>\n",
       "      <td>545</td>\n",
       "      <td>5097</td>\n",
       "    </tr>\n",
       "    <tr>\n",
       "      <th>top</th>\n",
       "      <td>619</td>\n",
       "      <td>733</td>\n",
       "      <td>INA</td>\n",
       "      <td>Li Lian YANG</td>\n",
       "      <td>0</td>\n",
       "      <td>0 - 0</td>\n",
       "      <td>$0.00</td>\n",
       "      <td>550 / 1</td>\n",
       "    </tr>\n",
       "    <tr>\n",
       "      <th>freq</th>\n",
       "      <td>59</td>\n",
       "      <td>667</td>\n",
       "      <td>3209</td>\n",
       "      <td>59</td>\n",
       "      <td>19245</td>\n",
       "      <td>60759</td>\n",
       "      <td>1837</td>\n",
       "      <td>7879</td>\n",
       "    </tr>\n",
       "  </tbody>\n",
       "</table>\n",
       "</div>"
      ],
      "text/plain": [
       "        Unnamed: 0   RANK COUNTRY        PLAYER  CHANGE +/- WIN - LOSE  \\\n",
       "count        68625  68625   68625         68625       68625      68625   \n",
       "unique        1240   1119     117          1677         575       2127   \n",
       "top            619    733     INA  Li Lian YANG           0      0 - 0   \n",
       "freq            59    667    3209            59       19245      60759   \n",
       "\n",
       "       PRIZE MONEY POINTS / TOURNAMENTS  \n",
       "count         7890                68625  \n",
       "unique         545                 5097  \n",
       "top          $0.00              550 / 1  \n",
       "freq          1837                 7879  "
      ]
     },
     "execution_count": 8,
     "metadata": {},
     "output_type": "execute_result"
    }
   ],
   "source": [
    "merged_df.describe()"
   ]
  },
  {
   "cell_type": "code",
   "execution_count": 9,
   "metadata": {},
   "outputs": [
    {
     "data": {
      "text/html": [
       "<div>\n",
       "<style scoped>\n",
       "    .dataframe tbody tr th:only-of-type {\n",
       "        vertical-align: middle;\n",
       "    }\n",
       "\n",
       "    .dataframe tbody tr th {\n",
       "        vertical-align: top;\n",
       "    }\n",
       "\n",
       "    .dataframe thead th {\n",
       "        text-align: right;\n",
       "    }\n",
       "</style>\n",
       "<table border=\"1\" class=\"dataframe\">\n",
       "  <thead>\n",
       "    <tr style=\"text-align: right;\">\n",
       "      <th></th>\n",
       "    </tr>\n",
       "  </thead>\n",
       "  <tbody>\n",
       "  </tbody>\n",
       "</table>\n",
       "</div>"
      ],
      "text/plain": [
       "Empty DataFrame\n",
       "Columns: []\n",
       "Index: []"
      ]
     },
     "execution_count": 9,
     "metadata": {},
     "output_type": "execute_result"
    }
   ],
   "source": [
    "merged_df.corr()"
   ]
  },
  {
   "cell_type": "code",
   "execution_count": 10,
   "metadata": {
    "scrolled": true
   },
   "outputs": [
    {
     "data": {
      "text/html": [
       "<div>\n",
       "<style scoped>\n",
       "    .dataframe tbody tr th:only-of-type {\n",
       "        vertical-align: middle;\n",
       "    }\n",
       "\n",
       "    .dataframe tbody tr th {\n",
       "        vertical-align: top;\n",
       "    }\n",
       "\n",
       "    .dataframe thead th {\n",
       "        text-align: right;\n",
       "    }\n",
       "</style>\n",
       "<table border=\"1\" class=\"dataframe\">\n",
       "  <thead>\n",
       "    <tr style=\"text-align: right;\">\n",
       "      <th></th>\n",
       "      <th>Unnamed: 0</th>\n",
       "      <th>RANK</th>\n",
       "      <th>COUNTRY</th>\n",
       "      <th>PLAYER</th>\n",
       "      <th>CHANGE +/-</th>\n",
       "      <th>WIN - LOSE</th>\n",
       "      <th>PRIZE MONEY</th>\n",
       "      <th>POINTS / TOURNAMENTS</th>\n",
       "    </tr>\n",
       "  </thead>\n",
       "  <tbody>\n",
       "    <tr>\n",
       "      <th>314</th>\n",
       "      <td>314</td>\n",
       "      <td>315</td>\n",
       "      <td>SIN</td>\n",
       "      <td>Ai Ninna TAN</td>\n",
       "      <td>-4</td>\n",
       "      <td>0 - 0</td>\n",
       "      <td>NaN</td>\n",
       "      <td>3,540 / 6</td>\n",
       "    </tr>\n",
       "    <tr>\n",
       "      <th>421</th>\n",
       "      <td>421</td>\n",
       "      <td>422</td>\n",
       "      <td>LTU</td>\n",
       "      <td>Gerda VOITECHOVSKAJA</td>\n",
       "      <td>3</td>\n",
       "      <td>11 - 24</td>\n",
       "      <td>$0.00</td>\n",
       "      <td>1,910 / 6</td>\n",
       "    </tr>\n",
       "    <tr>\n",
       "      <th>773</th>\n",
       "      <td>773</td>\n",
       "      <td>762</td>\n",
       "      <td>PER</td>\n",
       "      <td>Thaina BELLIDO GARCIA</td>\n",
       "      <td>-1</td>\n",
       "      <td>0 - 0</td>\n",
       "      <td>NaN</td>\n",
       "      <td>550 / 1</td>\n",
       "    </tr>\n",
       "    <tr>\n",
       "      <th>1054</th>\n",
       "      <td>1054</td>\n",
       "      <td>1051</td>\n",
       "      <td>POR</td>\n",
       "      <td>Adriana F. GONCALVES</td>\n",
       "      <td>-3</td>\n",
       "      <td>0 - 0</td>\n",
       "      <td>NaN</td>\n",
       "      <td>100 / 1</td>\n",
       "    </tr>\n",
       "    <tr>\n",
       "      <th>378</th>\n",
       "      <td>378</td>\n",
       "      <td>379</td>\n",
       "      <td>GER</td>\n",
       "      <td>Alina HAMMES</td>\n",
       "      <td>0</td>\n",
       "      <td>0 - 0</td>\n",
       "      <td>NaN</td>\n",
       "      <td>2,250 / 4</td>\n",
       "    </tr>\n",
       "  </tbody>\n",
       "</table>\n",
       "</div>"
      ],
      "text/plain": [
       "     Unnamed: 0  RANK COUNTRY                 PLAYER CHANGE +/- WIN - LOSE  \\\n",
       "314         314   315     SIN           Ai Ninna TAN         -4      0 - 0   \n",
       "421         421   422     LTU   Gerda VOITECHOVSKAJA          3    11 - 24   \n",
       "773         773   762     PER  Thaina BELLIDO GARCIA         -1      0 - 0   \n",
       "1054       1054  1051     POR   Adriana F. GONCALVES         -3      0 - 0   \n",
       "378         378   379     GER           Alina HAMMES          0      0 - 0   \n",
       "\n",
       "     PRIZE MONEY POINTS / TOURNAMENTS  \n",
       "314          NaN            3,540 / 6  \n",
       "421        $0.00            1,910 / 6  \n",
       "773          NaN              550 / 1  \n",
       "1054         NaN              100 / 1  \n",
       "378          NaN            2,250 / 4  "
      ]
     },
     "execution_count": 10,
     "metadata": {},
     "output_type": "execute_result"
    }
   ],
   "source": [
    "merged_df.sample(5)"
   ]
  },
  {
   "cell_type": "markdown",
   "metadata": {},
   "source": [
    "###### List of issues you identiefied using rudimentry assessment"
   ]
  },
  {
   "cell_type": "markdown",
   "metadata": {},
   "source": [
    "1. Extra column of index present at first location\n",
    "2. Rank column is in object datatype, it should be int\n",
    "3. Change +/- is in object datatype, it should be int\n",
    "4. WIN - LOSE should be split in 2 different columns with int datatype\n",
    "5. PRIZE MONEY is in object datatype, it should be int\n",
    "6. POINTS / TOURNAMENTS should be split in 2 different columns with int datatype\n",
    "7. All column names should be lower case with underscore (_) as separator"
   ]
  },
  {
   "cell_type": "markdown",
   "metadata": {},
   "source": [
    "### Cleaning above issues first so that I can continue with rest of the assessment"
   ]
  },
  {
   "cell_type": "markdown",
   "metadata": {},
   "source": [
    "###### Define - Extra column of index present at first location. SOlution to this issue is to simply drop that column"
   ]
  },
  {
   "cell_type": "markdown",
   "metadata": {},
   "source": [
    "###### Code"
   ]
  },
  {
   "cell_type": "code",
   "execution_count": 106,
   "metadata": {},
   "outputs": [],
   "source": [
    "df=merged_df.copy()"
   ]
  },
  {
   "cell_type": "code",
   "execution_count": 107,
   "metadata": {},
   "outputs": [
    {
     "data": {
      "text/plain": [
       "(68625, 8)"
      ]
     },
     "execution_count": 107,
     "metadata": {},
     "output_type": "execute_result"
    }
   ],
   "source": [
    "df.shape"
   ]
  },
  {
   "cell_type": "code",
   "execution_count": 108,
   "metadata": {},
   "outputs": [
    {
     "data": {
      "text/plain": [
       "array(['Unnamed: 0', 'RANK', 'COUNTRY', 'PLAYER', 'CHANGE +/-',\n",
       "       'WIN - LOSE', 'PRIZE MONEY', 'POINTS / TOURNAMENTS'], dtype=object)"
      ]
     },
     "execution_count": 108,
     "metadata": {},
     "output_type": "execute_result"
    }
   ],
   "source": [
    "df.columns.values"
   ]
  },
  {
   "cell_type": "code",
   "execution_count": 109,
   "metadata": {},
   "outputs": [],
   "source": [
    "df=df.drop(['Unnamed: 0'], axis=1)"
   ]
  },
  {
   "cell_type": "markdown",
   "metadata": {},
   "source": [
    "###### Test"
   ]
  },
  {
   "cell_type": "code",
   "execution_count": 110,
   "metadata": {},
   "outputs": [
    {
     "data": {
      "text/plain": [
       "(68625, 7)"
      ]
     },
     "execution_count": 110,
     "metadata": {},
     "output_type": "execute_result"
    }
   ],
   "source": [
    "df.shape"
   ]
  },
  {
   "cell_type": "markdown",
   "metadata": {},
   "source": [
    "###### ---------------------------------------------------------------------------------------------"
   ]
  },
  {
   "cell_type": "markdown",
   "metadata": {},
   "source": [
    "###### Define - Rank column is in object datatype, it should be int. Solution is to change the datatype of the column using astype('int')"
   ]
  },
  {
   "cell_type": "markdown",
   "metadata": {},
   "source": [
    "###### Code"
   ]
  },
  {
   "cell_type": "code",
   "execution_count": 111,
   "metadata": {},
   "outputs": [
    {
     "data": {
      "text/plain": [
       "RANK                    object\n",
       "COUNTRY                 object\n",
       "PLAYER                  object\n",
       "CHANGE +/-              object\n",
       "WIN - LOSE              object\n",
       "PRIZE MONEY             object\n",
       "POINTS / TOURNAMENTS    object\n",
       "dtype: object"
      ]
     },
     "execution_count": 111,
     "metadata": {},
     "output_type": "execute_result"
    }
   ],
   "source": [
    "df.dtypes"
   ]
  },
  {
   "cell_type": "code",
   "execution_count": 112,
   "metadata": {},
   "outputs": [
    {
     "data": {
      "text/plain": [
       "dtype('O')"
      ]
     },
     "execution_count": 112,
     "metadata": {},
     "output_type": "execute_result"
    }
   ],
   "source": [
    "df['RANK'].dtype"
   ]
  },
  {
   "cell_type": "code",
   "execution_count": 113,
   "metadata": {},
   "outputs": [],
   "source": [
    "df['RANK']=df['RANK'].astype('int32')"
   ]
  },
  {
   "cell_type": "markdown",
   "metadata": {},
   "source": [
    "Test"
   ]
  },
  {
   "cell_type": "code",
   "execution_count": 114,
   "metadata": {},
   "outputs": [
    {
     "data": {
      "text/plain": [
       "dtype('int32')"
      ]
     },
     "execution_count": 114,
     "metadata": {},
     "output_type": "execute_result"
    }
   ],
   "source": [
    "df['RANK'].dtype"
   ]
  },
  {
   "cell_type": "markdown",
   "metadata": {},
   "source": [
    "###### ---------------------------------------------------------------------------------------------"
   ]
  },
  {
   "cell_type": "markdown",
   "metadata": {},
   "source": [
    "###### Define - Change +/- column is in object datatype, it should be int. Solution is to change the datatype of the column using astype('int')"
   ]
  },
  {
   "cell_type": "markdown",
   "metadata": {},
   "source": [
    "###### Code"
   ]
  },
  {
   "cell_type": "code",
   "execution_count": 115,
   "metadata": {},
   "outputs": [
    {
     "data": {
      "text/plain": [
       "RANK                     int32\n",
       "COUNTRY                 object\n",
       "PLAYER                  object\n",
       "CHANGE +/-              object\n",
       "WIN - LOSE              object\n",
       "PRIZE MONEY             object\n",
       "POINTS / TOURNAMENTS    object\n",
       "dtype: object"
      ]
     },
     "execution_count": 115,
     "metadata": {},
     "output_type": "execute_result"
    }
   ],
   "source": [
    "df.dtypes"
   ]
  },
  {
   "cell_type": "code",
   "execution_count": 116,
   "metadata": {},
   "outputs": [
    {
     "data": {
      "text/plain": [
       "array(['RANK', 'COUNTRY', 'PLAYER', 'CHANGE +/-', 'WIN - LOSE',\n",
       "       'PRIZE MONEY', 'POINTS / TOURNAMENTS'], dtype=object)"
      ]
     },
     "execution_count": 116,
     "metadata": {},
     "output_type": "execute_result"
    }
   ],
   "source": [
    "df.columns.values"
   ]
  },
  {
   "cell_type": "code",
   "execution_count": 117,
   "metadata": {},
   "outputs": [
    {
     "data": {
      "text/plain": [
       "dtype('O')"
      ]
     },
     "execution_count": 117,
     "metadata": {},
     "output_type": "execute_result"
    }
   ],
   "source": [
    "df['CHANGE +/-'].dtype"
   ]
  },
  {
   "cell_type": "code",
   "execution_count": 118,
   "metadata": {},
   "outputs": [],
   "source": [
    "df['CHANGE +/-']=df['CHANGE +/-'].astype('int32')"
   ]
  },
  {
   "cell_type": "markdown",
   "metadata": {},
   "source": [
    "###### Test"
   ]
  },
  {
   "cell_type": "code",
   "execution_count": 119,
   "metadata": {},
   "outputs": [
    {
     "data": {
      "text/plain": [
       "dtype('int32')"
      ]
     },
     "execution_count": 119,
     "metadata": {},
     "output_type": "execute_result"
    }
   ],
   "source": [
    "df['CHANGE +/-'].dtype"
   ]
  },
  {
   "cell_type": "markdown",
   "metadata": {},
   "source": [
    "###### ---------------------------------------------------------------------------------------------"
   ]
  },
  {
   "cell_type": "markdown",
   "metadata": {},
   "source": [
    "###### Define - WIN - LOSE column should be split in 2 different columns with int data type"
   ]
  },
  {
   "cell_type": "markdown",
   "metadata": {},
   "source": [
    "###### Code"
   ]
  },
  {
   "cell_type": "code",
   "execution_count": 120,
   "metadata": {},
   "outputs": [
    {
     "data": {
      "text/plain": [
       "array(['RANK', 'COUNTRY', 'PLAYER', 'CHANGE +/-', 'WIN - LOSE',\n",
       "       'PRIZE MONEY', 'POINTS / TOURNAMENTS'], dtype=object)"
      ]
     },
     "execution_count": 120,
     "metadata": {},
     "output_type": "execute_result"
    }
   ],
   "source": [
    "df.columns.values"
   ]
  },
  {
   "cell_type": "code",
   "execution_count": 121,
   "metadata": {},
   "outputs": [
    {
     "data": {
      "text/plain": [
       "1076    0 - 0\n",
       "945     0 - 0\n",
       "776     0 - 0\n",
       "940     0 - 0\n",
       "843     0 - 0\n",
       "911     0 - 0\n",
       "510     0 - 0\n",
       "Name: WIN - LOSE, dtype: object"
      ]
     },
     "execution_count": 121,
     "metadata": {},
     "output_type": "execute_result"
    }
   ],
   "source": [
    "df['WIN - LOSE'].sample(7)"
   ]
  },
  {
   "cell_type": "code",
   "execution_count": 122,
   "metadata": {},
   "outputs": [
    {
     "data": {
      "text/html": [
       "<div>\n",
       "<style scoped>\n",
       "    .dataframe tbody tr th:only-of-type {\n",
       "        vertical-align: middle;\n",
       "    }\n",
       "\n",
       "    .dataframe tbody tr th {\n",
       "        vertical-align: top;\n",
       "    }\n",
       "\n",
       "    .dataframe thead th {\n",
       "        text-align: right;\n",
       "    }\n",
       "</style>\n",
       "<table border=\"1\" class=\"dataframe\">\n",
       "  <thead>\n",
       "    <tr style=\"text-align: right;\">\n",
       "      <th></th>\n",
       "      <th>RANK</th>\n",
       "      <th>COUNTRY</th>\n",
       "      <th>PLAYER</th>\n",
       "      <th>CHANGE +/-</th>\n",
       "      <th>WIN - LOSE</th>\n",
       "      <th>PRIZE MONEY</th>\n",
       "      <th>POINTS / TOURNAMENTS</th>\n",
       "    </tr>\n",
       "  </thead>\n",
       "  <tbody>\n",
       "    <tr>\n",
       "      <th>1007</th>\n",
       "      <td>985</td>\n",
       "      <td>POR</td>\n",
       "      <td>Gabriela PEREIRA</td>\n",
       "      <td>10</td>\n",
       "      <td>0 - 0</td>\n",
       "      <td>NaN</td>\n",
       "      <td>100 / 1</td>\n",
       "    </tr>\n",
       "    <tr>\n",
       "      <th>318</th>\n",
       "      <td>319</td>\n",
       "      <td>DOM</td>\n",
       "      <td>Nairoby Abigail JIMENEZ</td>\n",
       "      <td>-2</td>\n",
       "      <td>0 - 0</td>\n",
       "      <td>NaN</td>\n",
       "      <td>3,290 / 3</td>\n",
       "    </tr>\n",
       "    <tr>\n",
       "      <th>944</th>\n",
       "      <td>920</td>\n",
       "      <td>IRI</td>\n",
       "      <td>Moloud ESMAEILI</td>\n",
       "      <td>-1</td>\n",
       "      <td>0 - 0</td>\n",
       "      <td>NaN</td>\n",
       "      <td>360 / 1</td>\n",
       "    </tr>\n",
       "    <tr>\n",
       "      <th>595</th>\n",
       "      <td>576</td>\n",
       "      <td>KAZ</td>\n",
       "      <td>Yelizaveta KHARCHENKO</td>\n",
       "      <td>4</td>\n",
       "      <td>0 - 0</td>\n",
       "      <td>NaN</td>\n",
       "      <td>920 / 1</td>\n",
       "    </tr>\n",
       "    <tr>\n",
       "      <th>765</th>\n",
       "      <td>763</td>\n",
       "      <td>IND</td>\n",
       "      <td>Rebecca GUMMADI</td>\n",
       "      <td>0</td>\n",
       "      <td>0 - 0</td>\n",
       "      <td>NaN</td>\n",
       "      <td>660 / 1</td>\n",
       "    </tr>\n",
       "    <tr>\n",
       "      <th>708</th>\n",
       "      <td>627</td>\n",
       "      <td>MRI</td>\n",
       "      <td>Shaama SANDOOYEA</td>\n",
       "      <td>2</td>\n",
       "      <td>0 - 0</td>\n",
       "      <td>NaN</td>\n",
       "      <td>920 / 1</td>\n",
       "    </tr>\n",
       "    <tr>\n",
       "      <th>291</th>\n",
       "      <td>292</td>\n",
       "      <td>IND</td>\n",
       "      <td>Kuhoo GARG</td>\n",
       "      <td>3</td>\n",
       "      <td>0 - 0</td>\n",
       "      <td>NaN</td>\n",
       "      <td>3,740 / 2</td>\n",
       "    </tr>\n",
       "  </tbody>\n",
       "</table>\n",
       "</div>"
      ],
      "text/plain": [
       "      RANK COUNTRY                   PLAYER  CHANGE +/- WIN - LOSE  \\\n",
       "1007   985     POR         Gabriela PEREIRA          10      0 - 0   \n",
       "318    319     DOM  Nairoby Abigail JIMENEZ          -2      0 - 0   \n",
       "944    920     IRI          Moloud ESMAEILI          -1      0 - 0   \n",
       "595    576     KAZ    Yelizaveta KHARCHENKO           4      0 - 0   \n",
       "765    763     IND          Rebecca GUMMADI           0      0 - 0   \n",
       "708    627     MRI         Shaama SANDOOYEA           2      0 - 0   \n",
       "291    292     IND               Kuhoo GARG           3      0 - 0   \n",
       "\n",
       "     PRIZE MONEY POINTS / TOURNAMENTS  \n",
       "1007         NaN              100 / 1  \n",
       "318          NaN            3,290 / 3  \n",
       "944          NaN              360 / 1  \n",
       "595          NaN              920 / 1  \n",
       "765          NaN              660 / 1  \n",
       "708          NaN              920 / 1  \n",
       "291          NaN            3,740 / 2  "
      ]
     },
     "execution_count": 122,
     "metadata": {},
     "output_type": "execute_result"
    }
   ],
   "source": [
    "df.sample(7)"
   ]
  },
  {
   "cell_type": "code",
   "execution_count": 123,
   "metadata": {},
   "outputs": [
    {
     "data": {
      "text/html": [
       "<div>\n",
       "<style scoped>\n",
       "    .dataframe tbody tr th:only-of-type {\n",
       "        vertical-align: middle;\n",
       "    }\n",
       "\n",
       "    .dataframe tbody tr th {\n",
       "        vertical-align: top;\n",
       "    }\n",
       "\n",
       "    .dataframe thead th {\n",
       "        text-align: right;\n",
       "    }\n",
       "</style>\n",
       "<table border=\"1\" class=\"dataframe\">\n",
       "  <thead>\n",
       "    <tr style=\"text-align: right;\">\n",
       "      <th></th>\n",
       "      <th>RANK</th>\n",
       "      <th>COUNTRY</th>\n",
       "      <th>PLAYER</th>\n",
       "      <th>CHANGE +/-</th>\n",
       "      <th>WIN - LOSE</th>\n",
       "      <th>PRIZE MONEY</th>\n",
       "      <th>POINTS / TOURNAMENTS</th>\n",
       "    </tr>\n",
       "  </thead>\n",
       "  <tbody>\n",
       "    <tr>\n",
       "      <th>0</th>\n",
       "      <td>1</td>\n",
       "      <td>CHN</td>\n",
       "      <td>LI Xuerui</td>\n",
       "      <td>0</td>\n",
       "      <td>221 - 46</td>\n",
       "      <td>$626,110.00</td>\n",
       "      <td>95,244 / 10</td>\n",
       "    </tr>\n",
       "    <tr>\n",
       "      <th>1</th>\n",
       "      <td>2</td>\n",
       "      <td>CHN</td>\n",
       "      <td>WANG Shixian</td>\n",
       "      <td>0</td>\n",
       "      <td>220 - 64</td>\n",
       "      <td>$658,775.00</td>\n",
       "      <td>82,677 / 15</td>\n",
       "    </tr>\n",
       "    <tr>\n",
       "      <th>2</th>\n",
       "      <td>3</td>\n",
       "      <td>CHN</td>\n",
       "      <td>WANG Yihan</td>\n",
       "      <td>0</td>\n",
       "      <td>307 - 71</td>\n",
       "      <td>$738,865.50</td>\n",
       "      <td>75,611 / 15</td>\n",
       "    </tr>\n",
       "    <tr>\n",
       "      <th>3</th>\n",
       "      <td>4</td>\n",
       "      <td>IND</td>\n",
       "      <td>Saina NEHWAL</td>\n",
       "      <td>0</td>\n",
       "      <td>278 - 124</td>\n",
       "      <td>$570,610.00</td>\n",
       "      <td>71,081 / 15</td>\n",
       "    </tr>\n",
       "    <tr>\n",
       "      <th>4</th>\n",
       "      <td>5</td>\n",
       "      <td>KOR</td>\n",
       "      <td>SUNG Ji Hyun</td>\n",
       "      <td>0</td>\n",
       "      <td>191 - 101</td>\n",
       "      <td>$298,365.00</td>\n",
       "      <td>70,124 / 17</td>\n",
       "    </tr>\n",
       "    <tr>\n",
       "      <th>5</th>\n",
       "      <td>6</td>\n",
       "      <td>THA</td>\n",
       "      <td>Ratchanok INTANON</td>\n",
       "      <td>0</td>\n",
       "      <td>194 - 93</td>\n",
       "      <td>$295,955.00</td>\n",
       "      <td>65,142 / 15</td>\n",
       "    </tr>\n",
       "    <tr>\n",
       "      <th>6</th>\n",
       "      <td>7</td>\n",
       "      <td>TPE</td>\n",
       "      <td>TAI Tzu Ying</td>\n",
       "      <td>0</td>\n",
       "      <td>163 - 97</td>\n",
       "      <td>$226,905.00</td>\n",
       "      <td>64,608 / 17</td>\n",
       "    </tr>\n",
       "  </tbody>\n",
       "</table>\n",
       "</div>"
      ],
      "text/plain": [
       "   RANK COUNTRY             PLAYER  CHANGE +/- WIN - LOSE  PRIZE MONEY  \\\n",
       "0     1     CHN          LI Xuerui           0   221 - 46  $626,110.00   \n",
       "1     2     CHN       WANG Shixian           0   220 - 64  $658,775.00   \n",
       "2     3     CHN         WANG Yihan           0   307 - 71  $738,865.50   \n",
       "3     4     IND       Saina NEHWAL           0  278 - 124  $570,610.00   \n",
       "4     5     KOR       SUNG Ji Hyun           0  191 - 101  $298,365.00   \n",
       "5     6     THA  Ratchanok INTANON           0   194 - 93  $295,955.00   \n",
       "6     7     TPE       TAI Tzu Ying           0   163 - 97  $226,905.00   \n",
       "\n",
       "  POINTS / TOURNAMENTS  \n",
       "0          95,244 / 10  \n",
       "1          82,677 / 15  \n",
       "2          75,611 / 15  \n",
       "3          71,081 / 15  \n",
       "4          70,124 / 17  \n",
       "5          65,142 / 15  \n",
       "6          64,608 / 17  "
      ]
     },
     "execution_count": 123,
     "metadata": {},
     "output_type": "execute_result"
    }
   ],
   "source": [
    "df.head(7)"
   ]
  },
  {
   "cell_type": "code",
   "execution_count": 124,
   "metadata": {},
   "outputs": [
    {
     "data": {
      "text/plain": [
       "68625"
      ]
     },
     "execution_count": 124,
     "metadata": {},
     "output_type": "execute_result"
    }
   ],
   "source": [
    "len(df['WIN - LOSE'].str.split('-'))"
   ]
  },
  {
   "cell_type": "code",
   "execution_count": 125,
   "metadata": {},
   "outputs": [
    {
     "data": {
      "text/plain": [
       "pandas.core.series.Series"
      ]
     },
     "execution_count": 125,
     "metadata": {},
     "output_type": "execute_result"
    }
   ],
   "source": [
    "type(df['WIN - LOSE'].str.split('-'))"
   ]
  },
  {
   "cell_type": "code",
   "execution_count": 126,
   "metadata": {},
   "outputs": [],
   "source": [
    "df_test=pd.DataFrame()"
   ]
  },
  {
   "cell_type": "code",
   "execution_count": 127,
   "metadata": {},
   "outputs": [],
   "source": [
    "df_test=df['WIN - LOSE'].str.split('-')"
   ]
  },
  {
   "cell_type": "code",
   "execution_count": 128,
   "metadata": {},
   "outputs": [
    {
     "data": {
      "text/plain": [
       "(68625,)"
      ]
     },
     "execution_count": 128,
     "metadata": {},
     "output_type": "execute_result"
    }
   ],
   "source": [
    "df_test.shape"
   ]
  },
  {
   "cell_type": "code",
   "execution_count": 129,
   "metadata": {},
   "outputs": [
    {
     "data": {
      "text/plain": [
       "['221 ', ' 46']"
      ]
     },
     "execution_count": 129,
     "metadata": {},
     "output_type": "execute_result"
    }
   ],
   "source": [
    "df_test[0:1][0]"
   ]
  },
  {
   "cell_type": "code",
   "execution_count": 130,
   "metadata": {},
   "outputs": [
    {
     "data": {
      "text/plain": [
       "'221 '"
      ]
     },
     "execution_count": 130,
     "metadata": {},
     "output_type": "execute_result"
    }
   ],
   "source": [
    "df_test[0:1][0][0]"
   ]
  },
  {
   "cell_type": "code",
   "execution_count": 131,
   "metadata": {},
   "outputs": [
    {
     "data": {
      "text/plain": [
       "' 46'"
      ]
     },
     "execution_count": 131,
     "metadata": {},
     "output_type": "execute_result"
    }
   ],
   "source": [
    "df_test[0:1][0][1]"
   ]
  },
  {
   "cell_type": "code",
   "execution_count": 132,
   "metadata": {},
   "outputs": [],
   "source": [
    "df['win']=df_test.map(lambda x:x[0])"
   ]
  },
  {
   "cell_type": "code",
   "execution_count": 133,
   "metadata": {},
   "outputs": [],
   "source": [
    "df['loss']=df_test.map(lambda x:x[1])"
   ]
  },
  {
   "cell_type": "code",
   "execution_count": 134,
   "metadata": {},
   "outputs": [],
   "source": [
    "df['win']=df['win'].astype('int32')"
   ]
  },
  {
   "cell_type": "code",
   "execution_count": 135,
   "metadata": {},
   "outputs": [],
   "source": [
    "df['loss']=df['loss'].astype('int32')"
   ]
  },
  {
   "cell_type": "markdown",
   "metadata": {},
   "source": [
    "###### Test"
   ]
  },
  {
   "cell_type": "code",
   "execution_count": 136,
   "metadata": {},
   "outputs": [
    {
     "data": {
      "text/plain": [
       "RANK                     int32\n",
       "COUNTRY                 object\n",
       "PLAYER                  object\n",
       "CHANGE +/-               int32\n",
       "WIN - LOSE              object\n",
       "PRIZE MONEY             object\n",
       "POINTS / TOURNAMENTS    object\n",
       "win                      int32\n",
       "loss                     int32\n",
       "dtype: object"
      ]
     },
     "execution_count": 136,
     "metadata": {},
     "output_type": "execute_result"
    }
   ],
   "source": [
    "df.dtypes"
   ]
  },
  {
   "cell_type": "code",
   "execution_count": 137,
   "metadata": {},
   "outputs": [
    {
     "data": {
      "text/html": [
       "<div>\n",
       "<style scoped>\n",
       "    .dataframe tbody tr th:only-of-type {\n",
       "        vertical-align: middle;\n",
       "    }\n",
       "\n",
       "    .dataframe tbody tr th {\n",
       "        vertical-align: top;\n",
       "    }\n",
       "\n",
       "    .dataframe thead th {\n",
       "        text-align: right;\n",
       "    }\n",
       "</style>\n",
       "<table border=\"1\" class=\"dataframe\">\n",
       "  <thead>\n",
       "    <tr style=\"text-align: right;\">\n",
       "      <th></th>\n",
       "      <th>RANK</th>\n",
       "      <th>COUNTRY</th>\n",
       "      <th>PLAYER</th>\n",
       "      <th>CHANGE +/-</th>\n",
       "      <th>WIN - LOSE</th>\n",
       "      <th>PRIZE MONEY</th>\n",
       "      <th>POINTS / TOURNAMENTS</th>\n",
       "      <th>win</th>\n",
       "      <th>loss</th>\n",
       "    </tr>\n",
       "  </thead>\n",
       "  <tbody>\n",
       "    <tr>\n",
       "      <th>630</th>\n",
       "      <td>565</td>\n",
       "      <td>AUS</td>\n",
       "      <td>Michelle TAM</td>\n",
       "      <td>-4</td>\n",
       "      <td>0 - 0</td>\n",
       "      <td>NaN</td>\n",
       "      <td>920 / 1</td>\n",
       "      <td>0</td>\n",
       "      <td>0</td>\n",
       "    </tr>\n",
       "    <tr>\n",
       "      <th>225</th>\n",
       "      <td>226</td>\n",
       "      <td>RSA</td>\n",
       "      <td>Michelle BUTLER-EMMETT</td>\n",
       "      <td>1</td>\n",
       "      <td>23 - 26</td>\n",
       "      <td>$0.00</td>\n",
       "      <td>5,510 / 5</td>\n",
       "      <td>23</td>\n",
       "      <td>26</td>\n",
       "    </tr>\n",
       "    <tr>\n",
       "      <th>696</th>\n",
       "      <td>697</td>\n",
       "      <td>GRE</td>\n",
       "      <td>Aristea APOSTOLIDOU</td>\n",
       "      <td>-2</td>\n",
       "      <td>0 - 0</td>\n",
       "      <td>NaN</td>\n",
       "      <td>720 / 2</td>\n",
       "      <td>0</td>\n",
       "      <td>0</td>\n",
       "    </tr>\n",
       "    <tr>\n",
       "      <th>362</th>\n",
       "      <td>362</td>\n",
       "      <td>AUS</td>\n",
       "      <td>Louisa MA</td>\n",
       "      <td>-1</td>\n",
       "      <td>0 - 0</td>\n",
       "      <td>NaN</td>\n",
       "      <td>3,030 / 1</td>\n",
       "      <td>0</td>\n",
       "      <td>0</td>\n",
       "    </tr>\n",
       "    <tr>\n",
       "      <th>92</th>\n",
       "      <td>93</td>\n",
       "      <td>INA</td>\n",
       "      <td>Rusydina Antardayu RIODINGIN</td>\n",
       "      <td>1</td>\n",
       "      <td>0 - 0</td>\n",
       "      <td>NaN</td>\n",
       "      <td>17,090 / 9</td>\n",
       "      <td>0</td>\n",
       "      <td>0</td>\n",
       "    </tr>\n",
       "    <tr>\n",
       "      <th>0</th>\n",
       "      <td>1</td>\n",
       "      <td>CHN</td>\n",
       "      <td>LI Xuerui</td>\n",
       "      <td>0</td>\n",
       "      <td>230 - 49</td>\n",
       "      <td>$626,110.00</td>\n",
       "      <td>80,764 / 9</td>\n",
       "      <td>230</td>\n",
       "      <td>49</td>\n",
       "    </tr>\n",
       "    <tr>\n",
       "      <th>984</th>\n",
       "      <td>964</td>\n",
       "      <td>FRA</td>\n",
       "      <td>Lole COURTOIS</td>\n",
       "      <td>-3</td>\n",
       "      <td>0 - 0</td>\n",
       "      <td>NaN</td>\n",
       "      <td>210 / 1</td>\n",
       "      <td>0</td>\n",
       "      <td>0</td>\n",
       "    </tr>\n",
       "  </tbody>\n",
       "</table>\n",
       "</div>"
      ],
      "text/plain": [
       "     RANK COUNTRY                        PLAYER  CHANGE +/- WIN - LOSE  \\\n",
       "630   565     AUS                  Michelle TAM          -4      0 - 0   \n",
       "225   226     RSA        Michelle BUTLER-EMMETT           1    23 - 26   \n",
       "696   697     GRE           Aristea APOSTOLIDOU          -2      0 - 0   \n",
       "362   362     AUS                     Louisa MA          -1      0 - 0   \n",
       "92     93     INA  Rusydina Antardayu RIODINGIN           1      0 - 0   \n",
       "0       1     CHN                     LI Xuerui           0   230 - 49   \n",
       "984   964     FRA                 Lole COURTOIS          -3      0 - 0   \n",
       "\n",
       "     PRIZE MONEY POINTS / TOURNAMENTS  win  loss  \n",
       "630          NaN              920 / 1    0     0  \n",
       "225        $0.00            5,510 / 5   23    26  \n",
       "696          NaN              720 / 2    0     0  \n",
       "362          NaN            3,030 / 1    0     0  \n",
       "92           NaN           17,090 / 9    0     0  \n",
       "0    $626,110.00           80,764 / 9  230    49  \n",
       "984          NaN              210 / 1    0     0  "
      ]
     },
     "execution_count": 137,
     "metadata": {},
     "output_type": "execute_result"
    }
   ],
   "source": [
    "df.sample(7)"
   ]
  },
  {
   "cell_type": "markdown",
   "metadata": {},
   "source": [
    "###### ---------------------------------------------------------------------------------------------"
   ]
  },
  {
   "cell_type": "markdown",
   "metadata": {},
   "source": [
    "###### Define - PRIZE MONEY column should be renamed to prize_money_usd and trim  dollar sign and change datatype to int"
   ]
  },
  {
   "cell_type": "markdown",
   "metadata": {},
   "source": [
    "###### Code"
   ]
  },
  {
   "cell_type": "code",
   "execution_count": 138,
   "metadata": {},
   "outputs": [
    {
     "data": {
      "text/html": [
       "<div>\n",
       "<style scoped>\n",
       "    .dataframe tbody tr th:only-of-type {\n",
       "        vertical-align: middle;\n",
       "    }\n",
       "\n",
       "    .dataframe tbody tr th {\n",
       "        vertical-align: top;\n",
       "    }\n",
       "\n",
       "    .dataframe thead th {\n",
       "        text-align: right;\n",
       "    }\n",
       "</style>\n",
       "<table border=\"1\" class=\"dataframe\">\n",
       "  <thead>\n",
       "    <tr style=\"text-align: right;\">\n",
       "      <th></th>\n",
       "      <th>RANK</th>\n",
       "      <th>COUNTRY</th>\n",
       "      <th>PLAYER</th>\n",
       "      <th>CHANGE +/-</th>\n",
       "      <th>WIN - LOSE</th>\n",
       "      <th>PRIZE MONEY</th>\n",
       "      <th>POINTS / TOURNAMENTS</th>\n",
       "      <th>win</th>\n",
       "      <th>loss</th>\n",
       "    </tr>\n",
       "  </thead>\n",
       "  <tbody>\n",
       "    <tr>\n",
       "      <th>1079</th>\n",
       "      <td>1022</td>\n",
       "      <td>MRI</td>\n",
       "      <td>Smiti RAMCHURN</td>\n",
       "      <td>-8</td>\n",
       "      <td>0 - 0</td>\n",
       "      <td>NaN</td>\n",
       "      <td>100 / 1</td>\n",
       "      <td>0</td>\n",
       "      <td>0</td>\n",
       "    </tr>\n",
       "    <tr>\n",
       "      <th>372</th>\n",
       "      <td>373</td>\n",
       "      <td>FRA</td>\n",
       "      <td>Joanna CHAUBE</td>\n",
       "      <td>0</td>\n",
       "      <td>0 - 0</td>\n",
       "      <td>NaN</td>\n",
       "      <td>2,570 / 5</td>\n",
       "      <td>0</td>\n",
       "      <td>0</td>\n",
       "    </tr>\n",
       "    <tr>\n",
       "      <th>896</th>\n",
       "      <td>897</td>\n",
       "      <td>ENG</td>\n",
       "      <td>Emily BEACH</td>\n",
       "      <td>-18</td>\n",
       "      <td>0 - 0</td>\n",
       "      <td>NaN</td>\n",
       "      <td>470 / 4</td>\n",
       "      <td>0</td>\n",
       "      <td>0</td>\n",
       "    </tr>\n",
       "    <tr>\n",
       "      <th>901</th>\n",
       "      <td>902</td>\n",
       "      <td>FIN</td>\n",
       "      <td>Anna PAAVOLA</td>\n",
       "      <td>8</td>\n",
       "      <td>0 - 0</td>\n",
       "      <td>NaN</td>\n",
       "      <td>390 / 4</td>\n",
       "      <td>0</td>\n",
       "      <td>0</td>\n",
       "    </tr>\n",
       "    <tr>\n",
       "      <th>902</th>\n",
       "      <td>903</td>\n",
       "      <td>CHN</td>\n",
       "      <td>LI Wenmei</td>\n",
       "      <td>0</td>\n",
       "      <td>0 - 0</td>\n",
       "      <td>NaN</td>\n",
       "      <td>520 / 1</td>\n",
       "      <td>0</td>\n",
       "      <td>0</td>\n",
       "    </tr>\n",
       "    <tr>\n",
       "      <th>685</th>\n",
       "      <td>608</td>\n",
       "      <td>UKR</td>\n",
       "      <td>Anastasiya BURYAN</td>\n",
       "      <td>0</td>\n",
       "      <td>0 - 0</td>\n",
       "      <td>NaN</td>\n",
       "      <td>920 / 1</td>\n",
       "      <td>0</td>\n",
       "      <td>0</td>\n",
       "    </tr>\n",
       "    <tr>\n",
       "      <th>469</th>\n",
       "      <td>464</td>\n",
       "      <td>JPN</td>\n",
       "      <td>Shiori EBIHARA</td>\n",
       "      <td>-1</td>\n",
       "      <td>0 - 0</td>\n",
       "      <td>NaN</td>\n",
       "      <td>1,520 / 1</td>\n",
       "      <td>0</td>\n",
       "      <td>0</td>\n",
       "    </tr>\n",
       "  </tbody>\n",
       "</table>\n",
       "</div>"
      ],
      "text/plain": [
       "      RANK COUNTRY             PLAYER  CHANGE +/- WIN - LOSE PRIZE MONEY  \\\n",
       "1079  1022     MRI     Smiti RAMCHURN          -8      0 - 0         NaN   \n",
       "372    373     FRA      Joanna CHAUBE           0      0 - 0         NaN   \n",
       "896    897     ENG        Emily BEACH         -18      0 - 0         NaN   \n",
       "901    902     FIN       Anna PAAVOLA           8      0 - 0         NaN   \n",
       "902    903     CHN          LI Wenmei           0      0 - 0         NaN   \n",
       "685    608     UKR  Anastasiya BURYAN           0      0 - 0         NaN   \n",
       "469    464     JPN     Shiori EBIHARA          -1      0 - 0         NaN   \n",
       "\n",
       "     POINTS / TOURNAMENTS  win  loss  \n",
       "1079              100 / 1    0     0  \n",
       "372             2,570 / 5    0     0  \n",
       "896               470 / 4    0     0  \n",
       "901               390 / 4    0     0  \n",
       "902               520 / 1    0     0  \n",
       "685               920 / 1    0     0  \n",
       "469             1,520 / 1    0     0  "
      ]
     },
     "execution_count": 138,
     "metadata": {},
     "output_type": "execute_result"
    }
   ],
   "source": [
    "df.sample(7)"
   ]
  },
  {
   "cell_type": "code",
   "execution_count": 139,
   "metadata": {},
   "outputs": [],
   "source": [
    "df=df.rename(columns={'PRIZE MONEY':'prize_money_usd'})"
   ]
  },
  {
   "cell_type": "code",
   "execution_count": 140,
   "metadata": {
    "scrolled": true
   },
   "outputs": [
    {
     "data": {
      "text/plain": [
       "array(['RANK', 'COUNTRY', 'PLAYER', 'CHANGE +/-', 'WIN - LOSE',\n",
       "       'prize_money_usd', 'POINTS / TOURNAMENTS', 'win', 'loss'],\n",
       "      dtype=object)"
      ]
     },
     "execution_count": 140,
     "metadata": {},
     "output_type": "execute_result"
    }
   ],
   "source": [
    "df.columns.values"
   ]
  },
  {
   "cell_type": "code",
   "execution_count": 141,
   "metadata": {},
   "outputs": [
    {
     "data": {
      "text/html": [
       "<div>\n",
       "<style scoped>\n",
       "    .dataframe tbody tr th:only-of-type {\n",
       "        vertical-align: middle;\n",
       "    }\n",
       "\n",
       "    .dataframe tbody tr th {\n",
       "        vertical-align: top;\n",
       "    }\n",
       "\n",
       "    .dataframe thead th {\n",
       "        text-align: right;\n",
       "    }\n",
       "</style>\n",
       "<table border=\"1\" class=\"dataframe\">\n",
       "  <thead>\n",
       "    <tr style=\"text-align: right;\">\n",
       "      <th></th>\n",
       "      <th>RANK</th>\n",
       "      <th>COUNTRY</th>\n",
       "      <th>PLAYER</th>\n",
       "      <th>CHANGE +/-</th>\n",
       "      <th>WIN - LOSE</th>\n",
       "      <th>prize_money_usd</th>\n",
       "      <th>POINTS / TOURNAMENTS</th>\n",
       "      <th>win</th>\n",
       "      <th>loss</th>\n",
       "    </tr>\n",
       "  </thead>\n",
       "  <tbody>\n",
       "    <tr>\n",
       "      <th>473</th>\n",
       "      <td>473</td>\n",
       "      <td>SEY</td>\n",
       "      <td>Cynthia COURSE</td>\n",
       "      <td>-4</td>\n",
       "      <td>0 - 0</td>\n",
       "      <td>NaN</td>\n",
       "      <td>1,530 / 2</td>\n",
       "      <td>0</td>\n",
       "      <td>0</td>\n",
       "    </tr>\n",
       "    <tr>\n",
       "      <th>914</th>\n",
       "      <td>915</td>\n",
       "      <td>IND</td>\n",
       "      <td>Daksha GAUTAM</td>\n",
       "      <td>0</td>\n",
       "      <td>0 - 0</td>\n",
       "      <td>NaN</td>\n",
       "      <td>430 / 1</td>\n",
       "      <td>0</td>\n",
       "      <td>0</td>\n",
       "    </tr>\n",
       "    <tr>\n",
       "      <th>914</th>\n",
       "      <td>877</td>\n",
       "      <td>KEN</td>\n",
       "      <td>Sheila WANJIRU</td>\n",
       "      <td>-10</td>\n",
       "      <td>0 - 0</td>\n",
       "      <td>NaN</td>\n",
       "      <td>360 / 1</td>\n",
       "      <td>0</td>\n",
       "      <td>0</td>\n",
       "    </tr>\n",
       "    <tr>\n",
       "      <th>1007</th>\n",
       "      <td>999</td>\n",
       "      <td>KOR</td>\n",
       "      <td>Sang Eun PARK</td>\n",
       "      <td>3</td>\n",
       "      <td>0 - 0</td>\n",
       "      <td>NaN</td>\n",
       "      <td>320 / 1</td>\n",
       "      <td>0</td>\n",
       "      <td>0</td>\n",
       "    </tr>\n",
       "    <tr>\n",
       "      <th>814</th>\n",
       "      <td>729</td>\n",
       "      <td>ISL</td>\n",
       "      <td>Sigridur ARNADOTTIR</td>\n",
       "      <td>-10</td>\n",
       "      <td>0 - 0</td>\n",
       "      <td>NaN</td>\n",
       "      <td>550 / 1</td>\n",
       "      <td>0</td>\n",
       "      <td>0</td>\n",
       "    </tr>\n",
       "    <tr>\n",
       "      <th>235</th>\n",
       "      <td>236</td>\n",
       "      <td>DOM</td>\n",
       "      <td>Daigenis SATURRIA</td>\n",
       "      <td>-28</td>\n",
       "      <td>0 - 0</td>\n",
       "      <td>NaN</td>\n",
       "      <td>5,452 / 6</td>\n",
       "      <td>0</td>\n",
       "      <td>0</td>\n",
       "    </tr>\n",
       "    <tr>\n",
       "      <th>33</th>\n",
       "      <td>34</td>\n",
       "      <td>MAS</td>\n",
       "      <td>Jing Yi TEE</td>\n",
       "      <td>2</td>\n",
       "      <td>84 - 94</td>\n",
       "      <td>$14,033.50</td>\n",
       "      <td>32,470 / 15</td>\n",
       "      <td>84</td>\n",
       "      <td>94</td>\n",
       "    </tr>\n",
       "  </tbody>\n",
       "</table>\n",
       "</div>"
      ],
      "text/plain": [
       "      RANK COUNTRY               PLAYER  CHANGE +/- WIN - LOSE  \\\n",
       "473    473     SEY       Cynthia COURSE          -4      0 - 0   \n",
       "914    915     IND        Daksha GAUTAM           0      0 - 0   \n",
       "914    877     KEN       Sheila WANJIRU         -10      0 - 0   \n",
       "1007   999     KOR        Sang Eun PARK           3      0 - 0   \n",
       "814    729     ISL  Sigridur ARNADOTTIR         -10      0 - 0   \n",
       "235    236     DOM    Daigenis SATURRIA         -28      0 - 0   \n",
       "33      34     MAS          Jing Yi TEE           2    84 - 94   \n",
       "\n",
       "     prize_money_usd POINTS / TOURNAMENTS  win  loss  \n",
       "473              NaN            1,530 / 2    0     0  \n",
       "914              NaN              430 / 1    0     0  \n",
       "914              NaN              360 / 1    0     0  \n",
       "1007             NaN              320 / 1    0     0  \n",
       "814              NaN              550 / 1    0     0  \n",
       "235              NaN            5,452 / 6    0     0  \n",
       "33        $14,033.50          32,470 / 15   84    94  "
      ]
     },
     "execution_count": 141,
     "metadata": {},
     "output_type": "execute_result"
    }
   ],
   "source": [
    "df.sample(7)"
   ]
  },
  {
   "cell_type": "code",
   "execution_count": 142,
   "metadata": {},
   "outputs": [
    {
     "data": {
      "text/html": [
       "<div>\n",
       "<style scoped>\n",
       "    .dataframe tbody tr th:only-of-type {\n",
       "        vertical-align: middle;\n",
       "    }\n",
       "\n",
       "    .dataframe tbody tr th {\n",
       "        vertical-align: top;\n",
       "    }\n",
       "\n",
       "    .dataframe thead th {\n",
       "        text-align: right;\n",
       "    }\n",
       "</style>\n",
       "<table border=\"1\" class=\"dataframe\">\n",
       "  <thead>\n",
       "    <tr style=\"text-align: right;\">\n",
       "      <th></th>\n",
       "      <th>RANK</th>\n",
       "      <th>COUNTRY</th>\n",
       "      <th>PLAYER</th>\n",
       "      <th>CHANGE +/-</th>\n",
       "      <th>WIN - LOSE</th>\n",
       "      <th>prize_money_usd</th>\n",
       "      <th>POINTS / TOURNAMENTS</th>\n",
       "      <th>win</th>\n",
       "      <th>loss</th>\n",
       "    </tr>\n",
       "  </thead>\n",
       "  <tbody>\n",
       "    <tr>\n",
       "      <th>0</th>\n",
       "      <td>1</td>\n",
       "      <td>CHN</td>\n",
       "      <td>LI Xuerui</td>\n",
       "      <td>0</td>\n",
       "      <td>221 - 46</td>\n",
       "      <td>$626,110.00</td>\n",
       "      <td>95,244 / 10</td>\n",
       "      <td>221</td>\n",
       "      <td>46</td>\n",
       "    </tr>\n",
       "    <tr>\n",
       "      <th>1</th>\n",
       "      <td>2</td>\n",
       "      <td>CHN</td>\n",
       "      <td>WANG Shixian</td>\n",
       "      <td>0</td>\n",
       "      <td>220 - 64</td>\n",
       "      <td>$658,775.00</td>\n",
       "      <td>82,677 / 15</td>\n",
       "      <td>220</td>\n",
       "      <td>64</td>\n",
       "    </tr>\n",
       "    <tr>\n",
       "      <th>2</th>\n",
       "      <td>3</td>\n",
       "      <td>CHN</td>\n",
       "      <td>WANG Yihan</td>\n",
       "      <td>0</td>\n",
       "      <td>307 - 71</td>\n",
       "      <td>$738,865.50</td>\n",
       "      <td>75,611 / 15</td>\n",
       "      <td>307</td>\n",
       "      <td>71</td>\n",
       "    </tr>\n",
       "    <tr>\n",
       "      <th>3</th>\n",
       "      <td>4</td>\n",
       "      <td>IND</td>\n",
       "      <td>Saina NEHWAL</td>\n",
       "      <td>0</td>\n",
       "      <td>278 - 124</td>\n",
       "      <td>$570,610.00</td>\n",
       "      <td>71,081 / 15</td>\n",
       "      <td>278</td>\n",
       "      <td>124</td>\n",
       "    </tr>\n",
       "    <tr>\n",
       "      <th>4</th>\n",
       "      <td>5</td>\n",
       "      <td>KOR</td>\n",
       "      <td>SUNG Ji Hyun</td>\n",
       "      <td>0</td>\n",
       "      <td>191 - 101</td>\n",
       "      <td>$298,365.00</td>\n",
       "      <td>70,124 / 17</td>\n",
       "      <td>191</td>\n",
       "      <td>101</td>\n",
       "    </tr>\n",
       "  </tbody>\n",
       "</table>\n",
       "</div>"
      ],
      "text/plain": [
       "   RANK COUNTRY        PLAYER  CHANGE +/- WIN - LOSE prize_money_usd  \\\n",
       "0     1     CHN     LI Xuerui           0   221 - 46     $626,110.00   \n",
       "1     2     CHN  WANG Shixian           0   220 - 64     $658,775.00   \n",
       "2     3     CHN    WANG Yihan           0   307 - 71     $738,865.50   \n",
       "3     4     IND  Saina NEHWAL           0  278 - 124     $570,610.00   \n",
       "4     5     KOR  SUNG Ji Hyun           0  191 - 101     $298,365.00   \n",
       "\n",
       "  POINTS / TOURNAMENTS  win  loss  \n",
       "0          95,244 / 10  221    46  \n",
       "1          82,677 / 15  220    64  \n",
       "2          75,611 / 15  307    71  \n",
       "3          71,081 / 15  278   124  \n",
       "4          70,124 / 17  191   101  "
      ]
     },
     "execution_count": 142,
     "metadata": {},
     "output_type": "execute_result"
    }
   ],
   "source": [
    "df.head()"
   ]
  },
  {
   "cell_type": "markdown",
   "metadata": {},
   "source": [
    "Trimming first character of the data in prize_money_usd provided the charracter is  $"
   ]
  },
  {
   "cell_type": "code",
   "execution_count": 143,
   "metadata": {},
   "outputs": [],
   "source": [
    "df.prize_money_usd=df.prize_money_usd.str.replace('$','')"
   ]
  },
  {
   "cell_type": "code",
   "execution_count": 144,
   "metadata": {},
   "outputs": [],
   "source": [
    "df.prize_money_usd=df.prize_money_usd.str.replace(',','')"
   ]
  },
  {
   "cell_type": "code",
   "execution_count": 145,
   "metadata": {},
   "outputs": [],
   "source": [
    "df['prize_money_usd']=df['prize_money_usd'].astype('float')"
   ]
  },
  {
   "cell_type": "code",
   "execution_count": 146,
   "metadata": {},
   "outputs": [
    {
     "data": {
      "text/html": [
       "<div>\n",
       "<style scoped>\n",
       "    .dataframe tbody tr th:only-of-type {\n",
       "        vertical-align: middle;\n",
       "    }\n",
       "\n",
       "    .dataframe tbody tr th {\n",
       "        vertical-align: top;\n",
       "    }\n",
       "\n",
       "    .dataframe thead th {\n",
       "        text-align: right;\n",
       "    }\n",
       "</style>\n",
       "<table border=\"1\" class=\"dataframe\">\n",
       "  <thead>\n",
       "    <tr style=\"text-align: right;\">\n",
       "      <th></th>\n",
       "      <th>RANK</th>\n",
       "      <th>COUNTRY</th>\n",
       "      <th>PLAYER</th>\n",
       "      <th>CHANGE +/-</th>\n",
       "      <th>WIN - LOSE</th>\n",
       "      <th>prize_money_usd</th>\n",
       "      <th>POINTS / TOURNAMENTS</th>\n",
       "      <th>win</th>\n",
       "      <th>loss</th>\n",
       "    </tr>\n",
       "  </thead>\n",
       "  <tbody>\n",
       "    <tr>\n",
       "      <th>1127</th>\n",
       "      <td>1073</td>\n",
       "      <td>KAZ</td>\n",
       "      <td>Ilyana FILIPCHUK</td>\n",
       "      <td>0</td>\n",
       "      <td>0 - 0</td>\n",
       "      <td>NaN</td>\n",
       "      <td>100 / 1</td>\n",
       "      <td>0</td>\n",
       "      <td>0</td>\n",
       "    </tr>\n",
       "    <tr>\n",
       "      <th>374</th>\n",
       "      <td>375</td>\n",
       "      <td>KOR</td>\n",
       "      <td>Soo Bin LIM</td>\n",
       "      <td>-1</td>\n",
       "      <td>0 - 0</td>\n",
       "      <td>NaN</td>\n",
       "      <td>2,500 / 1</td>\n",
       "      <td>0</td>\n",
       "      <td>0</td>\n",
       "    </tr>\n",
       "    <tr>\n",
       "      <th>657</th>\n",
       "      <td>634</td>\n",
       "      <td>AUS</td>\n",
       "      <td>Sirina FAN</td>\n",
       "      <td>0</td>\n",
       "      <td>0 - 0</td>\n",
       "      <td>NaN</td>\n",
       "      <td>920 / 1</td>\n",
       "      <td>0</td>\n",
       "      <td>0</td>\n",
       "    </tr>\n",
       "    <tr>\n",
       "      <th>1069</th>\n",
       "      <td>1070</td>\n",
       "      <td>IND</td>\n",
       "      <td>Prabhjyot KOUR</td>\n",
       "      <td>0</td>\n",
       "      <td>0 - 0</td>\n",
       "      <td>NaN</td>\n",
       "      <td>170 / 1</td>\n",
       "      <td>0</td>\n",
       "      <td>0</td>\n",
       "    </tr>\n",
       "    <tr>\n",
       "      <th>769</th>\n",
       "      <td>715</td>\n",
       "      <td>COL</td>\n",
       "      <td>Valentina MONTENEGRO</td>\n",
       "      <td>-9</td>\n",
       "      <td>0 - 0</td>\n",
       "      <td>NaN</td>\n",
       "      <td>550 / 1</td>\n",
       "      <td>0</td>\n",
       "      <td>0</td>\n",
       "    </tr>\n",
       "    <tr>\n",
       "      <th>162</th>\n",
       "      <td>163</td>\n",
       "      <td>POL</td>\n",
       "      <td>Anna NAREL</td>\n",
       "      <td>-20</td>\n",
       "      <td>0 - 0</td>\n",
       "      <td>NaN</td>\n",
       "      <td>10,173 / 7</td>\n",
       "      <td>0</td>\n",
       "      <td>0</td>\n",
       "    </tr>\n",
       "    <tr>\n",
       "      <th>975</th>\n",
       "      <td>975</td>\n",
       "      <td>BEL</td>\n",
       "      <td>Presence BEELEN</td>\n",
       "      <td>-2</td>\n",
       "      <td>0 - 0</td>\n",
       "      <td>NaN</td>\n",
       "      <td>200 / 2</td>\n",
       "      <td>0</td>\n",
       "      <td>0</td>\n",
       "    </tr>\n",
       "  </tbody>\n",
       "</table>\n",
       "</div>"
      ],
      "text/plain": [
       "      RANK COUNTRY                PLAYER  CHANGE +/- WIN - LOSE  \\\n",
       "1127  1073     KAZ      Ilyana FILIPCHUK           0      0 - 0   \n",
       "374    375     KOR           Soo Bin LIM          -1      0 - 0   \n",
       "657    634     AUS            Sirina FAN           0      0 - 0   \n",
       "1069  1070     IND        Prabhjyot KOUR           0      0 - 0   \n",
       "769    715     COL  Valentina MONTENEGRO          -9      0 - 0   \n",
       "162    163     POL            Anna NAREL         -20      0 - 0   \n",
       "975    975     BEL       Presence BEELEN          -2      0 - 0   \n",
       "\n",
       "      prize_money_usd POINTS / TOURNAMENTS  win  loss  \n",
       "1127              NaN              100 / 1    0     0  \n",
       "374               NaN            2,500 / 1    0     0  \n",
       "657               NaN              920 / 1    0     0  \n",
       "1069              NaN              170 / 1    0     0  \n",
       "769               NaN              550 / 1    0     0  \n",
       "162               NaN           10,173 / 7    0     0  \n",
       "975               NaN              200 / 2    0     0  "
      ]
     },
     "execution_count": 146,
     "metadata": {},
     "output_type": "execute_result"
    }
   ],
   "source": [
    "df.sample(7)"
   ]
  },
  {
   "cell_type": "markdown",
   "metadata": {},
   "source": [
    "###### ---------------------------------------------------------------------------------------------"
   ]
  },
  {
   "cell_type": "markdown",
   "metadata": {},
   "source": [
    "###### Define - POINTS / TOURNAMENTS column should be split in 2 columns named points & tournaments with int datatype"
   ]
  },
  {
   "cell_type": "markdown",
   "metadata": {},
   "source": [
    "###### Code"
   ]
  },
  {
   "cell_type": "code",
   "execution_count": 147,
   "metadata": {},
   "outputs": [],
   "source": [
    "df_test=df['POINTS / TOURNAMENTS'].str.split('/')"
   ]
  },
  {
   "cell_type": "code",
   "execution_count": 148,
   "metadata": {},
   "outputs": [
    {
     "data": {
      "text/plain": [
       "0       [95,244 ,  10]\n",
       "1       [82,677 ,  15]\n",
       "2       [75,611 ,  15]\n",
       "3       [71,081 ,  15]\n",
       "4       [70,124 ,  17]\n",
       "             ...      \n",
       "1235         [60 ,  1]\n",
       "1236         [60 ,  1]\n",
       "1237         [60 ,  1]\n",
       "1238         [60 ,  1]\n",
       "1239         [60 ,  1]\n",
       "Name: POINTS / TOURNAMENTS, Length: 68625, dtype: object"
      ]
     },
     "execution_count": 148,
     "metadata": {},
     "output_type": "execute_result"
    }
   ],
   "source": [
    "df_test"
   ]
  },
  {
   "cell_type": "code",
   "execution_count": 149,
   "metadata": {},
   "outputs": [],
   "source": [
    "df['points']=df_test.map(lambda x:x[0])"
   ]
  },
  {
   "cell_type": "code",
   "execution_count": 150,
   "metadata": {},
   "outputs": [],
   "source": [
    "df['tournaments']=df_test.map(lambda x:x[1])"
   ]
  },
  {
   "cell_type": "code",
   "execution_count": 151,
   "metadata": {},
   "outputs": [],
   "source": [
    "df['tournaments']=df['tournaments'].astype('int')"
   ]
  },
  {
   "cell_type": "code",
   "execution_count": 152,
   "metadata": {},
   "outputs": [],
   "source": [
    "df.points=df.points.str.replace(',','')"
   ]
  },
  {
   "cell_type": "code",
   "execution_count": 153,
   "metadata": {},
   "outputs": [],
   "source": [
    "df['points']=df['points'].astype('int')"
   ]
  },
  {
   "cell_type": "markdown",
   "metadata": {},
   "source": [
    "######  Test"
   ]
  },
  {
   "cell_type": "code",
   "execution_count": 154,
   "metadata": {},
   "outputs": [
    {
     "data": {
      "text/html": [
       "<div>\n",
       "<style scoped>\n",
       "    .dataframe tbody tr th:only-of-type {\n",
       "        vertical-align: middle;\n",
       "    }\n",
       "\n",
       "    .dataframe tbody tr th {\n",
       "        vertical-align: top;\n",
       "    }\n",
       "\n",
       "    .dataframe thead th {\n",
       "        text-align: right;\n",
       "    }\n",
       "</style>\n",
       "<table border=\"1\" class=\"dataframe\">\n",
       "  <thead>\n",
       "    <tr style=\"text-align: right;\">\n",
       "      <th></th>\n",
       "      <th>RANK</th>\n",
       "      <th>COUNTRY</th>\n",
       "      <th>PLAYER</th>\n",
       "      <th>CHANGE +/-</th>\n",
       "      <th>WIN - LOSE</th>\n",
       "      <th>prize_money_usd</th>\n",
       "      <th>POINTS / TOURNAMENTS</th>\n",
       "      <th>win</th>\n",
       "      <th>loss</th>\n",
       "      <th>points</th>\n",
       "      <th>tournaments</th>\n",
       "    </tr>\n",
       "  </thead>\n",
       "  <tbody>\n",
       "    <tr>\n",
       "      <th>1180</th>\n",
       "      <td>1141</td>\n",
       "      <td>MRI</td>\n",
       "      <td>Stephanie KOO TZE MEW</td>\n",
       "      <td>-10</td>\n",
       "      <td>0 - 0</td>\n",
       "      <td>NaN</td>\n",
       "      <td>100 / 1</td>\n",
       "      <td>0</td>\n",
       "      <td>0</td>\n",
       "      <td>100</td>\n",
       "      <td>1</td>\n",
       "    </tr>\n",
       "    <tr>\n",
       "      <th>946</th>\n",
       "      <td>943</td>\n",
       "      <td>EGY</td>\n",
       "      <td>Esraa MOHAMED HANY</td>\n",
       "      <td>-8</td>\n",
       "      <td>0 - 0</td>\n",
       "      <td>NaN</td>\n",
       "      <td>350 / 1</td>\n",
       "      <td>0</td>\n",
       "      <td>0</td>\n",
       "      <td>350</td>\n",
       "      <td>1</td>\n",
       "    </tr>\n",
       "    <tr>\n",
       "      <th>95</th>\n",
       "      <td>96</td>\n",
       "      <td>TPE</td>\n",
       "      <td>HUNG Shih Han</td>\n",
       "      <td>-1</td>\n",
       "      <td>0 - 0</td>\n",
       "      <td>NaN</td>\n",
       "      <td>16,290 / 13</td>\n",
       "      <td>0</td>\n",
       "      <td>0</td>\n",
       "      <td>16290</td>\n",
       "      <td>13</td>\n",
       "    </tr>\n",
       "    <tr>\n",
       "      <th>487</th>\n",
       "      <td>475</td>\n",
       "      <td>AUS</td>\n",
       "      <td>Michelle TAM</td>\n",
       "      <td>3</td>\n",
       "      <td>2 - 5</td>\n",
       "      <td>0.0</td>\n",
       "      <td>1,520 / 1</td>\n",
       "      <td>2</td>\n",
       "      <td>5</td>\n",
       "      <td>1520</td>\n",
       "      <td>1</td>\n",
       "    </tr>\n",
       "    <tr>\n",
       "      <th>945</th>\n",
       "      <td>945</td>\n",
       "      <td>BUL</td>\n",
       "      <td>Mila IVANOVA</td>\n",
       "      <td>24</td>\n",
       "      <td>0 - 0</td>\n",
       "      <td>NaN</td>\n",
       "      <td>210 / 2</td>\n",
       "      <td>0</td>\n",
       "      <td>0</td>\n",
       "      <td>210</td>\n",
       "      <td>2</td>\n",
       "    </tr>\n",
       "    <tr>\n",
       "      <th>1119</th>\n",
       "      <td>1117</td>\n",
       "      <td>EST</td>\n",
       "      <td>Aidi HAMBURG</td>\n",
       "      <td>2</td>\n",
       "      <td>0 - 0</td>\n",
       "      <td>NaN</td>\n",
       "      <td>60 / 1</td>\n",
       "      <td>0</td>\n",
       "      <td>0</td>\n",
       "      <td>60</td>\n",
       "      <td>1</td>\n",
       "    </tr>\n",
       "    <tr>\n",
       "      <th>974</th>\n",
       "      <td>974</td>\n",
       "      <td>TUR</td>\n",
       "      <td>Arzu DELIBALTA</td>\n",
       "      <td>-2</td>\n",
       "      <td>0 - 0</td>\n",
       "      <td>NaN</td>\n",
       "      <td>270 / 2</td>\n",
       "      <td>0</td>\n",
       "      <td>0</td>\n",
       "      <td>270</td>\n",
       "      <td>2</td>\n",
       "    </tr>\n",
       "  </tbody>\n",
       "</table>\n",
       "</div>"
      ],
      "text/plain": [
       "      RANK COUNTRY                 PLAYER  CHANGE +/- WIN - LOSE  \\\n",
       "1180  1141     MRI  Stephanie KOO TZE MEW         -10      0 - 0   \n",
       "946    943     EGY     Esraa MOHAMED HANY          -8      0 - 0   \n",
       "95      96     TPE          HUNG Shih Han          -1      0 - 0   \n",
       "487    475     AUS           Michelle TAM           3      2 - 5   \n",
       "945    945     BUL           Mila IVANOVA          24      0 - 0   \n",
       "1119  1117     EST           Aidi HAMBURG           2      0 - 0   \n",
       "974    974     TUR         Arzu DELIBALTA          -2      0 - 0   \n",
       "\n",
       "      prize_money_usd POINTS / TOURNAMENTS  win  loss  points  tournaments  \n",
       "1180              NaN              100 / 1    0     0     100            1  \n",
       "946               NaN              350 / 1    0     0     350            1  \n",
       "95                NaN          16,290 / 13    0     0   16290           13  \n",
       "487               0.0            1,520 / 1    2     5    1520            1  \n",
       "945               NaN              210 / 2    0     0     210            2  \n",
       "1119              NaN               60 / 1    0     0      60            1  \n",
       "974               NaN              270 / 2    0     0     270            2  "
      ]
     },
     "execution_count": 154,
     "metadata": {},
     "output_type": "execute_result"
    }
   ],
   "source": [
    "df.sample(7)"
   ]
  },
  {
   "cell_type": "markdown",
   "metadata": {},
   "source": [
    "###### ---------------------------------------------------------------------------------------------"
   ]
  },
  {
   "cell_type": "markdown",
   "metadata": {},
   "source": [
    "###### Define - All relevant column names to lower case and put underscore (_) as word separator."
   ]
  },
  {
   "cell_type": "markdown",
   "metadata": {},
   "source": [
    "###### Code"
   ]
  },
  {
   "cell_type": "code",
   "execution_count": 155,
   "metadata": {},
   "outputs": [
    {
     "data": {
      "text/plain": [
       "array(['RANK', 'COUNTRY', 'PLAYER', 'CHANGE +/-', 'WIN - LOSE',\n",
       "       'prize_money_usd', 'POINTS / TOURNAMENTS', 'win', 'loss', 'points',\n",
       "       'tournaments'], dtype=object)"
      ]
     },
     "execution_count": 155,
     "metadata": {},
     "output_type": "execute_result"
    }
   ],
   "source": [
    "df.columns.values"
   ]
  },
  {
   "cell_type": "code",
   "execution_count": 156,
   "metadata": {},
   "outputs": [],
   "source": [
    "df=df.rename(columns={'RANK':'rank', 'COUNTRY':'country', 'PLAYER':'player', 'CHANGE +/-':'rank_change_+_-'})"
   ]
  },
  {
   "cell_type": "markdown",
   "metadata": {},
   "source": [
    "###### Test"
   ]
  },
  {
   "cell_type": "code",
   "execution_count": 158,
   "metadata": {},
   "outputs": [
    {
     "data": {
      "text/plain": [
       "array(['rank', 'country', 'player', 'rank_change_+_-', 'WIN - LOSE',\n",
       "       'prize_money_usd', 'POINTS / TOURNAMENTS', 'win', 'loss', 'points',\n",
       "       'tournaments'], dtype=object)"
      ]
     },
     "execution_count": 158,
     "metadata": {},
     "output_type": "execute_result"
    }
   ],
   "source": [
    "df.columns.values"
   ]
  },
  {
   "cell_type": "markdown",
   "metadata": {},
   "source": [
    "###### ---------------------------------------------------------------------------------------------"
   ]
  },
  {
   "cell_type": "markdown",
   "metadata": {},
   "source": [
    "### Visual Assessment"
   ]
  },
  {
   "cell_type": "code",
   "execution_count": 159,
   "metadata": {},
   "outputs": [
    {
     "data": {
      "text/plain": [
       "array(['rank', 'country', 'player', 'rank_change_+_-', 'WIN - LOSE',\n",
       "       'prize_money_usd', 'POINTS / TOURNAMENTS', 'win', 'loss', 'points',\n",
       "       'tournaments'], dtype=object)"
      ]
     },
     "execution_count": 159,
     "metadata": {},
     "output_type": "execute_result"
    }
   ],
   "source": [
    "df.columns.values"
   ]
  },
  {
   "cell_type": "code",
   "execution_count": 160,
   "metadata": {},
   "outputs": [
    {
     "data": {
      "image/png": "[encoded data removed]",
      "text/plain": [
       "<Figure size 432x288 with 9 Axes>"
      ]
     },
     "metadata": {
      "needs_background": "light"
     },
     "output_type": "display_data"
    }
   ],
   "source": [
    "df.hist();"
   ]
  },
  {
   "cell_type": "markdown",
   "metadata": {},
   "source": [
    "Plot scatterplot of the dataframes so as to identify correlations amongst several variables. Through this we will start to get sense of which features could be of use to us for further analysis."
   ]
  },
  {
   "cell_type": "code",
   "execution_count": 161,
   "metadata": {},
   "outputs": [
    {
     "ename": "KeyError",
     "evalue": "\"['change_+_-'] not in index\"",
     "output_type": "error",
     "traceback": [
      "\u001b[1;31m---------------------------------------------------------------------------\u001b[0m",
      "\u001b[1;31mKeyError\u001b[0m                                  Traceback (most recent call last)",
      "\u001b[1;32m<ipython-input-161-17cf17451bc0>\u001b[0m in \u001b[0;36m<module>\u001b[1;34m\u001b[0m\n\u001b[0;32m      1\u001b[0m pd.plotting.scatter_matrix(df[['rank', 'country', 'player', 'change_+_-', 'prize_money_usd', \\\n\u001b[1;32m----> 2\u001b[1;33m 'win', 'loss', 'points', 'tournaments']]);\n\u001b[0m",
      "\u001b[1;32m~\\Anaconda3\\lib\\site-packages\\pandas\\core\\frame.py\u001b[0m in \u001b[0;36m__getitem__\u001b[1;34m(self, key)\u001b[0m\n\u001b[0;32m   2804\u001b[0m             \u001b[1;32mif\u001b[0m \u001b[0mis_iterator\u001b[0m\u001b[1;33m(\u001b[0m\u001b[0mkey\u001b[0m\u001b[1;33m)\u001b[0m\u001b[1;33m:\u001b[0m\u001b[1;33m\u001b[0m\u001b[1;33m\u001b[0m\u001b[0m\n\u001b[0;32m   2805\u001b[0m                 \u001b[0mkey\u001b[0m \u001b[1;33m=\u001b[0m \u001b[0mlist\u001b[0m\u001b[1;33m(\u001b[0m\u001b[0mkey\u001b[0m\u001b[1;33m)\u001b[0m\u001b[1;33m\u001b[0m\u001b[1;33m\u001b[0m\u001b[0m\n\u001b[1;32m-> 2806\u001b[1;33m             \u001b[0mindexer\u001b[0m \u001b[1;33m=\u001b[0m \u001b[0mself\u001b[0m\u001b[1;33m.\u001b[0m\u001b[0mloc\u001b[0m\u001b[1;33m.\u001b[0m\u001b[0m_get_listlike_indexer\u001b[0m\u001b[1;33m(\u001b[0m\u001b[0mkey\u001b[0m\u001b[1;33m,\u001b[0m \u001b[0maxis\u001b[0m\u001b[1;33m=\u001b[0m\u001b[1;36m1\u001b[0m\u001b[1;33m,\u001b[0m \u001b[0mraise_missing\u001b[0m\u001b[1;33m=\u001b[0m\u001b[1;32mTrue\u001b[0m\u001b[1;33m)\u001b[0m\u001b[1;33m[\u001b[0m\u001b[1;36m1\u001b[0m\u001b[1;33m]\u001b[0m\u001b[1;33m\u001b[0m\u001b[1;33m\u001b[0m\u001b[0m\n\u001b[0m\u001b[0;32m   2807\u001b[0m \u001b[1;33m\u001b[0m\u001b[0m\n\u001b[0;32m   2808\u001b[0m         \u001b[1;31m# take() does not accept boolean indexers\u001b[0m\u001b[1;33m\u001b[0m\u001b[1;33m\u001b[0m\u001b[1;33m\u001b[0m\u001b[0m\n",
      "\u001b[1;32m~\\Anaconda3\\lib\\site-packages\\pandas\\core\\indexing.py\u001b[0m in \u001b[0;36m_get_listlike_indexer\u001b[1;34m(self, key, axis, raise_missing)\u001b[0m\n\u001b[0;32m   1551\u001b[0m \u001b[1;33m\u001b[0m\u001b[0m\n\u001b[0;32m   1552\u001b[0m         self._validate_read_indexer(\n\u001b[1;32m-> 1553\u001b[1;33m             \u001b[0mkeyarr\u001b[0m\u001b[1;33m,\u001b[0m \u001b[0mindexer\u001b[0m\u001b[1;33m,\u001b[0m \u001b[0mo\u001b[0m\u001b[1;33m.\u001b[0m\u001b[0m_get_axis_number\u001b[0m\u001b[1;33m(\u001b[0m\u001b[0maxis\u001b[0m\u001b[1;33m)\u001b[0m\u001b[1;33m,\u001b[0m \u001b[0mraise_missing\u001b[0m\u001b[1;33m=\u001b[0m\u001b[0mraise_missing\u001b[0m\u001b[1;33m\u001b[0m\u001b[1;33m\u001b[0m\u001b[0m\n\u001b[0m\u001b[0;32m   1554\u001b[0m         )\n\u001b[0;32m   1555\u001b[0m         \u001b[1;32mreturn\u001b[0m \u001b[0mkeyarr\u001b[0m\u001b[1;33m,\u001b[0m \u001b[0mindexer\u001b[0m\u001b[1;33m\u001b[0m\u001b[1;33m\u001b[0m\u001b[0m\n",
      "\u001b[1;32m~\\Anaconda3\\lib\\site-packages\\pandas\\core\\indexing.py\u001b[0m in \u001b[0;36m_validate_read_indexer\u001b[1;34m(self, key, indexer, axis, raise_missing)\u001b[0m\n\u001b[0;32m   1644\u001b[0m             \u001b[1;32mif\u001b[0m \u001b[1;32mnot\u001b[0m \u001b[1;33m(\u001b[0m\u001b[0mself\u001b[0m\u001b[1;33m.\u001b[0m\u001b[0mname\u001b[0m \u001b[1;33m==\u001b[0m \u001b[1;34m\"loc\"\u001b[0m \u001b[1;32mand\u001b[0m \u001b[1;32mnot\u001b[0m \u001b[0mraise_missing\u001b[0m\u001b[1;33m)\u001b[0m\u001b[1;33m:\u001b[0m\u001b[1;33m\u001b[0m\u001b[1;33m\u001b[0m\u001b[0m\n\u001b[0;32m   1645\u001b[0m                 \u001b[0mnot_found\u001b[0m \u001b[1;33m=\u001b[0m \u001b[0mlist\u001b[0m\u001b[1;33m(\u001b[0m\u001b[0mset\u001b[0m\u001b[1;33m(\u001b[0m\u001b[0mkey\u001b[0m\u001b[1;33m)\u001b[0m \u001b[1;33m-\u001b[0m \u001b[0mset\u001b[0m\u001b[1;33m(\u001b[0m\u001b[0max\u001b[0m\u001b[1;33m)\u001b[0m\u001b[1;33m)\u001b[0m\u001b[1;33m\u001b[0m\u001b[1;33m\u001b[0m\u001b[0m\n\u001b[1;32m-> 1646\u001b[1;33m                 \u001b[1;32mraise\u001b[0m \u001b[0mKeyError\u001b[0m\u001b[1;33m(\u001b[0m\u001b[1;34mf\"{not_found} not in index\"\u001b[0m\u001b[1;33m)\u001b[0m\u001b[1;33m\u001b[0m\u001b[1;33m\u001b[0m\u001b[0m\n\u001b[0m\u001b[0;32m   1647\u001b[0m \u001b[1;33m\u001b[0m\u001b[0m\n\u001b[0;32m   1648\u001b[0m             \u001b[1;31m# we skip the warning on Categorical/Interval\u001b[0m\u001b[1;33m\u001b[0m\u001b[1;33m\u001b[0m\u001b[1;33m\u001b[0m\u001b[0m\n",
      "\u001b[1;31mKeyError\u001b[0m: \"['change_+_-'] not in index\""
     ]
    }
   ],
   "source": [
    "pd.plotting.scatter_matrix(df[['rank', 'country', 'player', 'change_+_-', 'prize_money_usd', \\\n",
    "'win', 'loss', 'points', 'tournaments']]);"
   ]
  },
  {
   "cell_type": "markdown",
   "metadata": {},
   "source": [
    "### Programmatic Assessment"
   ]
  },
  {
   "cell_type": "markdown",
   "metadata": {},
   "source": [
    "###### nan value detection"
   ]
  },
  {
   "cell_type": "markdown",
   "metadata": {},
   "source": [
    "Following code fragments can be run to identify presence of NaN Null in dataframe"
   ]
  },
  {
   "cell_type": "code",
   "execution_count": null,
   "metadata": {},
   "outputs": [],
   "source": [
    "df.isnull().sum()"
   ]
  },
  {
   "cell_type": "markdown",
   "metadata": {},
   "source": [
    "Following command will tell us columns that have atleast 1 NaN value in them"
   ]
  },
  {
   "cell_type": "code",
   "execution_count": 162,
   "metadata": {},
   "outputs": [
    {
     "data": {
      "text/plain": [
       "rank                    False\n",
       "country                 False\n",
       "player                  False\n",
       "rank_change_+_-         False\n",
       "WIN - LOSE              False\n",
       "prize_money_usd          True\n",
       "POINTS / TOURNAMENTS    False\n",
       "win                     False\n",
       "loss                    False\n",
       "points                  False\n",
       "tournaments             False\n",
       "dtype: bool"
      ]
     },
     "execution_count": 162,
     "metadata": {},
     "output_type": "execute_result"
    }
   ],
   "source": [
    "df.isnull().any(axis=0)"
   ]
  },
  {
   "cell_type": "markdown",
   "metadata": {},
   "source": [
    "###### checking duplicate value/s "
   ]
  },
  {
   "cell_type": "code",
   "execution_count": 163,
   "metadata": {},
   "outputs": [
    {
     "data": {
      "text/plain": [
       "6908"
      ]
     },
     "execution_count": 163,
     "metadata": {},
     "output_type": "execute_result"
    }
   ],
   "source": [
    "sum(df.duplicated())"
   ]
  },
  {
   "cell_type": "code",
   "execution_count": 164,
   "metadata": {},
   "outputs": [
    {
     "data": {
      "text/html": [
       "<div>\n",
       "<style scoped>\n",
       "    .dataframe tbody tr th:only-of-type {\n",
       "        vertical-align: middle;\n",
       "    }\n",
       "\n",
       "    .dataframe tbody tr th {\n",
       "        vertical-align: top;\n",
       "    }\n",
       "\n",
       "    .dataframe thead th {\n",
       "        text-align: right;\n",
       "    }\n",
       "</style>\n",
       "<table border=\"1\" class=\"dataframe\">\n",
       "  <thead>\n",
       "    <tr style=\"text-align: right;\">\n",
       "      <th></th>\n",
       "      <th>rank</th>\n",
       "      <th>country</th>\n",
       "      <th>player</th>\n",
       "      <th>rank_change_+_-</th>\n",
       "      <th>WIN - LOSE</th>\n",
       "      <th>prize_money_usd</th>\n",
       "      <th>POINTS / TOURNAMENTS</th>\n",
       "      <th>win</th>\n",
       "      <th>loss</th>\n",
       "      <th>points</th>\n",
       "      <th>tournaments</th>\n",
       "    </tr>\n",
       "  </thead>\n",
       "  <tbody>\n",
       "    <tr>\n",
       "      <th>115</th>\n",
       "      <td>116</td>\n",
       "      <td>MEX</td>\n",
       "      <td>Haramara GAITAN</td>\n",
       "      <td>0</td>\n",
       "      <td>0 - 0</td>\n",
       "      <td>NaN</td>\n",
       "      <td>14,512 / 9</td>\n",
       "      <td>0</td>\n",
       "      <td>0</td>\n",
       "      <td>14512</td>\n",
       "      <td>9</td>\n",
       "    </tr>\n",
       "    <tr>\n",
       "      <th>152</th>\n",
       "      <td>153</td>\n",
       "      <td>CHN</td>\n",
       "      <td>SHEN Yaying</td>\n",
       "      <td>0</td>\n",
       "      <td>0 - 0</td>\n",
       "      <td>NaN</td>\n",
       "      <td>11,410 / 3</td>\n",
       "      <td>0</td>\n",
       "      <td>0</td>\n",
       "      <td>11410</td>\n",
       "      <td>3</td>\n",
       "    </tr>\n",
       "    <tr>\n",
       "      <th>156</th>\n",
       "      <td>157</td>\n",
       "      <td>USA</td>\n",
       "      <td>Crystal PAN</td>\n",
       "      <td>0</td>\n",
       "      <td>0 - 0</td>\n",
       "      <td>NaN</td>\n",
       "      <td>11,040 / 5</td>\n",
       "      <td>0</td>\n",
       "      <td>0</td>\n",
       "      <td>11040</td>\n",
       "      <td>5</td>\n",
       "    </tr>\n",
       "    <tr>\n",
       "      <th>274</th>\n",
       "      <td>275</td>\n",
       "      <td>INA</td>\n",
       "      <td>Josephine LEONILA</td>\n",
       "      <td>0</td>\n",
       "      <td>0 - 0</td>\n",
       "      <td>NaN</td>\n",
       "      <td>4,430 / 4</td>\n",
       "      <td>0</td>\n",
       "      <td>0</td>\n",
       "      <td>4430</td>\n",
       "      <td>4</td>\n",
       "    </tr>\n",
       "    <tr>\n",
       "      <th>394</th>\n",
       "      <td>395</td>\n",
       "      <td>NZL</td>\n",
       "      <td>Gaea GALVEZ</td>\n",
       "      <td>0</td>\n",
       "      <td>0 - 0</td>\n",
       "      <td>NaN</td>\n",
       "      <td>2,540 / 2</td>\n",
       "      <td>0</td>\n",
       "      <td>0</td>\n",
       "      <td>2540</td>\n",
       "      <td>2</td>\n",
       "    </tr>\n",
       "    <tr>\n",
       "      <th>...</th>\n",
       "      <td>...</td>\n",
       "      <td>...</td>\n",
       "      <td>...</td>\n",
       "      <td>...</td>\n",
       "      <td>...</td>\n",
       "      <td>...</td>\n",
       "      <td>...</td>\n",
       "      <td>...</td>\n",
       "      <td>...</td>\n",
       "      <td>...</td>\n",
       "      <td>...</td>\n",
       "    </tr>\n",
       "    <tr>\n",
       "      <th>193</th>\n",
       "      <td>194</td>\n",
       "      <td>BUL</td>\n",
       "      <td>Stefani STOEVA</td>\n",
       "      <td>0</td>\n",
       "      <td>154 - 59</td>\n",
       "      <td>6522.5</td>\n",
       "      <td>7,120 / 3</td>\n",
       "      <td>154</td>\n",
       "      <td>59</td>\n",
       "      <td>7120</td>\n",
       "      <td>3</td>\n",
       "    </tr>\n",
       "    <tr>\n",
       "      <th>194</th>\n",
       "      <td>195</td>\n",
       "      <td>POL</td>\n",
       "      <td>Weronika GRUDZINA</td>\n",
       "      <td>0</td>\n",
       "      <td>30 - 33</td>\n",
       "      <td>0.0</td>\n",
       "      <td>7,027 / 8</td>\n",
       "      <td>30</td>\n",
       "      <td>33</td>\n",
       "      <td>7027</td>\n",
       "      <td>8</td>\n",
       "    </tr>\n",
       "    <tr>\n",
       "      <th>195</th>\n",
       "      <td>196</td>\n",
       "      <td>TPE</td>\n",
       "      <td>Ling Fang HU</td>\n",
       "      <td>0</td>\n",
       "      <td>19 - 20</td>\n",
       "      <td>432.5</td>\n",
       "      <td>6,950 / 7</td>\n",
       "      <td>19</td>\n",
       "      <td>20</td>\n",
       "      <td>6950</td>\n",
       "      <td>7</td>\n",
       "    </tr>\n",
       "    <tr>\n",
       "      <th>196</th>\n",
       "      <td>197</td>\n",
       "      <td>SWE</td>\n",
       "      <td>Behnaz PIRZAMANBEIN</td>\n",
       "      <td>0</td>\n",
       "      <td>28 - 33</td>\n",
       "      <td>0.0</td>\n",
       "      <td>6,930 / 12</td>\n",
       "      <td>28</td>\n",
       "      <td>33</td>\n",
       "      <td>6930</td>\n",
       "      <td>12</td>\n",
       "    </tr>\n",
       "    <tr>\n",
       "      <th>197</th>\n",
       "      <td>198</td>\n",
       "      <td>SIN</td>\n",
       "      <td>Jia Min YEO</td>\n",
       "      <td>0</td>\n",
       "      <td>48 - 19</td>\n",
       "      <td>367.5</td>\n",
       "      <td>6,830 / 5</td>\n",
       "      <td>48</td>\n",
       "      <td>19</td>\n",
       "      <td>6830</td>\n",
       "      <td>5</td>\n",
       "    </tr>\n",
       "  </tbody>\n",
       "</table>\n",
       "<p>6908 rows × 11 columns</p>\n",
       "</div>"
      ],
      "text/plain": [
       "     rank country               player  rank_change_+_- WIN - LOSE  \\\n",
       "115   116     MEX      Haramara GAITAN                0      0 - 0   \n",
       "152   153     CHN          SHEN Yaying                0      0 - 0   \n",
       "156   157     USA          Crystal PAN                0      0 - 0   \n",
       "274   275     INA    Josephine LEONILA                0      0 - 0   \n",
       "394   395     NZL          Gaea GALVEZ                0      0 - 0   \n",
       "..    ...     ...                  ...              ...        ...   \n",
       "193   194     BUL       Stefani STOEVA                0   154 - 59   \n",
       "194   195     POL    Weronika GRUDZINA                0    30 - 33   \n",
       "195   196     TPE         Ling Fang HU                0    19 - 20   \n",
       "196   197     SWE  Behnaz PIRZAMANBEIN                0    28 - 33   \n",
       "197   198     SIN          Jia Min YEO                0    48 - 19   \n",
       "\n",
       "     prize_money_usd POINTS / TOURNAMENTS  win  loss  points  tournaments  \n",
       "115              NaN           14,512 / 9    0     0   14512            9  \n",
       "152              NaN           11,410 / 3    0     0   11410            3  \n",
       "156              NaN           11,040 / 5    0     0   11040            5  \n",
       "274              NaN            4,430 / 4    0     0    4430            4  \n",
       "394              NaN            2,540 / 2    0     0    2540            2  \n",
       "..               ...                  ...  ...   ...     ...          ...  \n",
       "193           6522.5            7,120 / 3  154    59    7120            3  \n",
       "194              0.0            7,027 / 8   30    33    7027            8  \n",
       "195            432.5            6,950 / 7   19    20    6950            7  \n",
       "196              0.0           6,930 / 12   28    33    6930           12  \n",
       "197            367.5            6,830 / 5   48    19    6830            5  \n",
       "\n",
       "[6908 rows x 11 columns]"
      ]
     },
     "execution_count": 164,
     "metadata": {},
     "output_type": "execute_result"
    }
   ],
   "source": [
    "df[df.duplicated()]"
   ]
  },
  {
   "cell_type": "code",
   "execution_count": 165,
   "metadata": {},
   "outputs": [
    {
     "data": {
      "text/plain": [
       "0.10066302367941712"
      ]
     },
     "execution_count": 165,
     "metadata": {},
     "output_type": "execute_result"
    }
   ],
   "source": [
    "sum(df.duplicated()) / df.shape[0]"
   ]
  },
  {
   "cell_type": "markdown",
   "metadata": {},
   "source": [
    "##### Checking for outliers "
   ]
  },
  {
   "cell_type": "code",
   "execution_count": 201,
   "metadata": {},
   "outputs": [
    {
     "data": {
      "text/html": [
       "<div>\n",
       "<style scoped>\n",
       "    .dataframe tbody tr th:only-of-type {\n",
       "        vertical-align: middle;\n",
       "    }\n",
       "\n",
       "    .dataframe tbody tr th {\n",
       "        vertical-align: top;\n",
       "    }\n",
       "\n",
       "    .dataframe thead th {\n",
       "        text-align: right;\n",
       "    }\n",
       "</style>\n",
       "<table border=\"1\" class=\"dataframe\">\n",
       "  <thead>\n",
       "    <tr style=\"text-align: right;\">\n",
       "      <th></th>\n",
       "      <th>rank</th>\n",
       "      <th>rank_change_+_-</th>\n",
       "      <th>prize_money_usd</th>\n",
       "      <th>win</th>\n",
       "      <th>loss</th>\n",
       "      <th>points</th>\n",
       "      <th>tournaments</th>\n",
       "    </tr>\n",
       "  </thead>\n",
       "  <tbody>\n",
       "    <tr>\n",
       "      <th>count</th>\n",
       "      <td>68625.000000</td>\n",
       "      <td>68625.000000</td>\n",
       "      <td>7890.000000</td>\n",
       "      <td>68625.000000</td>\n",
       "      <td>68625.000000</td>\n",
       "      <td>68625.000000</td>\n",
       "      <td>68625.000000</td>\n",
       "    </tr>\n",
       "    <tr>\n",
       "      <th>mean</th>\n",
       "      <td>565.858667</td>\n",
       "      <td>0.053056</td>\n",
       "      <td>44736.113217</td>\n",
       "      <td>9.671913</td>\n",
       "      <td>6.209137</td>\n",
       "      <td>4842.798135</td>\n",
       "      <td>3.778404</td>\n",
       "    </tr>\n",
       "    <tr>\n",
       "      <th>std</th>\n",
       "      <td>325.473499</td>\n",
       "      <td>27.208492</td>\n",
       "      <td>120821.668995</td>\n",
       "      <td>37.888991</td>\n",
       "      <td>22.755327</td>\n",
       "      <td>9883.679371</td>\n",
       "      <td>4.459611</td>\n",
       "    </tr>\n",
       "    <tr>\n",
       "      <th>min</th>\n",
       "      <td>1.000000</td>\n",
       "      <td>-695.000000</td>\n",
       "      <td>0.000000</td>\n",
       "      <td>0.000000</td>\n",
       "      <td>0.000000</td>\n",
       "      <td>2.000000</td>\n",
       "      <td>1.000000</td>\n",
       "    </tr>\n",
       "    <tr>\n",
       "      <th>25%</th>\n",
       "      <td>291.000000</td>\n",
       "      <td>-2.000000</td>\n",
       "      <td>52.500000</td>\n",
       "      <td>0.000000</td>\n",
       "      <td>0.000000</td>\n",
       "      <td>540.000000</td>\n",
       "      <td>1.000000</td>\n",
       "    </tr>\n",
       "    <tr>\n",
       "      <th>50%</th>\n",
       "      <td>564.000000</td>\n",
       "      <td>0.000000</td>\n",
       "      <td>5417.500000</td>\n",
       "      <td>0.000000</td>\n",
       "      <td>0.000000</td>\n",
       "      <td>1090.000000</td>\n",
       "      <td>2.000000</td>\n",
       "    </tr>\n",
       "    <tr>\n",
       "      <th>75%</th>\n",
       "      <td>827.000000</td>\n",
       "      <td>2.000000</td>\n",
       "      <td>26264.000000</td>\n",
       "      <td>0.000000</td>\n",
       "      <td>0.000000</td>\n",
       "      <td>3980.000000</td>\n",
       "      <td>5.000000</td>\n",
       "    </tr>\n",
       "    <tr>\n",
       "      <th>max</th>\n",
       "      <td>1234.000000</td>\n",
       "      <td>749.000000</td>\n",
       "      <td>823403.000000</td>\n",
       "      <td>500.000000</td>\n",
       "      <td>275.000000</td>\n",
       "      <td>95244.000000</td>\n",
       "      <td>30.000000</td>\n",
       "    </tr>\n",
       "  </tbody>\n",
       "</table>\n",
       "</div>"
      ],
      "text/plain": [
       "               rank  rank_change_+_-  prize_money_usd           win  \\\n",
       "count  68625.000000     68625.000000      7890.000000  68625.000000   \n",
       "mean     565.858667         0.053056     44736.113217      9.671913   \n",
       "std      325.473499        27.208492    120821.668995     37.888991   \n",
       "min        1.000000      -695.000000         0.000000      0.000000   \n",
       "25%      291.000000        -2.000000        52.500000      0.000000   \n",
       "50%      564.000000         0.000000      5417.500000      0.000000   \n",
       "75%      827.000000         2.000000     26264.000000      0.000000   \n",
       "max     1234.000000       749.000000    823403.000000    500.000000   \n",
       "\n",
       "               loss        points   tournaments  \n",
       "count  68625.000000  68625.000000  68625.000000  \n",
       "mean       6.209137   4842.798135      3.778404  \n",
       "std       22.755327   9883.679371      4.459611  \n",
       "min        0.000000      2.000000      1.000000  \n",
       "25%        0.000000    540.000000      1.000000  \n",
       "50%        0.000000   1090.000000      2.000000  \n",
       "75%        0.000000   3980.000000      5.000000  \n",
       "max      275.000000  95244.000000     30.000000  "
      ]
     },
     "execution_count": 201,
     "metadata": {},
     "output_type": "execute_result"
    }
   ],
   "source": [
    "df.describe()"
   ]
  },
  {
   "cell_type": "markdown",
   "metadata": {},
   "source": [
    "### List of issues you identiefied using visual and programmatic assessment"
   ]
  },
  {
   "cell_type": "markdown",
   "metadata": {},
   "source": [
    "    1) There are 6908 duplicate rows; 10% duplicate rows in the dataframe. These rows should be dropped."
   ]
  },
  {
   "cell_type": "markdown",
   "metadata": {},
   "source": [
    "### Clean"
   ]
  },
  {
   "cell_type": "markdown",
   "metadata": {},
   "source": [
    "#### Define - There are duplicate rows present in the dataframe, these should be dropped."
   ]
  },
  {
   "cell_type": "markdown",
   "metadata": {},
   "source": [
    "#### Code"
   ]
  },
  {
   "cell_type": "code",
   "execution_count": 202,
   "metadata": {},
   "outputs": [
    {
     "data": {
      "text/plain": [
       "(68625, 11)"
      ]
     },
     "execution_count": 202,
     "metadata": {},
     "output_type": "execute_result"
    }
   ],
   "source": [
    "df.shape"
   ]
  },
  {
   "cell_type": "code",
   "execution_count": 203,
   "metadata": {},
   "outputs": [],
   "source": [
    "df2=df.copy()"
   ]
  },
  {
   "cell_type": "code",
   "execution_count": 204,
   "metadata": {},
   "outputs": [
    {
     "data": {
      "text/plain": [
       "(68625, 11)"
      ]
     },
     "execution_count": 204,
     "metadata": {},
     "output_type": "execute_result"
    }
   ],
   "source": [
    "df2.shape"
   ]
  },
  {
   "cell_type": "code",
   "execution_count": 206,
   "metadata": {},
   "outputs": [],
   "source": [
    "df2=df2.drop_duplicates()"
   ]
  },
  {
   "cell_type": "code",
   "execution_count": 207,
   "metadata": {},
   "outputs": [
    {
     "data": {
      "text/plain": [
       "(61717, 11)"
      ]
     },
     "execution_count": 207,
     "metadata": {},
     "output_type": "execute_result"
    }
   ],
   "source": [
    "df2.shape"
   ]
  },
  {
   "cell_type": "code",
   "execution_count": 208,
   "metadata": {},
   "outputs": [],
   "source": [
    "df=df2"
   ]
  },
  {
   "cell_type": "markdown",
   "metadata": {},
   "source": [
    "#### Test"
   ]
  },
  {
   "cell_type": "code",
   "execution_count": 210,
   "metadata": {},
   "outputs": [
    {
     "data": {
      "text/plain": [
       "(61717, 11)"
      ]
     },
     "execution_count": 210,
     "metadata": {},
     "output_type": "execute_result"
    }
   ],
   "source": [
    "df.shape"
   ]
  },
  {
   "cell_type": "markdown",
   "metadata": {},
   "source": [
    "###### ---------------------------------------------------------------------------------------------"
   ]
  },
  {
   "cell_type": "markdown",
   "metadata": {},
   "source": [
    "<a id='eda'></a>\n",
    "## Exploratory Data Analysis\n",
    "\n",
    "> **Tip**: Now that you've trimmed and cleaned your data, you're ready to move on to exploration. Compute statistics and create visualizations with the goal of addressing the research questions that you posed in the Introduction section. It is recommended that you be systematic with your approach. Look at one variable at a time, and then follow it up by looking at relationships between variables."
   ]
  },
  {
   "cell_type": "markdown",
   "metadata": {},
   "source": [
    "#### Research Question 1: Who is the most busy female singles player; who has played most tournaments in each year?"
   ]
  },
  {
   "cell_type": "code",
   "execution_count": 213,
   "metadata": {},
   "outputs": [
    {
     "data": {
      "text/plain": [
       "array(['rank', 'country', 'player', 'rank_change_+_-', 'WIN - LOSE',\n",
       "       'prize_money_usd', 'POINTS / TOURNAMENTS', 'win', 'loss', 'points',\n",
       "       'tournaments'], dtype=object)"
      ]
     },
     "execution_count": 213,
     "metadata": {},
     "output_type": "execute_result"
    }
   ],
   "source": [
    "df.columns.values"
   ]
  },
  {
   "cell_type": "markdown",
   "metadata": {},
   "source": [
    "Column that will be most useful to answer this question is 'tournaments'"
   ]
  },
  {
   "cell_type": "code",
   "execution_count": 215,
   "metadata": {},
   "outputs": [
    {
     "data": {
      "text/plain": [
       "30"
      ]
     },
     "execution_count": 215,
     "metadata": {},
     "output_type": "execute_result"
    }
   ],
   "source": [
    "max(df.tournaments)"
   ]
  },
  {
   "cell_type": "code",
   "execution_count": 216,
   "metadata": {},
   "outputs": [
    {
     "data": {
      "text/html": [
       "<div>\n",
       "<style scoped>\n",
       "    .dataframe tbody tr th:only-of-type {\n",
       "        vertical-align: middle;\n",
       "    }\n",
       "\n",
       "    .dataframe tbody tr th {\n",
       "        vertical-align: top;\n",
       "    }\n",
       "\n",
       "    .dataframe thead th {\n",
       "        text-align: right;\n",
       "    }\n",
       "</style>\n",
       "<table border=\"1\" class=\"dataframe\">\n",
       "  <thead>\n",
       "    <tr style=\"text-align: right;\">\n",
       "      <th></th>\n",
       "      <th>rank</th>\n",
       "      <th>country</th>\n",
       "      <th>player</th>\n",
       "      <th>rank_change_+_-</th>\n",
       "      <th>WIN - LOSE</th>\n",
       "      <th>prize_money_usd</th>\n",
       "      <th>POINTS / TOURNAMENTS</th>\n",
       "      <th>win</th>\n",
       "      <th>loss</th>\n",
       "      <th>points</th>\n",
       "      <th>tournaments</th>\n",
       "    </tr>\n",
       "  </thead>\n",
       "  <tbody>\n",
       "    <tr>\n",
       "      <th>31</th>\n",
       "      <td>32</td>\n",
       "      <td>USA</td>\n",
       "      <td>Iris WANG</td>\n",
       "      <td>-1</td>\n",
       "      <td>107 - 97</td>\n",
       "      <td>15895.5</td>\n",
       "      <td>33,545 / 30</td>\n",
       "      <td>107</td>\n",
       "      <td>97</td>\n",
       "      <td>33545</td>\n",
       "      <td>30</td>\n",
       "    </tr>\n",
       "  </tbody>\n",
       "</table>\n",
       "</div>"
      ],
      "text/plain": [
       "    rank country     player  rank_change_+_- WIN - LOSE  prize_money_usd  \\\n",
       "31    32     USA  Iris WANG               -1   107 - 97          15895.5   \n",
       "\n",
       "   POINTS / TOURNAMENTS  win  loss  points  tournaments  \n",
       "31          33,545 / 30  107    97   33545           30  "
      ]
     },
     "execution_count": 216,
     "metadata": {},
     "output_type": "execute_result"
    }
   ],
   "source": [
    "df[df.tournaments==30]"
   ]
  },
  {
   "cell_type": "markdown",
   "metadata": {},
   "source": [
    "Iris Wang has played most number of tournaments"
   ]
  },
  {
   "cell_type": "code",
   "execution_count": 227,
   "metadata": {},
   "outputs": [
    {
     "data": {
      "text/html": [
       "<div>\n",
       "<style scoped>\n",
       "    .dataframe tbody tr th:only-of-type {\n",
       "        vertical-align: middle;\n",
       "    }\n",
       "\n",
       "    .dataframe tbody tr th {\n",
       "        vertical-align: top;\n",
       "    }\n",
       "\n",
       "    .dataframe thead th {\n",
       "        text-align: right;\n",
       "    }\n",
       "</style>\n",
       "<table border=\"1\" class=\"dataframe\">\n",
       "  <thead>\n",
       "    <tr style=\"text-align: right;\">\n",
       "      <th></th>\n",
       "      <th>rank</th>\n",
       "      <th>country</th>\n",
       "      <th>player</th>\n",
       "      <th>rank_change_+_-</th>\n",
       "      <th>WIN - LOSE</th>\n",
       "      <th>prize_money_usd</th>\n",
       "      <th>POINTS / TOURNAMENTS</th>\n",
       "      <th>win</th>\n",
       "      <th>loss</th>\n",
       "      <th>points</th>\n",
       "      <th>tournaments</th>\n",
       "    </tr>\n",
       "  </thead>\n",
       "  <tbody>\n",
       "    <tr>\n",
       "      <th>30</th>\n",
       "      <td>31</td>\n",
       "      <td>USA</td>\n",
       "      <td>Iris WANG</td>\n",
       "      <td>0</td>\n",
       "      <td>109 - 100</td>\n",
       "      <td>15085.50</td>\n",
       "      <td>33,545 / 27</td>\n",
       "      <td>109</td>\n",
       "      <td>100</td>\n",
       "      <td>33545</td>\n",
       "      <td>27</td>\n",
       "    </tr>\n",
       "    <tr>\n",
       "      <th>30</th>\n",
       "      <td>31</td>\n",
       "      <td>USA</td>\n",
       "      <td>Iris WANG</td>\n",
       "      <td>0</td>\n",
       "      <td>106 - 95</td>\n",
       "      <td>15475.50</td>\n",
       "      <td>33,545 / 27</td>\n",
       "      <td>106</td>\n",
       "      <td>95</td>\n",
       "      <td>33545</td>\n",
       "      <td>27</td>\n",
       "    </tr>\n",
       "    <tr>\n",
       "      <th>25</th>\n",
       "      <td>26</td>\n",
       "      <td>GER</td>\n",
       "      <td>Karin SCHNAASE</td>\n",
       "      <td>0</td>\n",
       "      <td>218 - 168</td>\n",
       "      <td>23914.55</td>\n",
       "      <td>37,674 / 27</td>\n",
       "      <td>218</td>\n",
       "      <td>168</td>\n",
       "      <td>37674</td>\n",
       "      <td>27</td>\n",
       "    </tr>\n",
       "    <tr>\n",
       "      <th>29</th>\n",
       "      <td>30</td>\n",
       "      <td>USA</td>\n",
       "      <td>Iris WANG</td>\n",
       "      <td>1</td>\n",
       "      <td>106 - 95</td>\n",
       "      <td>15475.50</td>\n",
       "      <td>33,545 / 28</td>\n",
       "      <td>106</td>\n",
       "      <td>95</td>\n",
       "      <td>33545</td>\n",
       "      <td>28</td>\n",
       "    </tr>\n",
       "    <tr>\n",
       "      <th>30</th>\n",
       "      <td>31</td>\n",
       "      <td>USA</td>\n",
       "      <td>Iris WANG</td>\n",
       "      <td>-1</td>\n",
       "      <td>106 - 96</td>\n",
       "      <td>15895.50</td>\n",
       "      <td>33,545 / 29</td>\n",
       "      <td>106</td>\n",
       "      <td>96</td>\n",
       "      <td>33545</td>\n",
       "      <td>29</td>\n",
       "    </tr>\n",
       "    <tr>\n",
       "      <th>30</th>\n",
       "      <td>31</td>\n",
       "      <td>USA</td>\n",
       "      <td>Iris WANG</td>\n",
       "      <td>0</td>\n",
       "      <td>107 - 97</td>\n",
       "      <td>15895.50</td>\n",
       "      <td>33,545 / 29</td>\n",
       "      <td>107</td>\n",
       "      <td>97</td>\n",
       "      <td>33545</td>\n",
       "      <td>29</td>\n",
       "    </tr>\n",
       "    <tr>\n",
       "      <th>25</th>\n",
       "      <td>26</td>\n",
       "      <td>GER</td>\n",
       "      <td>Karin SCHNAASE</td>\n",
       "      <td>0</td>\n",
       "      <td>218 - 168</td>\n",
       "      <td>24334.55</td>\n",
       "      <td>37,734 / 28</td>\n",
       "      <td>218</td>\n",
       "      <td>168</td>\n",
       "      <td>37734</td>\n",
       "      <td>28</td>\n",
       "    </tr>\n",
       "    <tr>\n",
       "      <th>31</th>\n",
       "      <td>32</td>\n",
       "      <td>USA</td>\n",
       "      <td>Iris WANG</td>\n",
       "      <td>-1</td>\n",
       "      <td>107 - 97</td>\n",
       "      <td>15895.50</td>\n",
       "      <td>33,545 / 30</td>\n",
       "      <td>107</td>\n",
       "      <td>97</td>\n",
       "      <td>33545</td>\n",
       "      <td>30</td>\n",
       "    </tr>\n",
       "  </tbody>\n",
       "</table>\n",
       "</div>"
      ],
      "text/plain": [
       "    rank country          player  rank_change_+_- WIN - LOSE  prize_money_usd  \\\n",
       "30    31     USA       Iris WANG                0  109 - 100         15085.50   \n",
       "30    31     USA       Iris WANG                0   106 - 95         15475.50   \n",
       "25    26     GER  Karin SCHNAASE                0  218 - 168         23914.55   \n",
       "29    30     USA       Iris WANG                1   106 - 95         15475.50   \n",
       "30    31     USA       Iris WANG               -1   106 - 96         15895.50   \n",
       "30    31     USA       Iris WANG                0   107 - 97         15895.50   \n",
       "25    26     GER  Karin SCHNAASE                0  218 - 168         24334.55   \n",
       "31    32     USA       Iris WANG               -1   107 - 97         15895.50   \n",
       "\n",
       "   POINTS / TOURNAMENTS  win  loss  points  tournaments  \n",
       "30          33,545 / 27  109   100   33545           27  \n",
       "30          33,545 / 27  106    95   33545           27  \n",
       "25          37,674 / 27  218   168   37674           27  \n",
       "29          33,545 / 28  106    95   33545           28  \n",
       "30          33,545 / 29  106    96   33545           29  \n",
       "30          33,545 / 29  107    97   33545           29  \n",
       "25          37,734 / 28  218   168   37734           28  \n",
       "31          33,545 / 30  107    97   33545           30  "
      ]
     },
     "execution_count": 227,
     "metadata": {},
     "output_type": "execute_result"
    }
   ],
   "source": [
    "df[df['tournaments'].between(27,35)]"
   ]
  },
  {
   "cell_type": "markdown",
   "metadata": {},
   "source": [
    "#### Research Question 2  List of female singles players who made most prize money in each year"
   ]
  },
  {
   "cell_type": "markdown",
   "metadata": {},
   "source": [
    "Column that will be most useful to answer this question is 'prize_money_usd'"
   ]
  },
  {
   "cell_type": "markdown",
   "metadata": {},
   "source": [
    "Find maximum prize money won"
   ]
  },
  {
   "cell_type": "code",
   "execution_count": 230,
   "metadata": {},
   "outputs": [
    {
     "data": {
      "text/plain": [
       "823403.0"
      ]
     },
     "execution_count": 230,
     "metadata": {},
     "output_type": "execute_result"
    }
   ],
   "source": [
    "max(df.prize_money_usd)"
   ]
  },
  {
   "cell_type": "code",
   "execution_count": 231,
   "metadata": {},
   "outputs": [
    {
     "data": {
      "text/html": [
       "<div>\n",
       "<style scoped>\n",
       "    .dataframe tbody tr th:only-of-type {\n",
       "        vertical-align: middle;\n",
       "    }\n",
       "\n",
       "    .dataframe tbody tr th {\n",
       "        vertical-align: top;\n",
       "    }\n",
       "\n",
       "    .dataframe thead th {\n",
       "        text-align: right;\n",
       "    }\n",
       "</style>\n",
       "<table border=\"1\" class=\"dataframe\">\n",
       "  <thead>\n",
       "    <tr style=\"text-align: right;\">\n",
       "      <th></th>\n",
       "      <th>rank</th>\n",
       "      <th>country</th>\n",
       "      <th>player</th>\n",
       "      <th>rank_change_+_-</th>\n",
       "      <th>WIN - LOSE</th>\n",
       "      <th>prize_money_usd</th>\n",
       "      <th>POINTS / TOURNAMENTS</th>\n",
       "      <th>win</th>\n",
       "      <th>loss</th>\n",
       "      <th>points</th>\n",
       "      <th>tournaments</th>\n",
       "    </tr>\n",
       "  </thead>\n",
       "  <tbody>\n",
       "    <tr>\n",
       "      <th>3</th>\n",
       "      <td>4</td>\n",
       "      <td>CHN</td>\n",
       "      <td>WANG Yihan</td>\n",
       "      <td>0</td>\n",
       "      <td>343 - 84</td>\n",
       "      <td>823403.0</td>\n",
       "      <td>72,238 / 17</td>\n",
       "      <td>343</td>\n",
       "      <td>84</td>\n",
       "      <td>72238</td>\n",
       "      <td>17</td>\n",
       "    </tr>\n",
       "    <tr>\n",
       "      <th>4</th>\n",
       "      <td>5</td>\n",
       "      <td>CHN</td>\n",
       "      <td>WANG Yihan</td>\n",
       "      <td>-1</td>\n",
       "      <td>343 - 84</td>\n",
       "      <td>823403.0</td>\n",
       "      <td>72,238 / 17</td>\n",
       "      <td>343</td>\n",
       "      <td>84</td>\n",
       "      <td>72238</td>\n",
       "      <td>17</td>\n",
       "    </tr>\n",
       "  </tbody>\n",
       "</table>\n",
       "</div>"
      ],
      "text/plain": [
       "   rank country      player  rank_change_+_- WIN - LOSE  prize_money_usd  \\\n",
       "3     4     CHN  WANG Yihan                0   343 - 84         823403.0   \n",
       "4     5     CHN  WANG Yihan               -1   343 - 84         823403.0   \n",
       "\n",
       "  POINTS / TOURNAMENTS  win  loss  points  tournaments  \n",
       "3          72,238 / 17  343    84   72238           17  \n",
       "4          72,238 / 17  343    84   72238           17  "
      ]
     },
     "execution_count": 231,
     "metadata": {},
     "output_type": "execute_result"
    }
   ],
   "source": [
    "df[df['prize_money_usd']==max(df.prize_money_usd)]"
   ]
  },
  {
   "cell_type": "markdown",
   "metadata": {},
   "source": [
    "Yihan Wang is the player with most amount of prize money; $823403.0"
   ]
  },
  {
   "cell_type": "markdown",
   "metadata": {},
   "source": [
    "#### Research Question 3  List of female singles players who have most change in their ranking. output should contain respective change in ranking as well."
   ]
  },
  {
   "cell_type": "code",
   "execution_count": 233,
   "metadata": {},
   "outputs": [
    {
     "data": {
      "text/plain": [
       "array(['rank', 'country', 'player', 'rank_change_+_-', 'WIN - LOSE',\n",
       "       'prize_money_usd', 'POINTS / TOURNAMENTS', 'win', 'loss', 'points',\n",
       "       'tournaments'], dtype=object)"
      ]
     },
     "execution_count": 233,
     "metadata": {},
     "output_type": "execute_result"
    }
   ],
   "source": [
    "df.columns.values"
   ]
  },
  {
   "cell_type": "markdown",
   "metadata": {},
   "source": [
    "columns to use to answer this question will be rank_change_+_-. "
   ]
  },
  {
   "cell_type": "code",
   "execution_count": 235,
   "metadata": {},
   "outputs": [
    {
     "data": {
      "text/plain": [
       "(-695, 749)"
      ]
     },
     "execution_count": 235,
     "metadata": {},
     "output_type": "execute_result"
    }
   ],
   "source": [
    "df['rank_change_+_-'].min(), df['rank_change_+_-'].max()"
   ]
  },
  {
   "cell_type": "markdown",
   "metadata": {},
   "source": [
    "Player with most drop in ranking"
   ]
  },
  {
   "cell_type": "code",
   "execution_count": 237,
   "metadata": {},
   "outputs": [
    {
     "data": {
      "text/plain": [
       "-695"
      ]
     },
     "execution_count": 237,
     "metadata": {},
     "output_type": "execute_result"
    }
   ],
   "source": [
    "df['rank_change_+_-'].min()"
   ]
  },
  {
   "cell_type": "code",
   "execution_count": 238,
   "metadata": {},
   "outputs": [
    {
     "data": {
      "text/html": [
       "<div>\n",
       "<style scoped>\n",
       "    .dataframe tbody tr th:only-of-type {\n",
       "        vertical-align: middle;\n",
       "    }\n",
       "\n",
       "    .dataframe tbody tr th {\n",
       "        vertical-align: top;\n",
       "    }\n",
       "\n",
       "    .dataframe thead th {\n",
       "        text-align: right;\n",
       "    }\n",
       "</style>\n",
       "<table border=\"1\" class=\"dataframe\">\n",
       "  <thead>\n",
       "    <tr style=\"text-align: right;\">\n",
       "      <th></th>\n",
       "      <th>rank</th>\n",
       "      <th>country</th>\n",
       "      <th>player</th>\n",
       "      <th>rank_change_+_-</th>\n",
       "      <th>WIN - LOSE</th>\n",
       "      <th>prize_money_usd</th>\n",
       "      <th>POINTS / TOURNAMENTS</th>\n",
       "      <th>win</th>\n",
       "      <th>loss</th>\n",
       "      <th>points</th>\n",
       "      <th>tournaments</th>\n",
       "    </tr>\n",
       "  </thead>\n",
       "  <tbody>\n",
       "    <tr>\n",
       "      <th>1022</th>\n",
       "      <td>1014</td>\n",
       "      <td>TPE</td>\n",
       "      <td>SU Hsiang Ling</td>\n",
       "      <td>-695</td>\n",
       "      <td>0 - 0</td>\n",
       "      <td>NaN</td>\n",
       "      <td>240 / 1</td>\n",
       "      <td>0</td>\n",
       "      <td>0</td>\n",
       "      <td>240</td>\n",
       "      <td>1</td>\n",
       "    </tr>\n",
       "  </tbody>\n",
       "</table>\n",
       "</div>"
      ],
      "text/plain": [
       "      rank country          player  rank_change_+_- WIN - LOSE  \\\n",
       "1022  1014     TPE  SU Hsiang Ling             -695      0 - 0   \n",
       "\n",
       "      prize_money_usd POINTS / TOURNAMENTS  win  loss  points  tournaments  \n",
       "1022              NaN              240 / 1    0     0     240            1  "
      ]
     },
     "execution_count": 238,
     "metadata": {},
     "output_type": "execute_result"
    }
   ],
   "source": [
    "df[df['rank_change_+_-']==df['rank_change_+_-'].min()]"
   ]
  },
  {
   "cell_type": "markdown",
   "metadata": {},
   "source": [
    "Player with most gain in ranking"
   ]
  },
  {
   "cell_type": "code",
   "execution_count": 239,
   "metadata": {},
   "outputs": [
    {
     "data": {
      "text/plain": [
       "749"
      ]
     },
     "execution_count": 239,
     "metadata": {},
     "output_type": "execute_result"
    }
   ],
   "source": [
    "df['rank_change_+_-'].max()"
   ]
  },
  {
   "cell_type": "code",
   "execution_count": 240,
   "metadata": {},
   "outputs": [
    {
     "data": {
      "text/html": [
       "<div>\n",
       "<style scoped>\n",
       "    .dataframe tbody tr th:only-of-type {\n",
       "        vertical-align: middle;\n",
       "    }\n",
       "\n",
       "    .dataframe tbody tr th {\n",
       "        vertical-align: top;\n",
       "    }\n",
       "\n",
       "    .dataframe thead th {\n",
       "        text-align: right;\n",
       "    }\n",
       "</style>\n",
       "<table border=\"1\" class=\"dataframe\">\n",
       "  <thead>\n",
       "    <tr style=\"text-align: right;\">\n",
       "      <th></th>\n",
       "      <th>rank</th>\n",
       "      <th>country</th>\n",
       "      <th>player</th>\n",
       "      <th>rank_change_+_-</th>\n",
       "      <th>WIN - LOSE</th>\n",
       "      <th>prize_money_usd</th>\n",
       "      <th>POINTS / TOURNAMENTS</th>\n",
       "      <th>win</th>\n",
       "      <th>loss</th>\n",
       "      <th>points</th>\n",
       "      <th>tournaments</th>\n",
       "    </tr>\n",
       "  </thead>\n",
       "  <tbody>\n",
       "    <tr>\n",
       "      <th>340</th>\n",
       "      <td>341</td>\n",
       "      <td>MRI</td>\n",
       "      <td>Nicki CHAN-LAM</td>\n",
       "      <td>749</td>\n",
       "      <td>0 - 0</td>\n",
       "      <td>NaN</td>\n",
       "      <td>2,884 / 2</td>\n",
       "      <td>0</td>\n",
       "      <td>0</td>\n",
       "      <td>2884</td>\n",
       "      <td>2</td>\n",
       "    </tr>\n",
       "  </tbody>\n",
       "</table>\n",
       "</div>"
      ],
      "text/plain": [
       "     rank country          player  rank_change_+_- WIN - LOSE  \\\n",
       "340   341     MRI  Nicki CHAN-LAM              749      0 - 0   \n",
       "\n",
       "     prize_money_usd POINTS / TOURNAMENTS  win  loss  points  tournaments  \n",
       "340              NaN            2,884 / 2    0     0    2884            2  "
      ]
     },
     "execution_count": 240,
     "metadata": {},
     "output_type": "execute_result"
    }
   ],
   "source": [
    "df[df['rank_change_+_-']==df['rank_change_+_-'].max()]"
   ]
  },
  {
   "cell_type": "markdown",
   "metadata": {},
   "source": [
    "Most drop in ranking = SU Hsiang Ling of country Taiwan (Chinese Taipei).\n",
    "<br> Most gain in ranking = Nicki CHAN-LAM of country Mauritius."
   ]
  },
  {
   "cell_type": "markdown",
   "metadata": {},
   "source": [
    "#### Research Question 4 -  List of female singles players who have most change in their ranking for each week. output should contain respective change in ranking as well."
   ]
  },
  {
   "cell_type": "markdown",
   "metadata": {},
   "source": [
    "This question will be answered in next iteration of the notebook when week number is incorporated in the data."
   ]
  },
  {
   "cell_type": "code",
   "execution_count": 241,
   "metadata": {},
   "outputs": [],
   "source": [
    "# Continue to explore the data to address your additional research\n",
    "#   questions. Add more headers as needed if you have more questions to\n",
    "#   investigate.\n"
   ]
  },
  {
   "cell_type": "markdown",
   "metadata": {},
   "source": [
    "#### Research Question 5 -  Female singles players who is a kick addict queen - someone who has least difference in win - loss points"
   ]
  },
  {
   "cell_type": "code",
   "execution_count": 242,
   "metadata": {},
   "outputs": [
    {
     "data": {
      "text/plain": [
       "array(['rank', 'country', 'player', 'rank_change_+_-', 'WIN - LOSE',\n",
       "       'prize_money_usd', 'POINTS / TOURNAMENTS', 'win', 'loss', 'points',\n",
       "       'tournaments'], dtype=object)"
      ]
     },
     "execution_count": 242,
     "metadata": {},
     "output_type": "execute_result"
    }
   ],
   "source": [
    "df.columns.values"
   ]
  },
  {
   "cell_type": "markdown",
   "metadata": {},
   "source": [
    "COlumns that will be used to answer this question is win and loss"
   ]
  },
  {
   "cell_type": "code",
   "execution_count": 246,
   "metadata": {},
   "outputs": [
    {
     "data": {
      "text/html": [
       "<div>\n",
       "<style scoped>\n",
       "    .dataframe tbody tr th:only-of-type {\n",
       "        vertical-align: middle;\n",
       "    }\n",
       "\n",
       "    .dataframe tbody tr th {\n",
       "        vertical-align: top;\n",
       "    }\n",
       "\n",
       "    .dataframe thead th {\n",
       "        text-align: right;\n",
       "    }\n",
       "</style>\n",
       "<table border=\"1\" class=\"dataframe\">\n",
       "  <thead>\n",
       "    <tr style=\"text-align: right;\">\n",
       "      <th></th>\n",
       "      <th>rank</th>\n",
       "      <th>country</th>\n",
       "      <th>player</th>\n",
       "      <th>rank_change_+_-</th>\n",
       "      <th>WIN - LOSE</th>\n",
       "      <th>prize_money_usd</th>\n",
       "      <th>POINTS / TOURNAMENTS</th>\n",
       "      <th>win</th>\n",
       "      <th>loss</th>\n",
       "      <th>points</th>\n",
       "      <th>tournaments</th>\n",
       "    </tr>\n",
       "  </thead>\n",
       "  <tbody>\n",
       "    <tr>\n",
       "      <th>309</th>\n",
       "      <td>310</td>\n",
       "      <td>ESP</td>\n",
       "      <td>Isabel FERNANDEZ</td>\n",
       "      <td>-1</td>\n",
       "      <td>0 - 0</td>\n",
       "      <td>NaN</td>\n",
       "      <td>3,690 / 6</td>\n",
       "      <td>0</td>\n",
       "      <td>0</td>\n",
       "      <td>3690</td>\n",
       "      <td>6</td>\n",
       "    </tr>\n",
       "    <tr>\n",
       "      <th>416</th>\n",
       "      <td>417</td>\n",
       "      <td>PHI</td>\n",
       "      <td>Airah Mae Nicole ALBO</td>\n",
       "      <td>0</td>\n",
       "      <td>0 - 0</td>\n",
       "      <td>NaN</td>\n",
       "      <td>2,021 / 4</td>\n",
       "      <td>0</td>\n",
       "      <td>0</td>\n",
       "      <td>2021</td>\n",
       "      <td>4</td>\n",
       "    </tr>\n",
       "    <tr>\n",
       "      <th>608</th>\n",
       "      <td>564</td>\n",
       "      <td>SRI</td>\n",
       "      <td>WADUTHANTRI Kavindika Binari De Silva</td>\n",
       "      <td>5</td>\n",
       "      <td>0 - 0</td>\n",
       "      <td>NaN</td>\n",
       "      <td>920 / 1</td>\n",
       "      <td>0</td>\n",
       "      <td>0</td>\n",
       "      <td>920</td>\n",
       "      <td>1</td>\n",
       "    </tr>\n",
       "    <tr>\n",
       "      <th>949</th>\n",
       "      <td>926</td>\n",
       "      <td>MRI</td>\n",
       "      <td>Amjum RASSOOLKHAN</td>\n",
       "      <td>3</td>\n",
       "      <td>0 - 0</td>\n",
       "      <td>NaN</td>\n",
       "      <td>210 / 1</td>\n",
       "      <td>0</td>\n",
       "      <td>0</td>\n",
       "      <td>210</td>\n",
       "      <td>1</td>\n",
       "    </tr>\n",
       "    <tr>\n",
       "      <th>545</th>\n",
       "      <td>541</td>\n",
       "      <td>SLO</td>\n",
       "      <td>Maja TVRDY</td>\n",
       "      <td>0</td>\n",
       "      <td>0 - 0</td>\n",
       "      <td>NaN</td>\n",
       "      <td>1,100 / 2</td>\n",
       "      <td>0</td>\n",
       "      <td>0</td>\n",
       "      <td>1100</td>\n",
       "      <td>2</td>\n",
       "    </tr>\n",
       "    <tr>\n",
       "      <th>973</th>\n",
       "      <td>974</td>\n",
       "      <td>USA</td>\n",
       "      <td>Candy ZHANG</td>\n",
       "      <td>0</td>\n",
       "      <td>0 - 0</td>\n",
       "      <td>NaN</td>\n",
       "      <td>320 / 1</td>\n",
       "      <td>0</td>\n",
       "      <td>0</td>\n",
       "      <td>320</td>\n",
       "      <td>1</td>\n",
       "    </tr>\n",
       "    <tr>\n",
       "      <th>1159</th>\n",
       "      <td>1160</td>\n",
       "      <td>LTU</td>\n",
       "      <td>Elizabet BERZANSKYTE</td>\n",
       "      <td>-12</td>\n",
       "      <td>0 - 0</td>\n",
       "      <td>NaN</td>\n",
       "      <td>60 / 1</td>\n",
       "      <td>0</td>\n",
       "      <td>0</td>\n",
       "      <td>60</td>\n",
       "      <td>1</td>\n",
       "    </tr>\n",
       "  </tbody>\n",
       "</table>\n",
       "</div>"
      ],
      "text/plain": [
       "      rank country                                 player  rank_change_+_-  \\\n",
       "309    310     ESP                       Isabel FERNANDEZ               -1   \n",
       "416    417     PHI                  Airah Mae Nicole ALBO                0   \n",
       "608    564     SRI  WADUTHANTRI Kavindika Binari De Silva                5   \n",
       "949    926     MRI                      Amjum RASSOOLKHAN                3   \n",
       "545    541     SLO                             Maja TVRDY                0   \n",
       "973    974     USA                            Candy ZHANG                0   \n",
       "1159  1160     LTU                   Elizabet BERZANSKYTE              -12   \n",
       "\n",
       "     WIN - LOSE  prize_money_usd POINTS / TOURNAMENTS  win  loss  points  \\\n",
       "309       0 - 0              NaN            3,690 / 6    0     0    3690   \n",
       "416       0 - 0              NaN            2,021 / 4    0     0    2021   \n",
       "608       0 - 0              NaN              920 / 1    0     0     920   \n",
       "949       0 - 0              NaN              210 / 1    0     0     210   \n",
       "545       0 - 0              NaN            1,100 / 2    0     0    1100   \n",
       "973       0 - 0              NaN              320 / 1    0     0     320   \n",
       "1159      0 - 0              NaN               60 / 1    0     0      60   \n",
       "\n",
       "      tournaments  \n",
       "309             6  \n",
       "416             4  \n",
       "608             1  \n",
       "949             1  \n",
       "545             2  \n",
       "973             1  \n",
       "1159            1  "
      ]
     },
     "execution_count": 246,
     "metadata": {},
     "output_type": "execute_result"
    }
   ],
   "source": [
    "df.sample(7)"
   ]
  },
  {
   "cell_type": "code",
   "execution_count": 245,
   "metadata": {},
   "outputs": [
    {
     "data": {
      "text/html": [
       "<div>\n",
       "<style scoped>\n",
       "    .dataframe tbody tr th:only-of-type {\n",
       "        vertical-align: middle;\n",
       "    }\n",
       "\n",
       "    .dataframe tbody tr th {\n",
       "        vertical-align: top;\n",
       "    }\n",
       "\n",
       "    .dataframe thead th {\n",
       "        text-align: right;\n",
       "    }\n",
       "</style>\n",
       "<table border=\"1\" class=\"dataframe\">\n",
       "  <thead>\n",
       "    <tr style=\"text-align: right;\">\n",
       "      <th></th>\n",
       "      <th>rank</th>\n",
       "      <th>country</th>\n",
       "      <th>player</th>\n",
       "      <th>rank_change_+_-</th>\n",
       "      <th>win</th>\n",
       "      <th>loss</th>\n",
       "      <th>points</th>\n",
       "      <th>tournaments</th>\n",
       "    </tr>\n",
       "  </thead>\n",
       "  <tbody>\n",
       "    <tr>\n",
       "      <th>897</th>\n",
       "      <td>897</td>\n",
       "      <td>JPN</td>\n",
       "      <td>Hirari MIZUI</td>\n",
       "      <td>-1</td>\n",
       "      <td>0</td>\n",
       "      <td>0</td>\n",
       "      <td>360</td>\n",
       "      <td>1</td>\n",
       "    </tr>\n",
       "    <tr>\n",
       "      <th>172</th>\n",
       "      <td>173</td>\n",
       "      <td>RUS</td>\n",
       "      <td>Evgenia DIMOVA</td>\n",
       "      <td>0</td>\n",
       "      <td>0</td>\n",
       "      <td>0</td>\n",
       "      <td>8830</td>\n",
       "      <td>10</td>\n",
       "    </tr>\n",
       "    <tr>\n",
       "      <th>683</th>\n",
       "      <td>684</td>\n",
       "      <td>MAC</td>\n",
       "      <td>CHAN Kit Lei</td>\n",
       "      <td>-10</td>\n",
       "      <td>0</td>\n",
       "      <td>0</td>\n",
       "      <td>750</td>\n",
       "      <td>2</td>\n",
       "    </tr>\n",
       "    <tr>\n",
       "      <th>865</th>\n",
       "      <td>752</td>\n",
       "      <td>POR</td>\n",
       "      <td>Helena PESTANA</td>\n",
       "      <td>10</td>\n",
       "      <td>0</td>\n",
       "      <td>0</td>\n",
       "      <td>550</td>\n",
       "      <td>1</td>\n",
       "    </tr>\n",
       "    <tr>\n",
       "      <th>802</th>\n",
       "      <td>714</td>\n",
       "      <td>NED</td>\n",
       "      <td>Manon SIBBALD</td>\n",
       "      <td>1</td>\n",
       "      <td>0</td>\n",
       "      <td>0</td>\n",
       "      <td>550</td>\n",
       "      <td>1</td>\n",
       "    </tr>\n",
       "    <tr>\n",
       "      <th>904</th>\n",
       "      <td>905</td>\n",
       "      <td>NZL</td>\n",
       "      <td>Celine SHAO</td>\n",
       "      <td>-5</td>\n",
       "      <td>0</td>\n",
       "      <td>0</td>\n",
       "      <td>350</td>\n",
       "      <td>1</td>\n",
       "    </tr>\n",
       "    <tr>\n",
       "      <th>1103</th>\n",
       "      <td>1090</td>\n",
       "      <td>SWE</td>\n",
       "      <td>Linda Marie DANIELSSON</td>\n",
       "      <td>24</td>\n",
       "      <td>0</td>\n",
       "      <td>0</td>\n",
       "      <td>70</td>\n",
       "      <td>1</td>\n",
       "    </tr>\n",
       "  </tbody>\n",
       "</table>\n",
       "</div>"
      ],
      "text/plain": [
       "      rank country                  player  rank_change_+_-  win  loss  \\\n",
       "897    897     JPN            Hirari MIZUI               -1    0     0   \n",
       "172    173     RUS          Evgenia DIMOVA                0    0     0   \n",
       "683    684     MAC            CHAN Kit Lei              -10    0     0   \n",
       "865    752     POR          Helena PESTANA               10    0     0   \n",
       "802    714     NED           Manon SIBBALD                1    0     0   \n",
       "904    905     NZL             Celine SHAO               -5    0     0   \n",
       "1103  1090     SWE  Linda Marie DANIELSSON               24    0     0   \n",
       "\n",
       "      points  tournaments  \n",
       "897      360            1  \n",
       "172     8830           10  \n",
       "683      750            2  \n",
       "865      550            1  \n",
       "802      550            1  \n",
       "904      350            1  \n",
       "1103      70            1  "
      ]
     },
     "execution_count": 245,
     "metadata": {},
     "output_type": "execute_result"
    }
   ],
   "source": [
    "df[['rank', 'country', 'player', 'rank_change_+_-', \n",
    "       'win', 'loss', 'points',\n",
    "       'tournaments']].sample(7)"
   ]
  },
  {
   "cell_type": "code",
   "execution_count": 247,
   "metadata": {},
   "outputs": [
    {
     "data": {
      "text/plain": [
       "0      55624\n",
       "1        248\n",
       "2        177\n",
       "3        129\n",
       "4        122\n",
       "       ...  \n",
       "243        1\n",
       "306        1\n",
       "210        1\n",
       "354        1\n",
       "339        1\n",
       "Name: win, Length: 308, dtype: int64"
      ]
     },
     "execution_count": 247,
     "metadata": {},
     "output_type": "execute_result"
    }
   ],
   "source": [
    "df.win.value_counts()"
   ]
  },
  {
   "cell_type": "markdown",
   "metadata": {},
   "source": [
    "##### We do not have points gained and points lost per match or per week for a player to answer this question."
   ]
  },
  {
   "cell_type": "markdown",
   "metadata": {},
   "source": [
    "#### Research Question 6 -  Female singles players who is a kick dominator queen - someone who has highest difference in win - loss points"
   ]
  },
  {
   "cell_type": "markdown",
   "metadata": {},
   "source": [
    "##### We do not have points gained and points lost per match or per week for a player to answer this question."
   ]
  },
  {
   "cell_type": "code",
   "execution_count": null,
   "metadata": {
    "collapsed": true
   },
   "outputs": [],
   "source": [
    "# Continue to explore the data to address your additional research\n",
    "#   questions. Add more headers as needed if you have more questions to\n",
    "#   investigate.\n"
   ]
  },
  {
   "cell_type": "markdown",
   "metadata": {},
   "source": [
    "<a id='conclusions'></a>\n",
    "## Conclusions\n",
    "\n",
    "> **Tip**: Finally, summarize your findings and the results that have been performed. Make sure that you are clear with regards to the limitations of your exploration. If you haven't done any statistical tests, do not imply any statistical conclusions. And make sure you avoid implying causation from correlation!\n",
    "\n",
    "> **Tip**: Once you are satisfied with your work here, check over your report to make sure that it is satisfies all the areas of the rubric (found on the project submission page at the end of the lesson). You should also probably remove all of the \"Tips\" like this one so that the presentation is as polished as possible.\n",
    "\n",
    "## Submitting your Project \n",
    "\n",
    "> Before you submit your project, you need to create a .html or .pdf version of this notebook in the workspace here. To do that, run the code cell below. If it worked correctly, you should get a return code of 0, and you should see the generated .html file in the workspace directory (click on the orange Jupyter icon in the upper left).\n",
    "\n",
    "> Alternatively, you can download this report as .html via the **File** > **Download as** submenu, and then manually upload it into the workspace directory by clicking on the orange Jupyter icon in the upper left, then using the Upload button.\n",
    "\n",
    "> Once you've done this, you can submit your project by clicking on the \"Submit Project\" button in the lower right here. This will create and submit a zip file with this .ipynb doc and the .html or .pdf version you created. Congratulations!"
   ]
  },
  {
   "cell_type": "code",
   "execution_count": null,
   "metadata": {
    "collapsed": true
   },
   "outputs": [],
   "source": [
    "from subprocess import call\n",
    "call(['python', '-m', 'nbconvert', 'Investigate_a_Dataset.ipynb'])"
   ]
  }
 ],
 "metadata": {
  "kernelspec": {
   "display_name": "Python 3",
   "language": "python",
   "name": "python3"
  },
  "language_info": {
   "codemirror_mode": {
    "name": "ipython",
    "version": 3
   },
   "file_extension": ".py",
   "mimetype": "text/x-python",
   "name": "python",
   "nbconvert_exporter": "python",
   "pygments_lexer": "ipython3",
   "version": "3.7.7"
  }
 },
 "nbformat": 4,
 "nbformat_minor": 2
}
